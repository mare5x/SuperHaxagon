{
 "cells": [
  {
   "cell_type": "markdown",
   "metadata": {},
   "source": [
    "# Game state analysis"
   ]
  },
  {
   "cell_type": "code",
   "execution_count": 1,
   "metadata": {},
   "outputs": [],
   "source": [
    "import numpy as np\n",
    "import pathlib\n",
    "import matplotlib.pyplot as plt\n",
    "from tqdm import tqdm\n",
    "import pandas as pd"
   ]
  },
  {
   "cell_type": "code",
   "execution_count": 2,
   "metadata": {},
   "outputs": [],
   "source": [
    "with open(\"../game_state_dqn.txt\", \"r\") as f:\n",
    "    lines = f.readlines()\n",
    "states = [list(map(float, line.strip().split())) for line in lines[::2]]\n",
    "actions = [float(line.strip()) for line in lines[1::2]]"
   ]
  },
  {
   "cell_type": "code",
   "execution_count": 3,
   "metadata": {},
   "outputs": [
    {
     "name": "stdout",
     "output_type": "stream",
     "text": [
      "(0.584683, 0.036819)\n",
      "0.20000800000000396\n"
     ]
    },
    {
     "data": {
      "text/plain": [
       "{'walls': array([[0.36377 , 0.036819],\n",
       "        [0.145066, 0.036819],\n",
       "        [0.36377 , 0.036819],\n",
       "        [0.145066, 0.036819],\n",
       "        [0.584683, 0.036819],\n",
       "        [0.145066, 0.036819]]),\n",
       " 'n_slots': 6,\n",
       " 'cur_slot': 4,\n",
       " 'player_pos': 4.433334,\n",
       " 'world_rotation': 1.0}"
      ]
     },
     "execution_count": 3,
     "metadata": {},
     "output_type": "execute_result"
    }
   ],
   "source": [
    "def state_to_struct(state: list) -> dict:\n",
    "    walls = np.array(state[:12]).reshape(6, 2)\n",
    "    n_slots = state[13:16].index(1) + 4\n",
    "    cur_slot = next(i for i, x in enumerate(state[16:16+6]) if x > 0)\n",
    "    return {\n",
    "        \"walls\": walls,\n",
    "        \"n_slots\": n_slots,\n",
    "        \"cur_slot\": cur_slot,\n",
    "        \"player_pos\": state[22] * n_slots,\n",
    "        \"world_rotation\": state[23],\n",
    "    }\n",
    "\n",
    "def get_cur_wall_dist(state_struct: dict) -> tuple:\n",
    "    dist, width = state_struct[\"walls\"][state_struct[\"cur_slot\"]]\n",
    "    return dist, width\n",
    "\n",
    "def get_cur_center_offset(state_struct: dict) -> float:\n",
    "    # -1: left edge, 0: center, 1: right edge\n",
    "    pos = state_struct[\"player_pos\"] * state_struct[\"n_slots\"] \n",
    "    return (pos % 1.0) * 2.0 - 1.0\n",
    "\n",
    "state_struct = state_to_struct(list(states[1000]))\n",
    "print(get_cur_wall_dist(state_struct))\n",
    "print(get_cur_center_offset(state_struct))\n",
    "state_struct"
   ]
  },
  {
   "cell_type": "code",
   "execution_count": 4,
   "metadata": {},
   "outputs": [
    {
     "data": {
      "text/plain": [
       "tensor([1, 2])"
      ]
     },
     "execution_count": 4,
     "metadata": {},
     "output_type": "execute_result"
    }
   ],
   "source": [
    "import torch\n",
    "p = torch.tensor([[1,2,3], [-1,-2,0]], dtype=torch.float32)\n",
    "c = torch.distributions.Categorical(logits=p)\n",
    "c.sample()"
   ]
  },
  {
   "cell_type": "code",
   "execution_count": 6,
   "metadata": {},
   "outputs": [
    {
     "name": "stderr",
     "output_type": "stream",
     "text": [
      "1000it [01:53,  8.83it/s]\n"
     ]
    },
    {
     "data": {
      "image/png": "[encoded data removed]",
      "text/plain": [
       "<Figure size 432x288 with 1 Axes>"
      ]
     },
     "metadata": {
      "needs_background": "light"
     },
     "output_type": "display_data"
    }
   ],
   "source": [
    "default_reward = 0.1\n",
    "reward_slot_center_amount = 0.2\n",
    "\n",
    "def reward(state_struct):\n",
    "    r = default_reward\n",
    "    center_offset = get_cur_center_offset(state_struct)\n",
    "    r += reward_slot_center_amount * pow(1 - abs(center_offset), 4)\n",
    "    wall_dist, wall_width = get_cur_wall_dist(state_struct)\n",
    "    r += wall_dist\n",
    "    return r\n",
    "\n",
    "def plot_state(ax, state):\n",
    "    state_struct = state_to_struct(state)\n",
    "    ax.set_ylim(0, 1.0)\n",
    "    ax.bar(list(range(state_struct[\"n_slots\"])), height=state_struct[\"walls\"][:state_struct[\"n_slots\"],1], bottom=state_struct[\"walls\"][:state_struct[\"n_slots\"],0], width=1.0, align='edge')\n",
    "    cur_slot = [0] * state_struct[\"n_slots\"]\n",
    "    cur_slot[state_struct[\"cur_slot\"]] = 1\n",
    "    ax.bar(list(range(state_struct[\"n_slots\"])), height=cur_slot, bottom=0, width=1.0, align='edge', alpha=0.5)  # Current player slot\n",
    "    ax.plot(state_struct[\"player_pos\"], 0, 'ro')  # Player position\n",
    "    ax.text(0.02, 0.9, f\"rotation = {state_struct['world_rotation']} | reward = {reward(state_struct)}\")\n",
    "\n",
    "fig, ax = plt.subplots()\n",
    "pathlib.Path(\"./figs/\").mkdir(parents=True, exist_ok=True)\n",
    "for i, state in tqdm(enumerate(states[1000:2000])):\n",
    "    ax.cla()\n",
    "    plot_state(ax, state)\n",
    "    plt.savefig(f\"./figs/{i:05}.png\")"
   ]
  },
  {
   "cell_type": "markdown",
   "metadata": {},
   "source": [
    "## Create animation of game state"
   ]
  },
  {
   "cell_type": "code",
   "execution_count": 7,
   "metadata": {},
   "outputs": [
    {
     "data": {
      "text/plain": [
       "0"
      ]
     },
     "execution_count": 7,
     "metadata": {},
     "output_type": "execute_result"
    }
   ],
   "source": [
    "import os\n",
    "os.system(\"ffmpeg -y -framerate 60 -i ./figs/%05d.png -c:v libx264 dqn_states.mp4\")"
   ]
  },
  {
   "cell_type": "markdown",
   "metadata": {},
   "source": [
    "## Analyze wall distance/width distributions"
   ]
  },
  {
   "cell_type": "code",
   "execution_count": 39,
   "metadata": {},
   "outputs": [],
   "source": [
    "cur_walls = []\n",
    "for s in states:\n",
    "    state_struct = state_to_struct(s)\n",
    "    wall = state_struct[\"walls\"][state_struct[\"cur_slot\"]]\n",
    "    cur_walls.append(wall)\n",
    "cur_walls = np.stack(cur_walls)\n",
    "dists = cur_walls[:, 0] * 5432\n",
    "widths = cur_walls[:, 1] * 2400"
   ]
  },
  {
   "cell_type": "code",
   "execution_count": 40,
   "metadata": {},
   "outputs": [
    {
     "data": {
      "text/plain": [
       "<AxesSubplot:ylabel='Frequency'>"
      ]
     },
     "execution_count": 40,
     "metadata": {},
     "output_type": "execute_result"
    },
    {
     "data": {
      "image/png": "[encoded data removed]",
      "text/plain": [
       "<Figure size 432x288 with 1 Axes>"
      ]
     },
     "metadata": {
      "needs_background": "light"
     },
     "output_type": "display_data"
    }
   ],
   "source": [
    "pd.Series(dists).plot.hist(bins=100)"
   ]
  },
  {
   "cell_type": "code",
   "execution_count": 41,
   "metadata": {},
   "outputs": [
    {
     "data": {
      "text/plain": [
       "166.9992"
      ]
     },
     "execution_count": 41,
     "metadata": {},
     "output_type": "execute_result"
    },
    {
     "data": {
      "image/png": "[encoded data removed]",
      "text/plain": [
       "<Figure size 432x288 with 1 Axes>"
      ]
     },
     "metadata": {
      "needs_background": "light"
     },
     "output_type": "display_data"
    }
   ],
   "source": [
    "pd.Series(widths[dists < 0.001]).plot.hist(bins=50)\n",
    "widths[dists < 0.001].max()\n",
    "# Conclusion: if dist + width < 0.07: false positive wall"
   ]
  },
  {
   "cell_type": "code",
   "execution_count": 6,
   "metadata": {},
   "outputs": [
    {
     "data": {
      "text/plain": [
       "<AxesSubplot:ylabel='Frequency'>"
      ]
     },
     "execution_count": 6,
     "metadata": {},
     "output_type": "execute_result"
    },
    {
     "data": {
      "image/png": "[encoded data removed]",
      "text/plain": [
       "<Figure size 432x288 with 1 Axes>"
      ]
     },
     "metadata": {
      "needs_background": "light"
     },
     "output_type": "display_data"
    }
   ],
   "source": [
    "wall_dists = [state_to_struct(s)[\"walls\"][:, 0] for s in states]\n",
    "pd.Series(np.stack(wall_dists).flatten()).plot.hist(bins=100)"
   ]
  },
  {
   "cell_type": "code",
   "execution_count": 50,
   "metadata": {},
   "outputs": [
    {
     "name": "stdout",
     "output_type": "stream",
     "text": [
      "[0.9245396553821594, 0.24907641877394124, -0.5016171990847569]\n"
     ]
    },
    {
     "name": "stderr",
     "output_type": "stream",
     "text": [
      "e:\\Mare5\\dev\\projects\\ai-ml\\.venv\\lib\\site-packages\\ipykernel_launcher.py:17: RuntimeWarning: divide by zero encountered in power\n"
     ]
    },
    {
     "data": {
      "text/plain": [
       "[<matplotlib.lines.Line2D at 0x238abf3ce10>]"
      ]
     },
     "execution_count": 50,
     "metadata": {},
     "output_type": "execute_result"
    },
    {
     "data": {
      "image/png": "[encoded data removed]",
      "text/plain": [
       "<Figure size 432x288 with 1 Axes>"
      ]
     },
     "metadata": {
      "needs_background": "light"
     },
     "output_type": "display_data"
    }
   ],
   "source": [
    "import scipy.optimize\n",
    "import matplotlib.pyplot as plt\n",
    "\n",
    "a = -0.5\n",
    "b = 0.4\n",
    "thr = 0.07\n",
    "\n",
    "x = [0, thr, 0.5,  0.9, 1]\n",
    "y = [a,   0, 0.8*b, 0.99*b, b]\n",
    "t = np.linspace(0, 1)\n",
    "plt.plot(x, y, 'ro')\n",
    "\n",
    "plt.grid()\n",
    "plt.plot(t, np.polyval(np.polyfit(x, y, 4), t))\n",
    "\n",
    "def f(x, a, b, c):\n",
    "    return a*pow(x,b)+c\n",
    "\n",
    "p = scipy.optimize.curve_fit(f, x, y)[0]\n",
    "print(p.tolist())\n",
    "plt.plot(t, [f(x, *p) for x in t])"
   ]
  },
  {
   "cell_type": "code",
   "execution_count": null,
   "metadata": {},
   "outputs": [],
   "source": [
    "for state in states:\n",
    "    state_struct = state_to_struct(state)\n",
    "    if state_struct[\"n_slots\"] != 6:\n",
    "        print(np.where(state_struct[\"walls\"] == [1, 0])[0])"
   ]
  },
  {
   "cell_type": "code",
   "execution_count": 4,
   "metadata": {},
   "outputs": [
    {
     "data": {
      "text/plain": [
       "Counter({1: 9753, 2: 1448, 0: 4409})"
      ]
     },
     "execution_count": 4,
     "metadata": {},
     "output_type": "execute_result"
    }
   ],
   "source": [
    "from collections import Counter\n",
    "Counter(actions)"
   ]
  },
  {
   "cell_type": "markdown",
   "metadata": {},
   "source": [
    "# Hyperparameter optimization with Optuna"
   ]
  },
  {
   "cell_type": "code",
   "execution_count": 33,
   "metadata": {},
   "outputs": [],
   "source": [
    "from datetime import datetime\n",
    "\n",
    "import optuna\n",
    "import torch\n",
    "import torch.nn as nn\n",
    "import torch.nn.functional as F\n",
    "from torch.utils.tensorboard import SummaryWriter\n",
    "# PyTorch TensorBoard support\n",
    "from sklearn.model_selection import train_test_split\n",
    "from sklearn.metrics import classification_report\n",
    "\n",
    "from sb3_rl import SupaEnv\n",
    "\n",
    "\n",
    "DEVICE = torch.device(\"cuda\")\n",
    "EPOCHS = 50\n",
    "N_TRAIN_EXAMPLES = 1e9\n",
    "N_VALID_EXAMPLES = 1e9\n",
    "\n",
    "HORIZON = 2\n",
    "N_EXTRA_FEATURES = 1 + 2\n",
    "INPUT_SIZE = 6*2 + 1 + 3 + 6 + 1 + 1 + N_EXTRA_FEATURES\n",
    "OUT_SIZE = 3\n",
    "\n",
    "\n",
    "def preprocess_state(state):\n",
    "    state_struct = SupaEnv.state_to_struct(state)\n",
    "    state_struct = SupaEnv.add_state_features(state_struct)\n",
    "    state = state_struct[\"_packed\"]\n",
    "    return state\n",
    "\n",
    "def stack_states(states, actions, i, *, horizon):\n",
    "    obs_history = np.zeros(INPUT_SIZE * (horizon + 1), dtype=np.float32)\n",
    "    action_history = np.zeros(horizon)\n",
    "    for j in range(max(0, i - horizon), i + 1):\n",
    "        obs = states[j]\n",
    "        action = 0 # actions[i]\n",
    "        last_ax_size = obs.shape[-1]\n",
    "\n",
    "        obs_history = np.roll(obs_history, shift=-last_ax_size, axis=-1)\n",
    "        obs_history[..., -obs.shape[-1] :] = obs\n",
    "\n",
    "        action_history = np.roll(action_history, shift=-1, axis=-1)\n",
    "        action_history[..., -1:] = action\n",
    "    return np.concatenate((obs_history, action_history), dtype=np.float32)\n",
    "\n",
    "def read_data(path):\n",
    "    with open(path, \"r\") as f:\n",
    "        lines = f.readlines()\n",
    "    states = [list(map(float, line.strip().split())) for line in lines[::2]]\n",
    "    actions = [float(line.strip()) for line in lines[1::2]]\n",
    "    \n",
    "    states = np.array(list(map(preprocess_state, states)), dtype=np.float32)\n",
    "    actions = np.array(actions, dtype=np.int64) + 1  # (-1,0,1) -> (0,1,2)\n",
    "    stacked_states = []\n",
    "    for i in range(len(states)):\n",
    "        stacked_states.append(stack_states(states, actions, i, horizon=HORIZON))\n",
    "    return stacked_states, actions\n",
    "\n",
    "def get_data(batch_size, test_size=0.33):\n",
    "    states, actions = read_data(\"../game_state_dqn.txt\")\n",
    "    X_train, X_test, y_train, y_test = train_test_split(states, actions, test_size=test_size, shuffle=False, random_state=42)\n",
    "    # print(X_train.shape, X_test.shape, y_train.shape, y_test.shape)\n",
    "    training_loader = torch.utils.data.DataLoader(\n",
    "        list(zip(X_train, y_train)), \n",
    "        batch_size=batch_size)\n",
    "    validation_loader = torch.utils.data.DataLoader(\n",
    "        list(zip(X_test, y_test)), \n",
    "        batch_size=batch_size)\n",
    "    return training_loader, validation_loader\n",
    "\n",
    "def define_model(trial: optuna.Trial, *, input_size):\n",
    "    # We optimize the number of layers, hidden units and dropout ratio in each layer.\n",
    "    n_layers = trial.suggest_int(\"n_layers\", 1, 3)\n",
    "    layers = []\n",
    "    in_features = input_size\n",
    "    for i in range(n_layers):\n",
    "        out_features = trial.suggest_int(\"n_units_l{}\".format(i), 4, 256)\n",
    "        layers.append(nn.Linear(in_features, out_features))\n",
    "        layers.append(nn.ReLU())\n",
    "        p = trial.suggest_float(\"dropout_l{}\".format(i), 0.0, 0.5)\n",
    "        layers.append(nn.Dropout(p))\n",
    "        in_features = out_features\n",
    "    layers.append(nn.Linear(in_features, OUT_SIZE))\n",
    "    layers.append(nn.LogSoftmax(dim=1))\n",
    "    return nn.Sequential(*layers)\n",
    "\n",
    "def objective(trial: optuna.Trial):\n",
    "    # batch_size = trial.suggest_int(\"batch_size\", 1, 1024)\n",
    "    batch_size = 128\n",
    "    train_loader, valid_loader = get_data(batch_size)\n",
    "\n",
    "    # Generate the model.\n",
    "    input_size = train_loader.dataset[0][0].shape[-1]\n",
    "    model = define_model(trial, input_size=input_size).to(DEVICE)\n",
    "\n",
    "    # Generate the optimizers.\n",
    "    # optimizer_name = trial.suggest_categorical(\"optimizer\", [\"Adam\", \"SGD\"])\n",
    "    optimizer_name = \"Adam\" \n",
    "    lr = trial.suggest_float(\"lr\", 1e-5, 1e-1, log=True)\n",
    "    optimizer = getattr(torch.optim, optimizer_name)(model.parameters(), lr=lr)\n",
    "\n",
    "    # Training of the model.\n",
    "    for epoch in range(EPOCHS):\n",
    "        model.train()\n",
    "        for batch_idx, (data, target) in enumerate(train_loader):\n",
    "            # Limiting training data for faster epochs.\n",
    "            if batch_idx * batch_size >= N_TRAIN_EXAMPLES:\n",
    "                break\n",
    "\n",
    "            data, target = data.view(data.size(0), -1).to(DEVICE), target.to(DEVICE)\n",
    "\n",
    "            optimizer.zero_grad()\n",
    "            output = model(data)\n",
    "            loss = F.nll_loss(output, target)\n",
    "            loss.backward()\n",
    "            optimizer.step()\n",
    "\n",
    "        # Validation of the model.\n",
    "        model.eval()\n",
    "        correct = 0\n",
    "        with torch.no_grad():\n",
    "            for batch_idx, (data, target) in enumerate(valid_loader):\n",
    "                # Limiting validation data.\n",
    "                if batch_idx * batch_size >= N_VALID_EXAMPLES:\n",
    "                    break\n",
    "                data, target = data.view(data.size(0), -1).to(DEVICE), target.to(DEVICE)\n",
    "                output = model(data)\n",
    "                # Get the index of the max log-probability.\n",
    "                pred = output.argmax(dim=1, keepdim=True)\n",
    "                correct += pred.eq(target.view_as(pred)).sum().item()\n",
    "\n",
    "        accuracy = correct / min(len(valid_loader.dataset), N_VALID_EXAMPLES)\n",
    "\n",
    "        trial.report(accuracy, epoch)\n",
    "\n",
    "        # Handle pruning based on the intermediate value.\n",
    "        if trial.should_prune():\n",
    "            raise optuna.exceptions.TrialPruned()\n",
    "\n",
    "    return accuracy"
   ]
  },
  {
   "cell_type": "code",
   "execution_count": 29,
   "metadata": {},
   "outputs": [
    {
     "name": "stderr",
     "output_type": "stream",
     "text": [
      "\u001b[32m[I 2022-10-11 11:49:48,496]\u001b[0m A new study created in memory with name: no-name-a097e852-62f5-4a70-bc14-9ef01c44f19c\u001b[0m\n",
      "\u001b[32m[I 2022-10-11 11:50:08,198]\u001b[0m Trial 0 finished with value: 0.9082911223673688 and parameters: {'n_layers': 3, 'n_units_l0': 74, 'dropout_l0': 0.27216958189941215, 'n_units_l1': 105, 'dropout_l1': 0.2541258284187212, 'n_units_l2': 147, 'dropout_l2': 0.12311062130762035, 'lr': 0.0053146924801565285}. Best is trial 0 with value: 0.9082911223673688.\u001b[0m\n",
      "\u001b[32m[I 2022-10-11 11:50:22,906]\u001b[0m Trial 1 finished with value: 0.8541722207411357 and parameters: {'n_layers': 1, 'n_units_l0': 225, 'dropout_l0': 0.46413325840364844, 'lr': 0.00020821865732252722}. Best is trial 0 with value: 0.9082911223673688.\u001b[0m\n",
      "\u001b[32m[I 2022-10-11 11:50:42,645]\u001b[0m Trial 2 finished with value: 0.880831778192482 and parameters: {'n_layers': 3, 'n_units_l0': 33, 'dropout_l0': 0.2040439556442431, 'n_units_l1': 11, 'dropout_l1': 0.4607755070789919, 'n_units_l2': 231, 'dropout_l2': 0.3008822412617268, 'lr': 0.006835321398645488}. Best is trial 0 with value: 0.9082911223673688.\u001b[0m\n",
      "\u001b[32m[I 2022-10-11 11:50:59,067]\u001b[0m Trial 3 finished with value: 0.8789656091708877 and parameters: {'n_layers': 2, 'n_units_l0': 173, 'dropout_l0': 0.4984236951801828, 'n_units_l1': 149, 'dropout_l1': 0.12929366209535692, 'lr': 0.00016369710565350808}. Best is trial 0 with value: 0.9082911223673688.\u001b[0m\n",
      "\u001b[32m[I 2022-10-11 11:51:17,902]\u001b[0m Trial 4 finished with value: 0.7059450813116502 and parameters: {'n_layers': 3, 'n_units_l0': 19, 'dropout_l0': 0.4119142763988991, 'n_units_l1': 167, 'dropout_l1': 0.4676729336047755, 'n_units_l2': 235, 'dropout_l2': 0.11477789419700585, 'lr': 0.0012726460608927263}. Best is trial 0 with value: 0.9082911223673688.\u001b[0m\n",
      "\u001b[32m[I 2022-10-11 11:51:36,976]\u001b[0m Trial 5 finished with value: 0.9293521727539323 and parameters: {'n_layers': 3, 'n_units_l0': 144, 'dropout_l0': 0.1976079888754113, 'n_units_l1': 71, 'dropout_l1': 0.3317882991508854, 'n_units_l2': 163, 'dropout_l2': 0.11099581294956667, 'lr': 0.0008092093782080621}. Best is trial 5 with value: 0.9293521727539323.\u001b[0m\n",
      "\u001b[32m[I 2022-10-11 11:51:39,313]\u001b[0m Trial 6 pruned. \u001b[0m\n",
      "\u001b[32m[I 2022-10-11 11:51:41,578]\u001b[0m Trial 7 pruned. \u001b[0m\n",
      "\u001b[32m[I 2022-10-11 11:51:51,856]\u001b[0m Trial 8 pruned. \u001b[0m\n",
      "\u001b[32m[I 2022-10-11 11:51:54,162]\u001b[0m Trial 9 pruned. \u001b[0m\n",
      "\u001b[32m[I 2022-10-11 11:51:57,919]\u001b[0m Trial 10 pruned. \u001b[0m\n",
      "\u001b[32m[I 2022-10-11 11:52:03,406]\u001b[0m Trial 11 pruned. \u001b[0m\n",
      "\u001b[32m[I 2022-10-11 11:52:05,565]\u001b[0m Trial 12 pruned. \u001b[0m\n",
      "\u001b[32m[I 2022-10-11 11:52:09,272]\u001b[0m Trial 13 pruned. \u001b[0m\n",
      "\u001b[32m[I 2022-10-11 11:52:28,063]\u001b[0m Trial 14 finished with value: 0.9288189816049054 and parameters: {'n_layers': 3, 'n_units_l0': 213, 'dropout_l0': 0.242827321667217, 'n_units_l1': 71, 'dropout_l1': 0.3218356256630171, 'n_units_l2': 8, 'dropout_l2': 0.012451022461741554, 'lr': 0.002287155718420834}. Best is trial 5 with value: 0.9293521727539323.\u001b[0m\n",
      "\u001b[32m[I 2022-10-11 11:52:44,464]\u001b[0m Trial 15 finished with value: 0.9186883497733938 and parameters: {'n_layers': 2, 'n_units_l0': 240, 'dropout_l0': 0.1456292554330045, 'n_units_l1': 54, 'dropout_l1': 0.34218190242752033, 'lr': 0.0005564223981208958}. Best is trial 5 with value: 0.9293521727539323.\u001b[0m\n",
      "\u001b[32m[I 2022-10-11 11:52:48,128]\u001b[0m Trial 16 pruned. \u001b[0m\n",
      "\u001b[32m[I 2022-10-11 11:52:50,379]\u001b[0m Trial 17 pruned. \u001b[0m\n",
      "\u001b[32m[I 2022-10-11 11:53:09,845]\u001b[0m Trial 18 finished with value: 0.9144228205811783 and parameters: {'n_layers': 3, 'n_units_l0': 134, 'dropout_l0': 0.13398770664371068, 'n_units_l1': 11, 'dropout_l1': 0.15310331204637195, 'n_units_l2': 4, 'dropout_l2': 0.016604268122961063, 'lr': 0.0025138977768249717}. Best is trial 5 with value: 0.9293521727539323.\u001b[0m\n",
      "\u001b[32m[I 2022-10-11 11:53:27,642]\u001b[0m Trial 19 finished with value: 0.9013596374300187 and parameters: {'n_layers': 2, 'n_units_l0': 254, 'dropout_l0': 0.2324546735889229, 'n_units_l1': 247, 'dropout_l1': 0.31437693007593565, 'lr': 0.002148562149507111}. Best is trial 5 with value: 0.9293521727539323.\u001b[0m\n",
      "\u001b[32m[I 2022-10-11 11:53:31,260]\u001b[0m Trial 20 pruned. \u001b[0m\n",
      "\u001b[32m[I 2022-10-11 11:53:34,930]\u001b[0m Trial 21 pruned. \u001b[0m\n",
      "\u001b[32m[I 2022-10-11 11:53:38,847]\u001b[0m Trial 22 pruned. \u001b[0m\n",
      "\u001b[32m[I 2022-10-11 11:53:42,066]\u001b[0m Trial 23 pruned. \u001b[0m\n",
      "\u001b[32m[I 2022-10-11 11:54:02,168]\u001b[0m Trial 24 finished with value: 0.9109570781125034 and parameters: {'n_layers': 3, 'n_units_l0': 226, 'dropout_l0': 0.004673342600046149, 'n_units_l1': 28, 'dropout_l1': 0.33973380464014297, 'n_units_l2': 74, 'dropout_l2': 0.08179361258587768, 'lr': 0.002714051271680078}. Best is trial 5 with value: 0.9293521727539323.\u001b[0m\n",
      "\u001b[32m[I 2022-10-11 11:54:05,851]\u001b[0m Trial 25 pruned. \u001b[0m\n",
      "\u001b[32m[I 2022-10-11 11:54:08,318]\u001b[0m Trial 26 pruned. \u001b[0m\n",
      "\u001b[32m[I 2022-10-11 11:54:11,841]\u001b[0m Trial 27 pruned. \u001b[0m\n",
      "\u001b[32m[I 2022-10-11 11:54:31,347]\u001b[0m Trial 28 finished with value: 0.9296187683284457 and parameters: {'n_layers': 3, 'n_units_l0': 241, 'dropout_l0': 0.1068737478632539, 'n_units_l1': 167, 'dropout_l1': 0.010650633307700413, 'n_units_l2': 180, 'dropout_l2': 0.16910642924918817, 'lr': 0.0015141131687918755}. Best is trial 28 with value: 0.9296187683284457.\u001b[0m\n",
      "\u001b[32m[I 2022-10-11 11:54:34,763]\u001b[0m Trial 29 pruned. \u001b[0m\n",
      "\u001b[32m[I 2022-10-11 11:54:53,821]\u001b[0m Trial 30 finished with value: 0.9157557984537457 and parameters: {'n_layers': 3, 'n_units_l0': 106, 'dropout_l0': 0.28755116303188294, 'n_units_l1': 204, 'dropout_l1': 0.004901741528460263, 'n_units_l2': 188, 'dropout_l2': 0.22467145878443817, 'lr': 0.003262345957685312}. Best is trial 28 with value: 0.9296187683284457.\u001b[0m\n",
      "\u001b[32m[I 2022-10-11 11:55:12,729]\u001b[0m Trial 31 finished with value: 0.9288189816049054 and parameters: {'n_layers': 3, 'n_units_l0': 242, 'dropout_l0': 0.1603825583366694, 'n_units_l1': 136, 'dropout_l1': 0.35462491864584245, 'n_units_l2': 183, 'dropout_l2': 0.029052522575043593, 'lr': 0.0012502742166849879}. Best is trial 28 with value: 0.9296187683284457.\u001b[0m\n",
      "\u001b[32m[I 2022-10-11 11:55:31,872]\u001b[0m Trial 32 finished with value: 0.9288189816049054 and parameters: {'n_layers': 3, 'n_units_l0': 238, 'dropout_l0': 0.22353377710647043, 'n_units_l1': 135, 'dropout_l1': 0.203541111107971, 'n_units_l2': 186, 'dropout_l2': 0.05545726360047836, 'lr': 0.0018502199518186247}. Best is trial 28 with value: 0.9296187683284457.\u001b[0m\n",
      "\u001b[32m[I 2022-10-11 11:55:50,802]\u001b[0m Trial 33 finished with value: 0.9346840842442016 and parameters: {'n_layers': 3, 'n_units_l0': 255, 'dropout_l0': 0.18930892027456966, 'n_units_l1': 144, 'dropout_l1': 0.19943678829408704, 'n_units_l2': 184, 'dropout_l2': 0.07550814572034648, 'lr': 0.0012982670108923754}. Best is trial 33 with value: 0.9346840842442016.\u001b[0m\n",
      "\u001b[32m[I 2022-10-11 11:55:55,912]\u001b[0m Trial 34 pruned. \u001b[0m\n",
      "\u001b[32m[I 2022-10-11 11:56:00,049]\u001b[0m Trial 35 pruned. \u001b[0m\n",
      "\u001b[32m[I 2022-10-11 11:56:03,486]\u001b[0m Trial 36 pruned. \u001b[0m\n",
      "\u001b[32m[I 2022-10-11 11:56:22,394]\u001b[0m Trial 37 finished with value: 0.9325513196480938 and parameters: {'n_layers': 3, 'n_units_l0': 232, 'dropout_l0': 0.22088361468456552, 'n_units_l1': 147, 'dropout_l1': 0.17302551124960028, 'n_units_l2': 202, 'dropout_l2': 0.05986183531010077, 'lr': 0.0017477412395232486}. Best is trial 33 with value: 0.9346840842442016.\u001b[0m\n",
      "\u001b[32m[I 2022-10-11 11:56:25,779]\u001b[0m Trial 38 pruned. \u001b[0m\n",
      "\u001b[32m[I 2022-10-11 11:56:29,106]\u001b[0m Trial 39 pruned. \u001b[0m\n",
      "\u001b[32m[I 2022-10-11 11:56:33,154]\u001b[0m Trial 40 pruned. \u001b[0m\n",
      "\u001b[32m[I 2022-10-11 11:56:52,252]\u001b[0m Trial 41 finished with value: 0.934950679818715 and parameters: {'n_layers': 3, 'n_units_l0': 188, 'dropout_l0': 0.2463196005891692, 'n_units_l1': 144, 'dropout_l1': 0.13472505919515718, 'n_units_l2': 198, 'dropout_l2': 0.04503296563482562, 'lr': 0.0015725751472473713}. Best is trial 41 with value: 0.934950679818715.\u001b[0m\n",
      "\u001b[32m[I 2022-10-11 11:56:55,603]\u001b[0m Trial 42 pruned. \u001b[0m\n",
      "\u001b[32m[I 2022-10-11 11:57:00,960]\u001b[0m Trial 43 pruned. \u001b[0m\n",
      "\u001b[32m[I 2022-10-11 11:57:04,489]\u001b[0m Trial 44 pruned. \u001b[0m\n",
      "\u001b[32m[I 2022-10-11 11:57:08,443]\u001b[0m Trial 45 pruned. \u001b[0m\n",
      "\u001b[32m[I 2022-10-11 11:57:12,007]\u001b[0m Trial 46 pruned. \u001b[0m\n",
      "\u001b[32m[I 2022-10-11 11:57:15,724]\u001b[0m Trial 47 pruned. \u001b[0m\n",
      "\u001b[32m[I 2022-10-11 11:57:36,315]\u001b[0m Trial 48 finished with value: 0.9277525993068515 and parameters: {'n_layers': 3, 'n_units_l0': 256, 'dropout_l0': 0.04532251197899459, 'n_units_l1': 129, 'dropout_l1': 0.22878388648569375, 'n_units_l2': 170, 'dropout_l2': 0.2836957906868469, 'lr': 0.001438020275414172}. Best is trial 41 with value: 0.934950679818715.\u001b[0m\n",
      "\u001b[32m[I 2022-10-11 11:57:39,791]\u001b[0m Trial 49 pruned. \u001b[0m\n",
      "\u001b[32m[I 2022-10-11 11:57:43,597]\u001b[0m Trial 50 pruned. \u001b[0m\n",
      "\u001b[32m[I 2022-10-11 11:58:03,509]\u001b[0m Trial 51 finished with value: 0.9344174886696881 and parameters: {'n_layers': 3, 'n_units_l0': 240, 'dropout_l0': 0.14753834855031933, 'n_units_l1': 139, 'dropout_l1': 0.35690255682949124, 'n_units_l2': 150, 'dropout_l2': 0.041884040390254784, 'lr': 0.0011573785320427893}. Best is trial 41 with value: 0.934950679818715.\u001b[0m\n",
      "\u001b[32m[I 2022-10-11 11:58:23,297]\u001b[0m Trial 52 finished with value: 0.9402825913089843 and parameters: {'n_layers': 3, 'n_units_l0': 229, 'dropout_l0': 0.2205320834231246, 'n_units_l1': 146, 'dropout_l1': 0.4396691538383308, 'n_units_l2': 152, 'dropout_l2': 0.05657711479553102, 'lr': 0.0018561838204790855}. Best is trial 52 with value: 0.9402825913089843.\u001b[0m\n",
      "\u001b[32m[I 2022-10-11 11:58:42,796]\u001b[0m Trial 53 finished with value: 0.9333511063716342 and parameters: {'n_layers': 3, 'n_units_l0': 233, 'dropout_l0': 0.21881956556368712, 'n_units_l1': 142, 'dropout_l1': 0.15733845270240715, 'n_units_l2': 147, 'dropout_l2': 0.04168081741072807, 'lr': 0.0018212890762860025}. Best is trial 52 with value: 0.9402825913089843.\u001b[0m\n",
      "\u001b[32m[I 2022-10-11 11:59:02,325]\u001b[0m Trial 54 finished with value: 0.9384164222873901 and parameters: {'n_layers': 3, 'n_units_l0': 232, 'dropout_l0': 0.25138961221328027, 'n_units_l1': 143, 'dropout_l1': 0.4450385622889178, 'n_units_l2': 150, 'dropout_l2': 0.03651019907192632, 'lr': 0.0018160648220106497}. Best is trial 52 with value: 0.9402825913089843.\u001b[0m\n",
      "\u001b[32m[I 2022-10-11 11:59:05,753]\u001b[0m Trial 55 pruned. \u001b[0m\n",
      "\u001b[32m[I 2022-10-11 11:59:09,248]\u001b[0m Trial 56 pruned. \u001b[0m\n",
      "\u001b[32m[I 2022-10-11 11:59:12,565]\u001b[0m Trial 57 pruned. \u001b[0m\n",
      "\u001b[32m[I 2022-10-11 11:59:15,884]\u001b[0m Trial 58 pruned. \u001b[0m\n",
      "\u001b[32m[I 2022-10-11 11:59:18,413]\u001b[0m Trial 59 pruned. \u001b[0m\n",
      "\u001b[32m[I 2022-10-11 11:59:21,947]\u001b[0m Trial 60 pruned. \u001b[0m\n",
      "\u001b[32m[I 2022-10-11 11:59:41,452]\u001b[0m Trial 61 finished with value: 0.9290855771794189 and parameters: {'n_layers': 3, 'n_units_l0': 229, 'dropout_l0': 0.24010352307868857, 'n_units_l1': 139, 'dropout_l1': 0.16300430623602075, 'n_units_l2': 159, 'dropout_l2': 0.05621361723553704, 'lr': 0.0018124851611783016}. Best is trial 52 with value: 0.9402825913089843.\u001b[0m\n",
      "\u001b[32m[I 2022-10-11 11:59:48,279]\u001b[0m Trial 62 pruned. \u001b[0m\n",
      "\u001b[32m[I 2022-10-11 11:59:52,724]\u001b[0m Trial 63 pruned. \u001b[0m\n",
      "\u001b[32m[I 2022-10-11 11:59:56,376]\u001b[0m Trial 64 pruned. \u001b[0m\n",
      "\u001b[32m[I 2022-10-11 12:00:00,038]\u001b[0m Trial 65 pruned. \u001b[0m\n",
      "\u001b[32m[I 2022-10-11 12:00:03,452]\u001b[0m Trial 66 pruned. \u001b[0m\n",
      "\u001b[32m[I 2022-10-11 12:00:07,823]\u001b[0m Trial 67 pruned. \u001b[0m\n",
      "\u001b[32m[I 2022-10-11 12:00:14,351]\u001b[0m Trial 68 pruned. \u001b[0m\n",
      "\u001b[32m[I 2022-10-11 12:00:17,851]\u001b[0m Trial 69 pruned. \u001b[0m\n",
      "\u001b[32m[I 2022-10-11 12:00:21,434]\u001b[0m Trial 70 pruned. \u001b[0m\n",
      "\u001b[32m[I 2022-10-11 12:00:25,210]\u001b[0m Trial 71 pruned. \u001b[0m\n",
      "\u001b[32m[I 2022-10-11 12:00:45,742]\u001b[0m Trial 72 finished with value: 0.9290855771794189 and parameters: {'n_layers': 3, 'n_units_l0': 234, 'dropout_l0': 0.23744320145022765, 'n_units_l1': 155, 'dropout_l1': 0.2282922563637247, 'n_units_l2': 194, 'dropout_l2': 0.10356652161058669, 'lr': 0.0010190368101690038}. Best is trial 52 with value: 0.9402825913089843.\u001b[0m\n",
      "\u001b[32m[I 2022-10-11 12:00:49,373]\u001b[0m Trial 73 pruned. \u001b[0m\n",
      "\u001b[32m[I 2022-10-11 12:01:08,994]\u001b[0m Trial 74 finished with value: 0.9141562250066649 and parameters: {'n_layers': 3, 'n_units_l0': 227, 'dropout_l0': 0.13192604355030463, 'n_units_l1': 151, 'dropout_l1': 0.29770127970983246, 'n_units_l2': 160, 'dropout_l2': 0.07838271975992295, 'lr': 0.0015967273822561816}. Best is trial 52 with value: 0.9402825913089843.\u001b[0m\n",
      "\u001b[32m[I 2022-10-11 12:01:29,384]\u001b[0m Trial 75 finished with value: 0.934950679818715 and parameters: {'n_layers': 3, 'n_units_l0': 240, 'dropout_l0': 0.27878704437582913, 'n_units_l1': 162, 'dropout_l1': 0.1545729595258951, 'n_units_l2': 143, 'dropout_l2': 0.15544819670997412, 'lr': 0.0011687863354528517}. Best is trial 52 with value: 0.9402825913089843.\u001b[0m\n",
      "\u001b[32m[I 2022-10-11 12:01:32,858]\u001b[0m Trial 76 pruned. \u001b[0m\n",
      "\u001b[32m[I 2022-10-11 12:01:36,267]\u001b[0m Trial 77 pruned. \u001b[0m\n",
      "\u001b[32m[I 2022-10-11 12:01:39,660]\u001b[0m Trial 78 pruned. \u001b[0m\n",
      "\u001b[32m[I 2022-10-11 12:01:43,054]\u001b[0m Trial 79 pruned. \u001b[0m\n",
      "\u001b[32m[I 2022-10-11 12:01:46,388]\u001b[0m Trial 80 pruned. \u001b[0m\n",
      "\u001b[32m[I 2022-10-11 12:02:05,358]\u001b[0m Trial 81 finished with value: 0.9256198347107438 and parameters: {'n_layers': 3, 'n_units_l0': 238, 'dropout_l0': 0.09264438116194347, 'n_units_l1': 147, 'dropout_l1': 0.03661227201861836, 'n_units_l2': 185, 'dropout_l2': 0.17727933645494962, 'lr': 0.0013005292040734913}. Best is trial 52 with value: 0.9402825913089843.\u001b[0m\n",
      "\u001b[32m[I 2022-10-11 12:02:08,687]\u001b[0m Trial 82 pruned. \u001b[0m\n",
      "\u001b[32m[I 2022-10-11 12:02:12,350]\u001b[0m Trial 83 pruned. \u001b[0m\n",
      "\u001b[32m[I 2022-10-11 12:02:31,265]\u001b[0m Trial 84 finished with value: 0.9288189816049054 and parameters: {'n_layers': 3, 'n_units_l0': 223, 'dropout_l0': 0.05799112959696798, 'n_units_l1': 191, 'dropout_l1': 0.2412780379723679, 'n_units_l2': 176, 'dropout_l2': 0.1626939142961151, 'lr': 0.0016179416903177898}. Best is trial 52 with value: 0.9402825913089843.\u001b[0m\n",
      "\u001b[32m[I 2022-10-11 12:02:35,662]\u001b[0m Trial 85 pruned. \u001b[0m\n",
      "\u001b[32m[I 2022-10-11 12:02:39,062]\u001b[0m Trial 86 pruned. \u001b[0m\n",
      "\u001b[32m[I 2022-10-11 12:02:42,447]\u001b[0m Trial 87 pruned. \u001b[0m\n",
      "\u001b[32m[I 2022-10-11 12:02:45,791]\u001b[0m Trial 88 pruned. \u001b[0m\n",
      "\u001b[32m[I 2022-10-11 12:02:49,145]\u001b[0m Trial 89 pruned. \u001b[0m\n",
      "\u001b[32m[I 2022-10-11 12:02:52,493]\u001b[0m Trial 90 pruned. \u001b[0m\n",
      "\u001b[32m[I 2022-10-11 12:02:55,853]\u001b[0m Trial 91 pruned. \u001b[0m\n",
      "\u001b[32m[I 2022-10-11 12:02:59,190]\u001b[0m Trial 92 pruned. \u001b[0m\n",
      "\u001b[32m[I 2022-10-11 12:03:03,509]\u001b[0m Trial 93 pruned. \u001b[0m\n",
      "\u001b[32m[I 2022-10-11 12:03:06,995]\u001b[0m Trial 94 pruned. \u001b[0m\n",
      "\u001b[32m[I 2022-10-11 12:03:10,869]\u001b[0m Trial 95 pruned. \u001b[0m\n",
      "\u001b[32m[I 2022-10-11 12:03:14,419]\u001b[0m Trial 96 pruned. \u001b[0m\n",
      "\u001b[32m[I 2022-10-11 12:03:17,786]\u001b[0m Trial 97 pruned. \u001b[0m\n",
      "\u001b[32m[I 2022-10-11 12:03:21,174]\u001b[0m Trial 98 pruned. \u001b[0m\n",
      "\u001b[32m[I 2022-10-11 12:03:24,580]\u001b[0m Trial 99 pruned. \u001b[0m\n",
      "\u001b[32m[I 2022-10-11 12:03:26,849]\u001b[0m Trial 100 pruned. \u001b[0m\n",
      "\u001b[32m[I 2022-10-11 12:03:31,260]\u001b[0m Trial 101 pruned. \u001b[0m\n",
      "\u001b[32m[I 2022-10-11 12:03:34,727]\u001b[0m Trial 102 pruned. \u001b[0m\n",
      "\u001b[32m[I 2022-10-11 12:03:48,276]\u001b[0m Trial 103 pruned. \u001b[0m\n",
      "\u001b[32m[I 2022-10-11 12:03:51,635]\u001b[0m Trial 104 pruned. \u001b[0m\n",
      "\u001b[32m[I 2022-10-11 12:03:55,012]\u001b[0m Trial 105 pruned. \u001b[0m\n",
      "\u001b[32m[I 2022-10-11 12:03:58,375]\u001b[0m Trial 106 pruned. \u001b[0m\n",
      "\u001b[32m[I 2022-10-11 12:04:01,776]\u001b[0m Trial 107 pruned. \u001b[0m\n",
      "\u001b[32m[I 2022-10-11 12:04:05,121]\u001b[0m Trial 108 pruned. \u001b[0m\n",
      "\u001b[32m[I 2022-10-11 12:04:08,627]\u001b[0m Trial 109 pruned. \u001b[0m\n",
      "\u001b[32m[I 2022-10-11 12:04:12,115]\u001b[0m Trial 110 pruned. \u001b[0m\n",
      "\u001b[32m[I 2022-10-11 12:04:15,487]\u001b[0m Trial 111 pruned. \u001b[0m\n",
      "\u001b[32m[I 2022-10-11 12:04:20,298]\u001b[0m Trial 112 pruned. \u001b[0m\n",
      "\u001b[32m[I 2022-10-11 12:04:24,052]\u001b[0m Trial 113 pruned. \u001b[0m\n",
      "\u001b[32m[I 2022-10-11 12:04:28,551]\u001b[0m Trial 114 pruned. \u001b[0m\n",
      "\u001b[32m[I 2022-10-11 12:04:33,297]\u001b[0m Trial 115 pruned. \u001b[0m\n",
      "\u001b[32m[I 2022-10-11 12:04:36,957]\u001b[0m Trial 116 pruned. \u001b[0m\n",
      "\u001b[32m[I 2022-10-11 12:04:49,099]\u001b[0m Trial 117 pruned. \u001b[0m\n",
      "\u001b[32m[I 2022-10-11 12:04:52,554]\u001b[0m Trial 118 pruned. \u001b[0m\n",
      "\u001b[32m[I 2022-10-11 12:04:57,269]\u001b[0m Trial 119 pruned. \u001b[0m\n",
      "\u001b[32m[I 2022-10-11 12:05:01,203]\u001b[0m Trial 120 pruned. \u001b[0m\n",
      "\u001b[32m[I 2022-10-11 12:05:04,592]\u001b[0m Trial 121 pruned. \u001b[0m\n",
      "\u001b[32m[I 2022-10-11 12:05:07,999]\u001b[0m Trial 122 pruned. \u001b[0m\n",
      "\u001b[32m[I 2022-10-11 12:05:12,953]\u001b[0m Trial 123 pruned. \u001b[0m\n",
      "\u001b[32m[I 2022-10-11 12:05:17,662]\u001b[0m Trial 124 pruned. \u001b[0m\n",
      "\u001b[32m[I 2022-10-11 12:05:21,581]\u001b[0m Trial 125 pruned. \u001b[0m\n",
      "\u001b[32m[I 2022-10-11 12:05:24,824]\u001b[0m Trial 126 pruned. \u001b[0m\n",
      "\u001b[32m[I 2022-10-11 12:05:28,691]\u001b[0m Trial 127 pruned. \u001b[0m\n",
      "\u001b[32m[I 2022-10-11 12:05:32,280]\u001b[0m Trial 128 pruned. \u001b[0m\n",
      "\u001b[32m[I 2022-10-11 12:05:35,772]\u001b[0m Trial 129 pruned. \u001b[0m\n",
      "\u001b[32m[I 2022-10-11 12:05:39,219]\u001b[0m Trial 130 pruned. \u001b[0m\n",
      "\u001b[32m[I 2022-10-11 12:05:42,633]\u001b[0m Trial 131 pruned. \u001b[0m\n",
      "\u001b[32m[I 2022-10-11 12:05:46,398]\u001b[0m Trial 132 pruned. \u001b[0m\n",
      "\u001b[32m[I 2022-10-11 12:05:49,795]\u001b[0m Trial 133 pruned. \u001b[0m\n",
      "\u001b[32m[I 2022-10-11 12:05:53,570]\u001b[0m Trial 134 pruned. \u001b[0m\n",
      "\u001b[32m[I 2022-10-11 12:05:57,119]\u001b[0m Trial 135 pruned. \u001b[0m\n",
      "\u001b[32m[I 2022-10-11 12:06:00,864]\u001b[0m Trial 136 pruned. \u001b[0m\n",
      "\u001b[32m[I 2022-10-11 12:06:04,465]\u001b[0m Trial 137 pruned. \u001b[0m\n",
      "\u001b[32m[I 2022-10-11 12:06:07,954]\u001b[0m Trial 138 pruned. \u001b[0m\n",
      "\u001b[32m[I 2022-10-11 12:06:11,564]\u001b[0m Trial 139 pruned. \u001b[0m\n",
      "\u001b[32m[I 2022-10-11 12:06:15,306]\u001b[0m Trial 140 pruned. \u001b[0m\n",
      "\u001b[32m[I 2022-10-11 12:06:20,131]\u001b[0m Trial 141 pruned. \u001b[0m\n",
      "\u001b[32m[I 2022-10-11 12:06:23,678]\u001b[0m Trial 142 pruned. \u001b[0m\n",
      "\u001b[32m[I 2022-10-11 12:06:27,313]\u001b[0m Trial 143 pruned. \u001b[0m\n",
      "\u001b[32m[I 2022-10-11 12:06:30,858]\u001b[0m Trial 144 pruned. \u001b[0m\n",
      "\u001b[32m[I 2022-10-11 12:06:34,934]\u001b[0m Trial 145 pruned. \u001b[0m\n",
      "\u001b[32m[I 2022-10-11 12:06:40,179]\u001b[0m Trial 146 pruned. \u001b[0m\n",
      "\u001b[32m[I 2022-10-11 12:06:43,876]\u001b[0m Trial 147 pruned. \u001b[0m\n",
      "\u001b[32m[I 2022-10-11 12:06:47,610]\u001b[0m Trial 148 pruned. \u001b[0m\n",
      "\u001b[32m[I 2022-10-11 12:07:08,382]\u001b[0m Trial 149 finished with value: 0.9288189816049054 and parameters: {'n_layers': 3, 'n_units_l0': 231, 'dropout_l0': 0.16827707444388748, 'n_units_l1': 137, 'dropout_l1': 0.21032313926568266, 'n_units_l2': 208, 'dropout_l2': 0.22485684684247062, 'lr': 0.001383343655251819}. Best is trial 52 with value: 0.9402825913089843.\u001b[0m\n",
      "\u001b[32m[I 2022-10-11 12:07:11,784]\u001b[0m Trial 150 pruned. \u001b[0m\n",
      "\u001b[32m[I 2022-10-11 12:07:15,977]\u001b[0m Trial 151 pruned. \u001b[0m\n",
      "\u001b[32m[I 2022-10-11 12:07:19,648]\u001b[0m Trial 152 pruned. \u001b[0m\n",
      "\u001b[32m[I 2022-10-11 12:07:23,032]\u001b[0m Trial 153 pruned. \u001b[0m\n",
      "\u001b[32m[I 2022-10-11 12:07:26,377]\u001b[0m Trial 154 pruned. \u001b[0m\n",
      "\u001b[32m[I 2022-10-11 12:07:45,194]\u001b[0m Trial 155 finished with value: 0.9325513196480938 and parameters: {'n_layers': 3, 'n_units_l0': 229, 'dropout_l0': 0.19784134038011977, 'n_units_l1': 140, 'dropout_l1': 0.18806257123377812, 'n_units_l2': 146, 'dropout_l2': 0.2176062283949365, 'lr': 0.001438022480637467}. Best is trial 52 with value: 0.9402825913089843.\u001b[0m\n",
      "\u001b[32m[I 2022-10-11 12:07:48,876]\u001b[0m Trial 156 pruned. \u001b[0m\n",
      "\u001b[32m[I 2022-10-11 12:07:52,232]\u001b[0m Trial 157 pruned. \u001b[0m\n",
      "\u001b[32m[I 2022-10-11 12:07:55,638]\u001b[0m Trial 158 pruned. \u001b[0m\n",
      "\u001b[32m[I 2022-10-11 12:07:59,319]\u001b[0m Trial 159 pruned. \u001b[0m\n",
      "\u001b[32m[I 2022-10-11 12:08:05,043]\u001b[0m Trial 160 pruned. \u001b[0m\n",
      "\u001b[32m[I 2022-10-11 12:08:09,449]\u001b[0m Trial 161 pruned. \u001b[0m\n",
      "\u001b[32m[I 2022-10-11 12:08:12,794]\u001b[0m Trial 162 pruned. \u001b[0m\n",
      "\u001b[32m[I 2022-10-11 12:08:17,149]\u001b[0m Trial 163 pruned. \u001b[0m\n",
      "\u001b[32m[I 2022-10-11 12:08:19,356]\u001b[0m Trial 164 pruned. \u001b[0m\n",
      "\u001b[32m[I 2022-10-11 12:08:38,306]\u001b[0m Trial 165 finished with value: 0.9352172753932285 and parameters: {'n_layers': 3, 'n_units_l0': 222, 'dropout_l0': 0.27450558170673006, 'n_units_l1': 159, 'dropout_l1': 0.3803596316045824, 'n_units_l2': 53, 'dropout_l2': 0.1618755762443466, 'lr': 0.001306848192860974}. Best is trial 52 with value: 0.9402825913089843.\u001b[0m\n",
      "\u001b[32m[I 2022-10-11 12:08:41,313]\u001b[0m Trial 166 pruned. \u001b[0m\n",
      "\u001b[32m[I 2022-10-11 12:08:44,665]\u001b[0m Trial 167 pruned. \u001b[0m\n",
      "\u001b[32m[I 2022-10-11 12:08:47,699]\u001b[0m Trial 168 pruned. \u001b[0m\n",
      "\u001b[32m[I 2022-10-11 12:08:51,183]\u001b[0m Trial 169 pruned. \u001b[0m\n",
      "\u001b[32m[I 2022-10-11 12:08:54,530]\u001b[0m Trial 170 pruned. \u001b[0m\n",
      "\u001b[32m[I 2022-10-11 12:08:57,547]\u001b[0m Trial 171 pruned. \u001b[0m\n",
      "\u001b[32m[I 2022-10-11 12:09:00,699]\u001b[0m Trial 172 pruned. \u001b[0m\n",
      "\u001b[32m[I 2022-10-11 12:09:03,809]\u001b[0m Trial 173 pruned. \u001b[0m\n",
      "\u001b[32m[I 2022-10-11 12:09:06,819]\u001b[0m Trial 174 pruned. \u001b[0m\n",
      "\u001b[32m[I 2022-10-11 12:09:09,831]\u001b[0m Trial 175 pruned. \u001b[0m\n",
      "\u001b[32m[I 2022-10-11 12:09:12,853]\u001b[0m Trial 176 pruned. \u001b[0m\n",
      "\u001b[32m[I 2022-10-11 12:09:15,931]\u001b[0m Trial 177 pruned. \u001b[0m\n",
      "\u001b[32m[I 2022-10-11 12:09:20,972]\u001b[0m Trial 178 pruned. \u001b[0m\n",
      "\u001b[32m[I 2022-10-11 12:09:23,991]\u001b[0m Trial 179 pruned. \u001b[0m\n",
      "\u001b[32m[I 2022-10-11 12:09:27,739]\u001b[0m Trial 180 pruned. \u001b[0m\n",
      "\u001b[32m[I 2022-10-11 12:09:35,812]\u001b[0m Trial 181 pruned. \u001b[0m\n",
      "\u001b[32m[I 2022-10-11 12:09:38,849]\u001b[0m Trial 182 pruned. \u001b[0m\n",
      "\u001b[32m[I 2022-10-11 12:09:41,859]\u001b[0m Trial 183 pruned. \u001b[0m\n",
      "\u001b[32m[I 2022-10-11 12:09:44,869]\u001b[0m Trial 184 pruned. \u001b[0m\n",
      "\u001b[32m[I 2022-10-11 12:09:47,884]\u001b[0m Trial 185 pruned. \u001b[0m\n",
      "\u001b[32m[I 2022-10-11 12:09:51,572]\u001b[0m Trial 186 pruned. \u001b[0m\n",
      "\u001b[32m[I 2022-10-11 12:09:54,623]\u001b[0m Trial 187 pruned. \u001b[0m\n",
      "\u001b[32m[I 2022-10-11 12:09:57,680]\u001b[0m Trial 188 pruned. \u001b[0m\n",
      "\u001b[32m[I 2022-10-11 12:10:02,558]\u001b[0m Trial 189 pruned. \u001b[0m\n",
      "\u001b[32m[I 2022-10-11 12:10:05,902]\u001b[0m Trial 190 pruned. \u001b[0m\n",
      "\u001b[32m[I 2022-10-11 12:10:09,701]\u001b[0m Trial 191 pruned. \u001b[0m\n",
      "\u001b[32m[I 2022-10-11 12:10:13,672]\u001b[0m Trial 192 pruned. \u001b[0m\n",
      "\u001b[32m[I 2022-10-11 12:10:17,058]\u001b[0m Trial 193 pruned. \u001b[0m\n",
      "\u001b[32m[I 2022-10-11 12:10:20,090]\u001b[0m Trial 194 pruned. \u001b[0m\n",
      "\u001b[32m[I 2022-10-11 12:10:23,780]\u001b[0m Trial 195 pruned. \u001b[0m\n",
      "\u001b[32m[I 2022-10-11 12:10:26,898]\u001b[0m Trial 196 pruned. \u001b[0m\n",
      "\u001b[32m[I 2022-10-11 12:10:31,685]\u001b[0m Trial 197 pruned. \u001b[0m\n",
      "\u001b[32m[I 2022-10-11 12:10:35,482]\u001b[0m Trial 198 pruned. \u001b[0m\n",
      "\u001b[32m[I 2022-10-11 12:10:38,953]\u001b[0m Trial 199 pruned. \u001b[0m\n"
     ]
    },
    {
     "name": "stdout",
     "output_type": "stream",
     "text": [
      "Study statistics: \n",
      "  Number of finished trials:  200\n",
      "  Number of pruned trials:  168\n",
      "  Number of complete trials:  32\n",
      "Best trial:\n",
      "  Value:  0.9402825913089843\n",
      "  Params: \n",
      "    n_layers: 3\n",
      "    n_units_l0: 229\n",
      "    dropout_l0: 0.2205320834231246\n",
      "    n_units_l1: 146\n",
      "    dropout_l1: 0.4396691538383308\n",
      "    n_units_l2: 152\n",
      "    dropout_l2: 0.05657711479553102\n",
      "    lr: 0.0018561838204790855\n"
     ]
    }
   ],
   "source": [
    "study = optuna.create_study(direction=\"maximize\")\n",
    "study.optimize(objective, n_trials=200)\n",
    "\n",
    "pruned_trials = study.get_trials(deepcopy=False, states=[optuna.trial.TrialState.PRUNED])\n",
    "complete_trials = study.get_trials(deepcopy=False, states=[optuna.trial.TrialState.COMPLETE])\n",
    "\n",
    "print(\"Study statistics: \")\n",
    "print(\"  Number of finished trials: \", len(study.trials))\n",
    "print(\"  Number of pruned trials: \", len(pruned_trials))\n",
    "print(\"  Number of complete trials: \", len(complete_trials))\n",
    "\n",
    "print(\"Best trial:\")\n",
    "trial = study.best_trial\n",
    "\n",
    "print(\"  Value: \", trial.value)\n",
    "\n",
    "print(\"  Params: \")\n",
    "for key, value in trial.params.items():\n",
    "    print(\"    {}: {}\".format(key, value))"
   ]
  },
  {
   "cell_type": "code",
   "execution_count": 30,
   "metadata": {},
   "outputs": [
    {
     "data": {
      "application/vnd.plotly.v1+json": {
       "config": {
        "plotlyServerURL": "https://plot.ly"
       },
       "data": [
        {
         "mode": "markers",
         "name": "Objective Value",
         "type": "scatter",
         "x": [
          0,
          1,
          2,
          3,
          4,
          5,
          14,
          15,
          18,
          19,
          24,
          28,
          30,
          31,
          32,
          33,
          37,
          41,
          48,
          51,
          52,
          53,
          54,
          61,
          72,
          74,
          75,
          81,
          84,
          149,
          155,
          165
         ],
         "y": [
          0.9082911223673688,
          0.8541722207411357,
          0.880831778192482,
          0.8789656091708877,
          0.7059450813116502,
          0.9293521727539323,
          0.9288189816049054,
          0.9186883497733938,
          0.9144228205811783,
          0.9013596374300187,
          0.9109570781125034,
          0.9296187683284457,
          0.9157557984537457,
          0.9288189816049054,
          0.9288189816049054,
          0.9346840842442016,
          0.9325513196480938,
          0.934950679818715,
          0.9277525993068515,
          0.9344174886696881,
          0.9402825913089843,
          0.9333511063716342,
          0.9384164222873901,
          0.9290855771794189,
          0.9290855771794189,
          0.9141562250066649,
          0.934950679818715,
          0.9256198347107438,
          0.9288189816049054,
          0.9288189816049054,
          0.9325513196480938,
          0.9352172753932285
         ]
        },
        {
         "name": "Best Value",
         "type": "scatter",
         "x": [
          0,
          1,
          2,
          3,
          4,
          5,
          14,
          15,
          18,
          19,
          24,
          28,
          30,
          31,
          32,
          33,
          37,
          41,
          48,
          51,
          52,
          53,
          54,
          61,
          72,
          74,
          75,
          81,
          84,
          149,
          155,
          165
         ],
         "y": [
          0.9082911223673688,
          0.9082911223673688,
          0.9082911223673688,
          0.9082911223673688,
          0.9082911223673688,
          0.9293521727539323,
          0.9293521727539323,
          0.9293521727539323,
          0.9293521727539323,
          0.9293521727539323,
          0.9293521727539323,
          0.9296187683284457,
          0.9296187683284457,
          0.9296187683284457,
          0.9296187683284457,
          0.9346840842442016,
          0.9346840842442016,
          0.934950679818715,
          0.934950679818715,
          0.934950679818715,
          0.9402825913089843,
          0.9402825913089843,
          0.9402825913089843,
          0.9402825913089843,
          0.9402825913089843,
          0.9402825913089843,
          0.9402825913089843,
          0.9402825913089843,
          0.9402825913089843,
          0.9402825913089843,
          0.9402825913089843,
          0.9402825913089843
         ]
        }
       ],
       "layout": {
        "template": {
         "data": {
          "bar": [
           {
            "error_x": {
             "color": "#2a3f5f"
            },
            "error_y": {
             "color": "#2a3f5f"
            },
            "marker": {
             "line": {
              "color": "#E5ECF6",
              "width": 0.5
             },
             "pattern": {
              "fillmode": "overlay",
              "size": 10,
              "solidity": 0.2
             }
            },
            "type": "bar"
           }
          ],
          "barpolar": [
           {
            "marker": {
             "line": {
              "color": "#E5ECF6",
              "width": 0.5
             },
             "pattern": {
              "fillmode": "overlay",
              "size": 10,
              "solidity": 0.2
             }
            },
            "type": "barpolar"
           }
          ],
          "carpet": [
           {
            "aaxis": {
             "endlinecolor": "#2a3f5f",
             "gridcolor": "white",
             "linecolor": "white",
             "minorgridcolor": "white",
             "startlinecolor": "#2a3f5f"
            },
            "baxis": {
             "endlinecolor": "#2a3f5f",
             "gridcolor": "white",
             "linecolor": "white",
             "minorgridcolor": "white",
             "startlinecolor": "#2a3f5f"
            },
            "type": "carpet"
           }
          ],
          "choropleth": [
           {
            "colorbar": {
             "outlinewidth": 0,
             "ticks": ""
            },
            "type": "choropleth"
           }
          ],
          "contour": [
           {
            "colorbar": {
             "outlinewidth": 0,
             "ticks": ""
            },
            "colorscale": [
             [
              0,
              "#0d0887"
             ],
             [
              0.1111111111111111,
              "#46039f"
             ],
             [
              0.2222222222222222,
              "#7201a8"
             ],
             [
              0.3333333333333333,
              "#9c179e"
             ],
             [
              0.4444444444444444,
              "#bd3786"
             ],
             [
              0.5555555555555556,
              "#d8576b"
             ],
             [
              0.6666666666666666,
              "#ed7953"
             ],
             [
              0.7777777777777778,
              "#fb9f3a"
             ],
             [
              0.8888888888888888,
              "#fdca26"
             ],
             [
              1,
              "#f0f921"
             ]
            ],
            "type": "contour"
           }
          ],
          "contourcarpet": [
           {
            "colorbar": {
             "outlinewidth": 0,
             "ticks": ""
            },
            "type": "contourcarpet"
           }
          ],
          "heatmap": [
           {
            "colorbar": {
             "outlinewidth": 0,
             "ticks": ""
            },
            "colorscale": [
             [
              0,
              "#0d0887"
             ],
             [
              0.1111111111111111,
              "#46039f"
             ],
             [
              0.2222222222222222,
              "#7201a8"
             ],
             [
              0.3333333333333333,
              "#9c179e"
             ],
             [
              0.4444444444444444,
              "#bd3786"
             ],
             [
              0.5555555555555556,
              "#d8576b"
             ],
             [
              0.6666666666666666,
              "#ed7953"
             ],
             [
              0.7777777777777778,
              "#fb9f3a"
             ],
             [
              0.8888888888888888,
              "#fdca26"
             ],
             [
              1,
              "#f0f921"
             ]
            ],
            "type": "heatmap"
           }
          ],
          "heatmapgl": [
           {
            "colorbar": {
             "outlinewidth": 0,
             "ticks": ""
            },
            "colorscale": [
             [
              0,
              "#0d0887"
             ],
             [
              0.1111111111111111,
              "#46039f"
             ],
             [
              0.2222222222222222,
              "#7201a8"
             ],
             [
              0.3333333333333333,
              "#9c179e"
             ],
             [
              0.4444444444444444,
              "#bd3786"
             ],
             [
              0.5555555555555556,
              "#d8576b"
             ],
             [
              0.6666666666666666,
              "#ed7953"
             ],
             [
              0.7777777777777778,
              "#fb9f3a"
             ],
             [
              0.8888888888888888,
              "#fdca26"
             ],
             [
              1,
              "#f0f921"
             ]
            ],
            "type": "heatmapgl"
           }
          ],
          "histogram": [
           {
            "marker": {
             "pattern": {
              "fillmode": "overlay",
              "size": 10,
              "solidity": 0.2
             }
            },
            "type": "histogram"
           }
          ],
          "histogram2d": [
           {
            "colorbar": {
             "outlinewidth": 0,
             "ticks": ""
            },
            "colorscale": [
             [
              0,
              "#0d0887"
             ],
             [
              0.1111111111111111,
              "#46039f"
             ],
             [
              0.2222222222222222,
              "#7201a8"
             ],
             [
              0.3333333333333333,
              "#9c179e"
             ],
             [
              0.4444444444444444,
              "#bd3786"
             ],
             [
              0.5555555555555556,
              "#d8576b"
             ],
             [
              0.6666666666666666,
              "#ed7953"
             ],
             [
              0.7777777777777778,
              "#fb9f3a"
             ],
             [
              0.8888888888888888,
              "#fdca26"
             ],
             [
              1,
              "#f0f921"
             ]
            ],
            "type": "histogram2d"
           }
          ],
          "histogram2dcontour": [
           {
            "colorbar": {
             "outlinewidth": 0,
             "ticks": ""
            },
            "colorscale": [
             [
              0,
              "#0d0887"
             ],
             [
              0.1111111111111111,
              "#46039f"
             ],
             [
              0.2222222222222222,
              "#7201a8"
             ],
             [
              0.3333333333333333,
              "#9c179e"
             ],
             [
              0.4444444444444444,
              "#bd3786"
             ],
             [
              0.5555555555555556,
              "#d8576b"
             ],
             [
              0.6666666666666666,
              "#ed7953"
             ],
             [
              0.7777777777777778,
              "#fb9f3a"
             ],
             [
              0.8888888888888888,
              "#fdca26"
             ],
             [
              1,
              "#f0f921"
             ]
            ],
            "type": "histogram2dcontour"
           }
          ],
          "mesh3d": [
           {
            "colorbar": {
             "outlinewidth": 0,
             "ticks": ""
            },
            "type": "mesh3d"
           }
          ],
          "parcoords": [
           {
            "line": {
             "colorbar": {
              "outlinewidth": 0,
              "ticks": ""
             }
            },
            "type": "parcoords"
           }
          ],
          "pie": [
           {
            "automargin": true,
            "type": "pie"
           }
          ],
          "scatter": [
           {
            "fillpattern": {
             "fillmode": "overlay",
             "size": 10,
             "solidity": 0.2
            },
            "type": "scatter"
           }
          ],
          "scatter3d": [
           {
            "line": {
             "colorbar": {
              "outlinewidth": 0,
              "ticks": ""
             }
            },
            "marker": {
             "colorbar": {
              "outlinewidth": 0,
              "ticks": ""
             }
            },
            "type": "scatter3d"
           }
          ],
          "scattercarpet": [
           {
            "marker": {
             "colorbar": {
              "outlinewidth": 0,
              "ticks": ""
             }
            },
            "type": "scattercarpet"
           }
          ],
          "scattergeo": [
           {
            "marker": {
             "colorbar": {
              "outlinewidth": 0,
              "ticks": ""
             }
            },
            "type": "scattergeo"
           }
          ],
          "scattergl": [
           {
            "marker": {
             "colorbar": {
              "outlinewidth": 0,
              "ticks": ""
             }
            },
            "type": "scattergl"
           }
          ],
          "scattermapbox": [
           {
            "marker": {
             "colorbar": {
              "outlinewidth": 0,
              "ticks": ""
             }
            },
            "type": "scattermapbox"
           }
          ],
          "scatterpolar": [
           {
            "marker": {
             "colorbar": {
              "outlinewidth": 0,
              "ticks": ""
             }
            },
            "type": "scatterpolar"
           }
          ],
          "scatterpolargl": [
           {
            "marker": {
             "colorbar": {
              "outlinewidth": 0,
              "ticks": ""
             }
            },
            "type": "scatterpolargl"
           }
          ],
          "scatterternary": [
           {
            "marker": {
             "colorbar": {
              "outlinewidth": 0,
              "ticks": ""
             }
            },
            "type": "scatterternary"
           }
          ],
          "surface": [
           {
            "colorbar": {
             "outlinewidth": 0,
             "ticks": ""
            },
            "colorscale": [
             [
              0,
              "#0d0887"
             ],
             [
              0.1111111111111111,
              "#46039f"
             ],
             [
              0.2222222222222222,
              "#7201a8"
             ],
             [
              0.3333333333333333,
              "#9c179e"
             ],
             [
              0.4444444444444444,
              "#bd3786"
             ],
             [
              0.5555555555555556,
              "#d8576b"
             ],
             [
              0.6666666666666666,
              "#ed7953"
             ],
             [
              0.7777777777777778,
              "#fb9f3a"
             ],
             [
              0.8888888888888888,
              "#fdca26"
             ],
             [
              1,
              "#f0f921"
             ]
            ],
            "type": "surface"
           }
          ],
          "table": [
           {
            "cells": {
             "fill": {
              "color": "#EBF0F8"
             },
             "line": {
              "color": "white"
             }
            },
            "header": {
             "fill": {
              "color": "#C8D4E3"
             },
             "line": {
              "color": "white"
             }
            },
            "type": "table"
           }
          ]
         },
         "layout": {
          "annotationdefaults": {
           "arrowcolor": "#2a3f5f",
           "arrowhead": 0,
           "arrowwidth": 1
          },
          "autotypenumbers": "strict",
          "coloraxis": {
           "colorbar": {
            "outlinewidth": 0,
            "ticks": ""
           }
          },
          "colorscale": {
           "diverging": [
            [
             0,
             "#8e0152"
            ],
            [
             0.1,
             "#c51b7d"
            ],
            [
             0.2,
             "#de77ae"
            ],
            [
             0.3,
             "#f1b6da"
            ],
            [
             0.4,
             "#fde0ef"
            ],
            [
             0.5,
             "#f7f7f7"
            ],
            [
             0.6,
             "#e6f5d0"
            ],
            [
             0.7,
             "#b8e186"
            ],
            [
             0.8,
             "#7fbc41"
            ],
            [
             0.9,
             "#4d9221"
            ],
            [
             1,
             "#276419"
            ]
           ],
           "sequential": [
            [
             0,
             "#0d0887"
            ],
            [
             0.1111111111111111,
             "#46039f"
            ],
            [
             0.2222222222222222,
             "#7201a8"
            ],
            [
             0.3333333333333333,
             "#9c179e"
            ],
            [
             0.4444444444444444,
             "#bd3786"
            ],
            [
             0.5555555555555556,
             "#d8576b"
            ],
            [
             0.6666666666666666,
             "#ed7953"
            ],
            [
             0.7777777777777778,
             "#fb9f3a"
            ],
            [
             0.8888888888888888,
             "#fdca26"
            ],
            [
             1,
             "#f0f921"
            ]
           ],
           "sequentialminus": [
            [
             0,
             "#0d0887"
            ],
            [
             0.1111111111111111,
             "#46039f"
            ],
            [
             0.2222222222222222,
             "#7201a8"
            ],
            [
             0.3333333333333333,
             "#9c179e"
            ],
            [
             0.4444444444444444,
             "#bd3786"
            ],
            [
             0.5555555555555556,
             "#d8576b"
            ],
            [
             0.6666666666666666,
             "#ed7953"
            ],
            [
             0.7777777777777778,
             "#fb9f3a"
            ],
            [
             0.8888888888888888,
             "#fdca26"
            ],
            [
             1,
             "#f0f921"
            ]
           ]
          },
          "colorway": [
           "#636efa",
           "#EF553B",
           "#00cc96",
           "#ab63fa",
           "#FFA15A",
           "#19d3f3",
           "#FF6692",
           "#B6E880",
           "#FF97FF",
           "#FECB52"
          ],
          "font": {
           "color": "#2a3f5f"
          },
          "geo": {
           "bgcolor": "white",
           "lakecolor": "white",
           "landcolor": "#E5ECF6",
           "showlakes": true,
           "showland": true,
           "subunitcolor": "white"
          },
          "hoverlabel": {
           "align": "left"
          },
          "hovermode": "closest",
          "mapbox": {
           "style": "light"
          },
          "paper_bgcolor": "white",
          "plot_bgcolor": "#E5ECF6",
          "polar": {
           "angularaxis": {
            "gridcolor": "white",
            "linecolor": "white",
            "ticks": ""
           },
           "bgcolor": "#E5ECF6",
           "radialaxis": {
            "gridcolor": "white",
            "linecolor": "white",
            "ticks": ""
           }
          },
          "scene": {
           "xaxis": {
            "backgroundcolor": "#E5ECF6",
            "gridcolor": "white",
            "gridwidth": 2,
            "linecolor": "white",
            "showbackground": true,
            "ticks": "",
            "zerolinecolor": "white"
           },
           "yaxis": {
            "backgroundcolor": "#E5ECF6",
            "gridcolor": "white",
            "gridwidth": 2,
            "linecolor": "white",
            "showbackground": true,
            "ticks": "",
            "zerolinecolor": "white"
           },
           "zaxis": {
            "backgroundcolor": "#E5ECF6",
            "gridcolor": "white",
            "gridwidth": 2,
            "linecolor": "white",
            "showbackground": true,
            "ticks": "",
            "zerolinecolor": "white"
           }
          },
          "shapedefaults": {
           "line": {
            "color": "#2a3f5f"
           }
          },
          "ternary": {
           "aaxis": {
            "gridcolor": "white",
            "linecolor": "white",
            "ticks": ""
           },
           "baxis": {
            "gridcolor": "white",
            "linecolor": "white",
            "ticks": ""
           },
           "bgcolor": "#E5ECF6",
           "caxis": {
            "gridcolor": "white",
            "linecolor": "white",
            "ticks": ""
           }
          },
          "title": {
           "x": 0.05
          },
          "xaxis": {
           "automargin": true,
           "gridcolor": "white",
           "linecolor": "white",
           "ticks": "",
           "title": {
            "standoff": 15
           },
           "zerolinecolor": "white",
           "zerolinewidth": 2
          },
          "yaxis": {
           "automargin": true,
           "gridcolor": "white",
           "linecolor": "white",
           "ticks": "",
           "title": {
            "standoff": 15
           },
           "zerolinecolor": "white",
           "zerolinewidth": 2
          }
         }
        },
        "title": {
         "text": "Optimization History Plot"
        },
        "xaxis": {
         "title": {
          "text": "Trial"
         }
        },
        "yaxis": {
         "title": {
          "text": "Objective Value"
         }
        }
       }
      }
     },
     "metadata": {},
     "output_type": "display_data"
    },
    {
     "data": {
      "application/vnd.plotly.v1+json": {
       "config": {
        "plotlyServerURL": "https://plot.ly"
       },
       "data": [
        {
         "cliponaxis": false,
         "hovertemplate": [
          "n_layers (IntDistribution): 0.03265665504036338<extra></extra>",
          "lr (FloatDistribution): 0.08034646256074926<extra></extra>",
          "dropout_l0 (FloatDistribution): 0.2361220518058842<extra></extra>",
          "n_units_l0 (IntDistribution): 0.6508748305930032<extra></extra>"
         ],
         "marker": {
          "color": "rgb(66,146,198)"
         },
         "orientation": "h",
         "text": [
          "0.03",
          "0.08",
          "0.24",
          "0.65"
         ],
         "textposition": "outside",
         "type": "bar",
         "x": [
          0.03265665504036338,
          0.08034646256074926,
          0.2361220518058842,
          0.6508748305930032
         ],
         "y": [
          "n_layers",
          "lr",
          "dropout_l0",
          "n_units_l0"
         ]
        }
       ],
       "layout": {
        "showlegend": false,
        "template": {
         "data": {
          "bar": [
           {
            "error_x": {
             "color": "#2a3f5f"
            },
            "error_y": {
             "color": "#2a3f5f"
            },
            "marker": {
             "line": {
              "color": "#E5ECF6",
              "width": 0.5
             },
             "pattern": {
              "fillmode": "overlay",
              "size": 10,
              "solidity": 0.2
             }
            },
            "type": "bar"
           }
          ],
          "barpolar": [
           {
            "marker": {
             "line": {
              "color": "#E5ECF6",
              "width": 0.5
             },
             "pattern": {
              "fillmode": "overlay",
              "size": 10,
              "solidity": 0.2
             }
            },
            "type": "barpolar"
           }
          ],
          "carpet": [
           {
            "aaxis": {
             "endlinecolor": "#2a3f5f",
             "gridcolor": "white",
             "linecolor": "white",
             "minorgridcolor": "white",
             "startlinecolor": "#2a3f5f"
            },
            "baxis": {
             "endlinecolor": "#2a3f5f",
             "gridcolor": "white",
             "linecolor": "white",
             "minorgridcolor": "white",
             "startlinecolor": "#2a3f5f"
            },
            "type": "carpet"
           }
          ],
          "choropleth": [
           {
            "colorbar": {
             "outlinewidth": 0,
             "ticks": ""
            },
            "type": "choropleth"
           }
          ],
          "contour": [
           {
            "colorbar": {
             "outlinewidth": 0,
             "ticks": ""
            },
            "colorscale": [
             [
              0,
              "#0d0887"
             ],
             [
              0.1111111111111111,
              "#46039f"
             ],
             [
              0.2222222222222222,
              "#7201a8"
             ],
             [
              0.3333333333333333,
              "#9c179e"
             ],
             [
              0.4444444444444444,
              "#bd3786"
             ],
             [
              0.5555555555555556,
              "#d8576b"
             ],
             [
              0.6666666666666666,
              "#ed7953"
             ],
             [
              0.7777777777777778,
              "#fb9f3a"
             ],
             [
              0.8888888888888888,
              "#fdca26"
             ],
             [
              1,
              "#f0f921"
             ]
            ],
            "type": "contour"
           }
          ],
          "contourcarpet": [
           {
            "colorbar": {
             "outlinewidth": 0,
             "ticks": ""
            },
            "type": "contourcarpet"
           }
          ],
          "heatmap": [
           {
            "colorbar": {
             "outlinewidth": 0,
             "ticks": ""
            },
            "colorscale": [
             [
              0,
              "#0d0887"
             ],
             [
              0.1111111111111111,
              "#46039f"
             ],
             [
              0.2222222222222222,
              "#7201a8"
             ],
             [
              0.3333333333333333,
              "#9c179e"
             ],
             [
              0.4444444444444444,
              "#bd3786"
             ],
             [
              0.5555555555555556,
              "#d8576b"
             ],
             [
              0.6666666666666666,
              "#ed7953"
             ],
             [
              0.7777777777777778,
              "#fb9f3a"
             ],
             [
              0.8888888888888888,
              "#fdca26"
             ],
             [
              1,
              "#f0f921"
             ]
            ],
            "type": "heatmap"
           }
          ],
          "heatmapgl": [
           {
            "colorbar": {
             "outlinewidth": 0,
             "ticks": ""
            },
            "colorscale": [
             [
              0,
              "#0d0887"
             ],
             [
              0.1111111111111111,
              "#46039f"
             ],
             [
              0.2222222222222222,
              "#7201a8"
             ],
             [
              0.3333333333333333,
              "#9c179e"
             ],
             [
              0.4444444444444444,
              "#bd3786"
             ],
             [
              0.5555555555555556,
              "#d8576b"
             ],
             [
              0.6666666666666666,
              "#ed7953"
             ],
             [
              0.7777777777777778,
              "#fb9f3a"
             ],
             [
              0.8888888888888888,
              "#fdca26"
             ],
             [
              1,
              "#f0f921"
             ]
            ],
            "type": "heatmapgl"
           }
          ],
          "histogram": [
           {
            "marker": {
             "pattern": {
              "fillmode": "overlay",
              "size": 10,
              "solidity": 0.2
             }
            },
            "type": "histogram"
           }
          ],
          "histogram2d": [
           {
            "colorbar": {
             "outlinewidth": 0,
             "ticks": ""
            },
            "colorscale": [
             [
              0,
              "#0d0887"
             ],
             [
              0.1111111111111111,
              "#46039f"
             ],
             [
              0.2222222222222222,
              "#7201a8"
             ],
             [
              0.3333333333333333,
              "#9c179e"
             ],
             [
              0.4444444444444444,
              "#bd3786"
             ],
             [
              0.5555555555555556,
              "#d8576b"
             ],
             [
              0.6666666666666666,
              "#ed7953"
             ],
             [
              0.7777777777777778,
              "#fb9f3a"
             ],
             [
              0.8888888888888888,
              "#fdca26"
             ],
             [
              1,
              "#f0f921"
             ]
            ],
            "type": "histogram2d"
           }
          ],
          "histogram2dcontour": [
           {
            "colorbar": {
             "outlinewidth": 0,
             "ticks": ""
            },
            "colorscale": [
             [
              0,
              "#0d0887"
             ],
             [
              0.1111111111111111,
              "#46039f"
             ],
             [
              0.2222222222222222,
              "#7201a8"
             ],
             [
              0.3333333333333333,
              "#9c179e"
             ],
             [
              0.4444444444444444,
              "#bd3786"
             ],
             [
              0.5555555555555556,
              "#d8576b"
             ],
             [
              0.6666666666666666,
              "#ed7953"
             ],
             [
              0.7777777777777778,
              "#fb9f3a"
             ],
             [
              0.8888888888888888,
              "#fdca26"
             ],
             [
              1,
              "#f0f921"
             ]
            ],
            "type": "histogram2dcontour"
           }
          ],
          "mesh3d": [
           {
            "colorbar": {
             "outlinewidth": 0,
             "ticks": ""
            },
            "type": "mesh3d"
           }
          ],
          "parcoords": [
           {
            "line": {
             "colorbar": {
              "outlinewidth": 0,
              "ticks": ""
             }
            },
            "type": "parcoords"
           }
          ],
          "pie": [
           {
            "automargin": true,
            "type": "pie"
           }
          ],
          "scatter": [
           {
            "fillpattern": {
             "fillmode": "overlay",
             "size": 10,
             "solidity": 0.2
            },
            "type": "scatter"
           }
          ],
          "scatter3d": [
           {
            "line": {
             "colorbar": {
              "outlinewidth": 0,
              "ticks": ""
             }
            },
            "marker": {
             "colorbar": {
              "outlinewidth": 0,
              "ticks": ""
             }
            },
            "type": "scatter3d"
           }
          ],
          "scattercarpet": [
           {
            "marker": {
             "colorbar": {
              "outlinewidth": 0,
              "ticks": ""
             }
            },
            "type": "scattercarpet"
           }
          ],
          "scattergeo": [
           {
            "marker": {
             "colorbar": {
              "outlinewidth": 0,
              "ticks": ""
             }
            },
            "type": "scattergeo"
           }
          ],
          "scattergl": [
           {
            "marker": {
             "colorbar": {
              "outlinewidth": 0,
              "ticks": ""
             }
            },
            "type": "scattergl"
           }
          ],
          "scattermapbox": [
           {
            "marker": {
             "colorbar": {
              "outlinewidth": 0,
              "ticks": ""
             }
            },
            "type": "scattermapbox"
           }
          ],
          "scatterpolar": [
           {
            "marker": {
             "colorbar": {
              "outlinewidth": 0,
              "ticks": ""
             }
            },
            "type": "scatterpolar"
           }
          ],
          "scatterpolargl": [
           {
            "marker": {
             "colorbar": {
              "outlinewidth": 0,
              "ticks": ""
             }
            },
            "type": "scatterpolargl"
           }
          ],
          "scatterternary": [
           {
            "marker": {
             "colorbar": {
              "outlinewidth": 0,
              "ticks": ""
             }
            },
            "type": "scatterternary"
           }
          ],
          "surface": [
           {
            "colorbar": {
             "outlinewidth": 0,
             "ticks": ""
            },
            "colorscale": [
             [
              0,
              "#0d0887"
             ],
             [
              0.1111111111111111,
              "#46039f"
             ],
             [
              0.2222222222222222,
              "#7201a8"
             ],
             [
              0.3333333333333333,
              "#9c179e"
             ],
             [
              0.4444444444444444,
              "#bd3786"
             ],
             [
              0.5555555555555556,
              "#d8576b"
             ],
             [
              0.6666666666666666,
              "#ed7953"
             ],
             [
              0.7777777777777778,
              "#fb9f3a"
             ],
             [
              0.8888888888888888,
              "#fdca26"
             ],
             [
              1,
              "#f0f921"
             ]
            ],
            "type": "surface"
           }
          ],
          "table": [
           {
            "cells": {
             "fill": {
              "color": "#EBF0F8"
             },
             "line": {
              "color": "white"
             }
            },
            "header": {
             "fill": {
              "color": "#C8D4E3"
             },
             "line": {
              "color": "white"
             }
            },
            "type": "table"
           }
          ]
         },
         "layout": {
          "annotationdefaults": {
           "arrowcolor": "#2a3f5f",
           "arrowhead": 0,
           "arrowwidth": 1
          },
          "autotypenumbers": "strict",
          "coloraxis": {
           "colorbar": {
            "outlinewidth": 0,
            "ticks": ""
           }
          },
          "colorscale": {
           "diverging": [
            [
             0,
             "#8e0152"
            ],
            [
             0.1,
             "#c51b7d"
            ],
            [
             0.2,
             "#de77ae"
            ],
            [
             0.3,
             "#f1b6da"
            ],
            [
             0.4,
             "#fde0ef"
            ],
            [
             0.5,
             "#f7f7f7"
            ],
            [
             0.6,
             "#e6f5d0"
            ],
            [
             0.7,
             "#b8e186"
            ],
            [
             0.8,
             "#7fbc41"
            ],
            [
             0.9,
             "#4d9221"
            ],
            [
             1,
             "#276419"
            ]
           ],
           "sequential": [
            [
             0,
             "#0d0887"
            ],
            [
             0.1111111111111111,
             "#46039f"
            ],
            [
             0.2222222222222222,
             "#7201a8"
            ],
            [
             0.3333333333333333,
             "#9c179e"
            ],
            [
             0.4444444444444444,
             "#bd3786"
            ],
            [
             0.5555555555555556,
             "#d8576b"
            ],
            [
             0.6666666666666666,
             "#ed7953"
            ],
            [
             0.7777777777777778,
             "#fb9f3a"
            ],
            [
             0.8888888888888888,
             "#fdca26"
            ],
            [
             1,
             "#f0f921"
            ]
           ],
           "sequentialminus": [
            [
             0,
             "#0d0887"
            ],
            [
             0.1111111111111111,
             "#46039f"
            ],
            [
             0.2222222222222222,
             "#7201a8"
            ],
            [
             0.3333333333333333,
             "#9c179e"
            ],
            [
             0.4444444444444444,
             "#bd3786"
            ],
            [
             0.5555555555555556,
             "#d8576b"
            ],
            [
             0.6666666666666666,
             "#ed7953"
            ],
            [
             0.7777777777777778,
             "#fb9f3a"
            ],
            [
             0.8888888888888888,
             "#fdca26"
            ],
            [
             1,
             "#f0f921"
            ]
           ]
          },
          "colorway": [
           "#636efa",
           "#EF553B",
           "#00cc96",
           "#ab63fa",
           "#FFA15A",
           "#19d3f3",
           "#FF6692",
           "#B6E880",
           "#FF97FF",
           "#FECB52"
          ],
          "font": {
           "color": "#2a3f5f"
          },
          "geo": {
           "bgcolor": "white",
           "lakecolor": "white",
           "landcolor": "#E5ECF6",
           "showlakes": true,
           "showland": true,
           "subunitcolor": "white"
          },
          "hoverlabel": {
           "align": "left"
          },
          "hovermode": "closest",
          "mapbox": {
           "style": "light"
          },
          "paper_bgcolor": "white",
          "plot_bgcolor": "#E5ECF6",
          "polar": {
           "angularaxis": {
            "gridcolor": "white",
            "linecolor": "white",
            "ticks": ""
           },
           "bgcolor": "#E5ECF6",
           "radialaxis": {
            "gridcolor": "white",
            "linecolor": "white",
            "ticks": ""
           }
          },
          "scene": {
           "xaxis": {
            "backgroundcolor": "#E5ECF6",
            "gridcolor": "white",
            "gridwidth": 2,
            "linecolor": "white",
            "showbackground": true,
            "ticks": "",
            "zerolinecolor": "white"
           },
           "yaxis": {
            "backgroundcolor": "#E5ECF6",
            "gridcolor": "white",
            "gridwidth": 2,
            "linecolor": "white",
            "showbackground": true,
            "ticks": "",
            "zerolinecolor": "white"
           },
           "zaxis": {
            "backgroundcolor": "#E5ECF6",
            "gridcolor": "white",
            "gridwidth": 2,
            "linecolor": "white",
            "showbackground": true,
            "ticks": "",
            "zerolinecolor": "white"
           }
          },
          "shapedefaults": {
           "line": {
            "color": "#2a3f5f"
           }
          },
          "ternary": {
           "aaxis": {
            "gridcolor": "white",
            "linecolor": "white",
            "ticks": ""
           },
           "baxis": {
            "gridcolor": "white",
            "linecolor": "white",
            "ticks": ""
           },
           "bgcolor": "#E5ECF6",
           "caxis": {
            "gridcolor": "white",
            "linecolor": "white",
            "ticks": ""
           }
          },
          "title": {
           "x": 0.05
          },
          "xaxis": {
           "automargin": true,
           "gridcolor": "white",
           "linecolor": "white",
           "ticks": "",
           "title": {
            "standoff": 15
           },
           "zerolinecolor": "white",
           "zerolinewidth": 2
          },
          "yaxis": {
           "automargin": true,
           "gridcolor": "white",
           "linecolor": "white",
           "ticks": "",
           "title": {
            "standoff": 15
           },
           "zerolinecolor": "white",
           "zerolinewidth": 2
          }
         }
        },
        "title": {
         "text": "Hyperparameter Importances"
        },
        "xaxis": {
         "title": {
          "text": "Importance for Objective Value"
         }
        },
        "yaxis": {
         "title": {
          "text": "Hyperparameter"
         }
        }
       }
      }
     },
     "metadata": {},
     "output_type": "display_data"
    },
    {
     "data": {
      "application/vnd.plotly.v1+json": {
       "config": {
        "plotlyServerURL": "https://plot.ly"
       },
       "data": [
        {
         "marker": {
          "maxdisplayed": 10
         },
         "mode": "lines+markers",
         "name": "Trial0",
         "type": "scatter",
         "x": [
          0,
          1,
          2,
          3,
          4,
          5,
          6,
          7,
          8,
          9,
          10,
          11,
          12,
          13,
          14,
          15,
          16,
          17,
          18,
          19,
          20,
          21,
          22,
          23,
          24,
          25,
          26,
          27,
          28,
          29,
          30,
          31,
          32,
          33,
          34,
          35,
          36,
          37,
          38,
          39,
          40,
          41,
          42,
          43,
          44,
          45,
          46,
          47,
          48,
          49
         ],
         "y": [
          0.6227672620634498,
          0.6227672620634498,
          0.6227672620634498,
          0.6486270327912557,
          0.6875499866702213,
          0.7238069848040523,
          0.7283391095707811,
          0.725406558251133,
          0.7576646227672621,
          0.7859237536656891,
          0.7891229005598507,
          0.7699280191948814,
          0.8056518261796854,
          0.8187150093308451,
          0.8091175686483605,
          0.8115169288189816,
          0.8237803252466009,
          0.8453745667821914,
          0.8387096774193549,
          0.8480405225273261,
          0.8579045587843241,
          0.8616368968275127,
          0.8101839509464143,
          0.8901626233004533,
          0.8680351906158358,
          0.873900293255132,
          0.8557717941882165,
          0.8858970941082378,
          0.86990135963743,
          0.8840309250866436,
          0.8685683817648627,
          0.8653692348707012,
          0.8805651826179686,
          0.8765662490002666,
          0.8922953878965609,
          0.880831778192482,
          0.9013596374300187,
          0.8922953878965609,
          0.8762996534257531,
          0.8888296454278859,
          0.8984270861103706,
          0.9002932551319648,
          0.8826979472140762,
          0.8621700879765396,
          0.8752332711276993,
          0.8954945347907225,
          0.8880298587043455,
          0.8922953878965609,
          0.9042921887496668,
          0.9082911223673688
         ]
        },
        {
         "marker": {
          "maxdisplayed": 10
         },
         "mode": "lines+markers",
         "name": "Trial1",
         "type": "scatter",
         "x": [
          0,
          1,
          2,
          3,
          4,
          5,
          6,
          7,
          8,
          9,
          10,
          11,
          12,
          13,
          14,
          15,
          16,
          17,
          18,
          19,
          20,
          21,
          22,
          23,
          24,
          25,
          26,
          27,
          28,
          29,
          30,
          31,
          32,
          33,
          34,
          35,
          36,
          37,
          38,
          39,
          40,
          41,
          42,
          43,
          44,
          45,
          46,
          47,
          48,
          49
         ],
         "y": [
          0.6227672620634498,
          0.6227672620634498,
          0.6227672620634498,
          0.6227672620634498,
          0.6227672620634498,
          0.6227672620634498,
          0.6227672620634498,
          0.6222340709144228,
          0.6203679018928285,
          0.6227672620634498,
          0.624100239936017,
          0.6259664089576114,
          0.6272993868301786,
          0.628099173553719,
          0.6299653425753132,
          0.632098107171421,
          0.6374300186616902,
          0.6451612903225806,
          0.6491602239402826,
          0.6520927752599307,
          0.6582244734737404,
          0.6635563849640096,
          0.6739536123700347,
          0.6864836043721674,
          0.6915489202879233,
          0.697147427352706,
          0.7008797653958945,
          0.710477206078379,
          0.7195414556118368,
          0.7272727272727273,
          0.7371367635297255,
          0.7459344174886697,
          0.7557984537456678,
          0.7667288723007198,
          0.7749933351106372,
          0.7824580111970141,
          0.7912556651559585,
          0.800853105838443,
          0.8080511863503066,
          0.8123167155425219,
          0.8184484137563316,
          0.8245801119701412,
          0.8304452146094374,
          0.8373766995467875,
          0.8405758464409491,
          0.844574780058651,
          0.8469741402292722,
          0.8517728605705145,
          0.8539056251666223,
          0.8541722207411357
         ]
        },
        {
         "marker": {
          "maxdisplayed": 10
         },
         "mode": "lines+markers",
         "name": "Trial2",
         "type": "scatter",
         "x": [
          0,
          1,
          2,
          3,
          4,
          5,
          6,
          7,
          8,
          9,
          10,
          11,
          12,
          13,
          14,
          15,
          16,
          17,
          18,
          19,
          20,
          21,
          22,
          23,
          24,
          25,
          26,
          27,
          28,
          29,
          30,
          31,
          32,
          33,
          34,
          35,
          36,
          37,
          38,
          39,
          40,
          41,
          42,
          43,
          44,
          45,
          46,
          47,
          48,
          49
         ],
         "y": [
          0.6227672620634498,
          0.6227672620634498,
          0.6227672620634498,
          0.6227672620634498,
          0.6227672620634498,
          0.6227672620634498,
          0.6227672620634498,
          0.6227672620634498,
          0.6227672620634498,
          0.6227672620634498,
          0.7024793388429752,
          0.7629965342575313,
          0.7995201279658758,
          0.7981871500933084,
          0.8171154358837643,
          0.8373766995467875,
          0.8597707278059185,
          0.8701679552119435,
          0.8659024260197281,
          0.8765662490002666,
          0.8645694481471607,
          0.8645694481471607,
          0.85603838976273,
          0.8600373233804319,
          0.8762996534257531,
          0.8720341242335378,
          0.8539056251666223,
          0.8776326312983205,
          0.8810983737669955,
          0.873900293255132,
          0.8776326312983205,
          0.8874966675553185,
          0.8834977339376167,
          0.8829645427885897,
          0.8834977339376167,
          0.8480405225273261,
          0.8893628365769128,
          0.8858970941082378,
          0.8866968808317782,
          0.8818981604905358,
          0.8845641162356704,
          0.8869634764062917,
          0.8816315649160223,
          0.8888296454278859,
          0.8805651826179686,
          0.8893628365769128,
          0.845107971207678,
          0.8821647560650493,
          0.8728339109570781,
          0.880831778192482
         ]
        },
        {
         "marker": {
          "maxdisplayed": 10
         },
         "mode": "lines+markers",
         "name": "Trial3",
         "type": "scatter",
         "x": [
          0,
          1,
          2,
          3,
          4,
          5,
          6,
          7,
          8,
          9,
          10,
          11,
          12,
          13,
          14,
          15,
          16,
          17,
          18,
          19,
          20,
          21,
          22,
          23,
          24,
          25,
          26,
          27,
          28,
          29,
          30,
          31,
          32,
          33,
          34,
          35,
          36,
          37,
          38,
          39,
          40,
          41,
          42,
          43,
          44,
          45,
          46,
          47,
          48,
          49
         ],
         "y": [
          0.6227672620634498,
          0.6227672620634498,
          0.6227672620634498,
          0.6227672620634498,
          0.6227672620634498,
          0.6227672620634498,
          0.6227672620634498,
          0.6227672620634498,
          0.621167688616369,
          0.6267661956811517,
          0.6347640629165556,
          0.6419621434284191,
          0.6507597973873633,
          0.6606238336443615,
          0.6667555318581712,
          0.6766195681151693,
          0.6859504132231405,
          0.6944814716075713,
          0.7016795521194348,
          0.7123433750999734,
          0.7235403892295388,
          0.7384697414022927,
          0.7523327112769927,
          0.7621967475339909,
          0.7715275926419621,
          0.7827246067715276,
          0.7888563049853372,
          0.8029858704345508,
          0.8075179952012796,
          0.8184484137563316,
          0.823247134097574,
          0.8328445747800587,
          0.8360437216742203,
          0.841109037589976,
          0.8432418021860837,
          0.851506264996001,
          0.8539056251666223,
          0.8571047720607838,
          0.8645694481471607,
          0.8680351906158358,
          0.8685683817648627,
          0.8709677419354839,
          0.8728339109570781,
          0.8725673153825646,
          0.873900293255132,
          0.8744334844041589,
          0.8749666755531859,
          0.8784324180218608,
          0.877366035723807,
          0.8789656091708877
         ]
        },
        {
         "marker": {
          "maxdisplayed": 10
         },
         "mode": "lines+markers",
         "name": "Trial4",
         "type": "scatter",
         "x": [
          0,
          1,
          2,
          3,
          4,
          5,
          6,
          7,
          8,
          9,
          10,
          11,
          12,
          13,
          14,
          15,
          16,
          17,
          18,
          19,
          20,
          21,
          22,
          23,
          24,
          25,
          26,
          27,
          28,
          29,
          30,
          31,
          32,
          33,
          34,
          35,
          36,
          37,
          38,
          39,
          40,
          41,
          42,
          43,
          44,
          45,
          46,
          47,
          48,
          49
         ],
         "y": [
          0.6227672620634498,
          0.6227672620634498,
          0.6227672620634498,
          0.6227672620634498,
          0.6227672620634498,
          0.6251666222340709,
          0.6936816848840309,
          0.7360703812316716,
          0.7302052785923754,
          0.7235403892295388,
          0.7120767795254599,
          0.7134097573980271,
          0.7200746467608637,
          0.711010397227406,
          0.7312716608904292,
          0.7355371900826446,
          0.7195414556118368,
          0.714476139696081,
          0.7062116768861637,
          0.7424686750199947,
          0.7320714476139696,
          0.7267395361237003,
          0.7240735803785657,
          0.7214076246334311,
          0.7501999466808851,
          0.7366035723806985,
          0.7374033591042388,
          0.7315382564649426,
          0.7374033591042388,
          0.7424686750199947,
          0.7360703812316716,
          0.7470007997867235,
          0.725406558251133,
          0.7419354838709677,
          0.7331378299120235,
          0.7246067715275927,
          0.7347374033591042,
          0.7155425219941349,
          0.7238069848040523,
          0.7230071980805118,
          0.7318048520394561,
          0.7304718741668889,
          0.710477206078379,
          0.7147427352705945,
          0.7035457211410291,
          0.7235403892295388,
          0.7238069848040523,
          0.7059450813116502,
          0.7238069848040523,
          0.7059450813116502
         ]
        },
        {
         "marker": {
          "maxdisplayed": 10
         },
         "mode": "lines+markers",
         "name": "Trial5",
         "type": "scatter",
         "x": [
          0,
          1,
          2,
          3,
          4,
          5,
          6,
          7,
          8,
          9,
          10,
          11,
          12,
          13,
          14,
          15,
          16,
          17,
          18,
          19,
          20,
          21,
          22,
          23,
          24,
          25,
          26,
          27,
          28,
          29,
          30,
          31,
          32,
          33,
          34,
          35,
          36,
          37,
          38,
          39,
          40,
          41,
          42,
          43,
          44,
          45,
          46,
          47,
          48,
          49
         ],
         "y": [
          0.6227672620634498,
          0.6227672620634498,
          0.6227672620634498,
          0.6227672620634498,
          0.6542255398560384,
          0.7704612103439082,
          0.8171154358837643,
          0.8512396694214877,
          0.8765662490002666,
          0.8720341242335378,
          0.8757664622767262,
          0.8834977339376167,
          0.8914956011730205,
          0.891762196747534,
          0.8888296454278859,
          0.8925619834710744,
          0.8973607038123167,
          0.906158357771261,
          0.9002932551319648,
          0.9026926153025859,
          0.8936283657691282,
          0.8981604905358571,
          0.8984270861103706,
          0.8978938949613436,
          0.9026926153025859,
          0.8960277259397494,
          0.9024260197280725,
          0.9066915489202879,
          0.9021594241535591,
          0.9106904825379899,
          0.9192215409224207,
          0.9037589976006398,
          0.9229538789656092,
          0.9144228205811783,
          0.9192215409224207,
          0.9173553719008265,
          0.9162889896027726,
          0.9224206878165823,
          0.9216209010930418,
          0.9186883497733938,
          0.9296187683284457,
          0.9301519594774726,
          0.9010930418555052,
          0.9304185550519861,
          0.9293521727539323,
          0.9264196214342842,
          0.9269528125833111,
          0.932018128499067,
          0.93148493735004,
          0.9293521727539323
         ]
        },
        {
         "marker": {
          "maxdisplayed": 10
         },
         "mode": "lines+markers",
         "name": "Trial6",
         "type": "scatter",
         "x": [
          0
         ],
         "y": [
          0.05625166622234071
         ]
        },
        {
         "marker": {
          "maxdisplayed": 10
         },
         "mode": "lines+markers",
         "name": "Trial7",
         "type": "scatter",
         "x": [
          0
         ],
         "y": [
          0.5075979738736337
         ]
        },
        {
         "marker": {
          "maxdisplayed": 10
         },
         "mode": "lines+markers",
         "name": "Trial8",
         "type": "scatter",
         "x": [
          0,
          1,
          2,
          3,
          4,
          5,
          6,
          7,
          8,
          9,
          10,
          11,
          12,
          13,
          14,
          15,
          16,
          17,
          18,
          19,
          20,
          21,
          22,
          23
         ],
         "y": [
          0.6227672620634498,
          0.6227672620634498,
          0.6227672620634498,
          0.6227672620634498,
          0.6227672620634498,
          0.624633431085044,
          0.7136763529725406,
          0.7302052785923754,
          0.7448680351906158,
          0.7531324980005332,
          0.7645961077046121,
          0.7803252466009064,
          0.779525459877366,
          0.7931218341775527,
          0.8029858704345508,
          0.7971207677952546,
          0.7920554518794988,
          0.797387363369768,
          0.7928552386030392,
          0.8077845907757931,
          0.7925886430285257,
          0.7965875766462277,
          0.8011197014129565,
          0.800853105838443
         ]
        },
        {
         "marker": {
          "maxdisplayed": 10
         },
         "mode": "lines+markers",
         "name": "Trial9",
         "type": "scatter",
         "x": [
          0
         ],
         "y": [
          0.5875766462276726
         ]
        },
        {
         "marker": {
          "maxdisplayed": 10
         },
         "mode": "lines+markers",
         "name": "Trial10",
         "type": "scatter",
         "x": [
          0,
          1,
          2,
          3,
          4,
          5
         ],
         "y": [
          0.6227672620634498,
          0.6227672620634498,
          0.6227672620634498,
          0.6227672620634498,
          0.6227672620634498,
          0.6227672620634498
         ]
        },
        {
         "marker": {
          "maxdisplayed": 10
         },
         "mode": "lines+markers",
         "name": "Trial11",
         "type": "scatter",
         "x": [
          0,
          1,
          2,
          3,
          4,
          5,
          6,
          7,
          8,
          9,
          10,
          11
         ],
         "y": [
          0.6227672620634498,
          0.6227672620634498,
          0.6358304452146094,
          0.6507597973873633,
          0.6531591575579845,
          0.6646227672620635,
          0.6907491335643828,
          0.6867501999466809,
          0.7216742202079446,
          0.7064782724606772,
          0.7016795521194348,
          0.7200746467608637
         ]
        },
        {
         "marker": {
          "maxdisplayed": 10
         },
         "mode": "lines+markers",
         "name": "Trial12",
         "type": "scatter",
         "x": [
          0
         ],
         "y": [
          0.5982404692082112
         ]
        },
        {
         "marker": {
          "maxdisplayed": 10
         },
         "mode": "lines+markers",
         "name": "Trial13",
         "type": "scatter",
         "x": [
          0,
          1,
          2,
          3,
          4,
          5
         ],
         "y": [
          0.6227672620634498,
          0.6227672620634498,
          0.6227672620634498,
          0.6227672620634498,
          0.6227672620634498,
          0.6227672620634498
         ]
        },
        {
         "marker": {
          "maxdisplayed": 10
         },
         "mode": "lines+markers",
         "name": "Trial14",
         "type": "scatter",
         "x": [
          0,
          1,
          2,
          3,
          4,
          5,
          6,
          7,
          8,
          9,
          10,
          11,
          12,
          13,
          14,
          15,
          16,
          17,
          18,
          19,
          20,
          21,
          22,
          23,
          24,
          25,
          26,
          27,
          28,
          29,
          30,
          31,
          32,
          33,
          34,
          35,
          36,
          37,
          38,
          39,
          40,
          41,
          42,
          43,
          44,
          45,
          46,
          47,
          48,
          49
         ],
         "y": [
          0.6227672620634498,
          0.6227672620634498,
          0.6227672620634498,
          0.6254332178085844,
          0.6867501999466809,
          0.7845907757931219,
          0.819248200479872,
          0.8485737136763529,
          0.8696347640629165,
          0.8797653958944281,
          0.8832311383631032,
          0.8893628365769128,
          0.8893628365769128,
          0.8893628365769128,
          0.8816315649160223,
          0.891229005598507,
          0.8893628365769128,
          0.8962943215142629,
          0.8973607038123167,
          0.8968275126632897,
          0.8981604905358571,
          0.9026926153025859,
          0.9013596374300187,
          0.8946947480671821,
          0.8858970941082378,
          0.9021594241535591,
          0.910157291388963,
          0.9058917621967475,
          0.9157557984537457,
          0.9192215409224207,
          0.9149560117302052,
          0.9098906958144495,
          0.9074913356438283,
          0.9213543055185284,
          0.9109570781125034,
          0.9064249533457744,
          0.9210877099440149,
          0.9229538789656092,
          0.9098906958144495,
          0.9258864302852573,
          0.9288189816049054,
          0.923487070114636,
          0.9165555851772861,
          0.917088776326313,
          0.9266862170087976,
          0.9272194081578246,
          0.9176219674753399,
          0.932018128499067,
          0.9261530258597708,
          0.9288189816049054
         ]
        },
        {
         "marker": {
          "maxdisplayed": 10
         },
         "mode": "lines+markers",
         "name": "Trial15",
         "type": "scatter",
         "x": [
          0,
          1,
          2,
          3,
          4,
          5,
          6,
          7,
          8,
          9,
          10,
          11,
          12,
          13,
          14,
          15,
          16,
          17,
          18,
          19,
          20,
          21,
          22,
          23,
          24,
          25,
          26,
          27,
          28,
          29,
          30,
          31,
          32,
          33,
          34,
          35,
          36,
          37,
          38,
          39,
          40,
          41,
          42,
          43,
          44,
          45,
          46,
          47,
          48,
          49
         ],
         "y": [
          0.6227672620634498,
          0.6227672620634498,
          0.6227672620634498,
          0.6307651292988536,
          0.656358304452146,
          0.7051452945881098,
          0.7478005865102639,
          0.7888563049853372,
          0.8248467075446547,
          0.8461743535057318,
          0.8627032791255665,
          0.873900293255132,
          0.887763263129832,
          0.8938949613436417,
          0.8946947480671821,
          0.8936283657691282,
          0.8925619834710744,
          0.8938949613436417,
          0.8941615569181551,
          0.8896294321514263,
          0.8893628365769128,
          0.8944281524926686,
          0.8946947480671821,
          0.8920287923220475,
          0.8920287923220475,
          0.8962943215142629,
          0.8960277259397494,
          0.8970941082378032,
          0.9018928285790456,
          0.8994934684084244,
          0.8994934684084244,
          0.9008264462809917,
          0.9048253798986937,
          0.9040255931751533,
          0.9082911223673688,
          0.9117568648360437,
          0.9098906958144495,
          0.9154892028792322,
          0.9138896294321515,
          0.9208211143695014,
          0.9192215409224207,
          0.9181551586243668,
          0.9221540922420688,
          0.9213543055185284,
          0.9202879232204746,
          0.9218874966675553,
          0.9229538789656092,
          0.9218874966675553,
          0.9221540922420688,
          0.9186883497733938
         ]
        },
        {
         "marker": {
          "maxdisplayed": 10
         },
         "mode": "lines+markers",
         "name": "Trial16",
         "type": "scatter",
         "x": [
          0,
          1,
          2,
          3,
          4
         ],
         "y": [
          0.6227672620634498,
          0.6227672620634498,
          0.6227672620634498,
          0.6227672620634498,
          0.6227672620634498
         ]
        },
        {
         "marker": {
          "maxdisplayed": 10
         },
         "mode": "lines+markers",
         "name": "Trial17",
         "type": "scatter",
         "x": [
          0
         ],
         "y": [
          0.610237270061317
         ]
        },
        {
         "marker": {
          "maxdisplayed": 10
         },
         "mode": "lines+markers",
         "name": "Trial18",
         "type": "scatter",
         "x": [
          0,
          1,
          2,
          3,
          4,
          5,
          6,
          7,
          8,
          9,
          10,
          11,
          12,
          13,
          14,
          15,
          16,
          17,
          18,
          19,
          20,
          21,
          22,
          23,
          24,
          25,
          26,
          27,
          28,
          29,
          30,
          31,
          32,
          33,
          34,
          35,
          36,
          37,
          38,
          39,
          40,
          41,
          42,
          43,
          44,
          45,
          46,
          47,
          48,
          49
         ],
         "y": [
          0.6227672620634498,
          0.6227672620634498,
          0.6304985337243402,
          0.6400959744068249,
          0.6502266062383364,
          0.6894161556918155,
          0.8075179952012796,
          0.8512396694214877,
          0.8789656091708877,
          0.877366035723807,
          0.8613703012529992,
          0.8845641162356704,
          0.8842975206611571,
          0.8794988003199147,
          0.8856304985337243,
          0.881364969341509,
          0.8898960277259398,
          0.8861636896827513,
          0.891762196747534,
          0.888296454278859,
          0.8914956011730205,
          0.891229005598507,
          0.8896294321514263,
          0.8922953878965609,
          0.891229005598507,
          0.8933617701946148,
          0.8938949613436417,
          0.9002932551319648,
          0.8786990135963743,
          0.9034924020261264,
          0.9104238869634764,
          0.891762196747534,
          0.9093575046654225,
          0.9021594241535591,
          0.9093575046654225,
          0.9040255931751533,
          0.9093575046654225,
          0.9122900559850706,
          0.9152226073047187,
          0.9210877099440149,
          0.9141562250066649,
          0.9138896294321515,
          0.9165555851772861,
          0.9160223940282591,
          0.9152226073047187,
          0.9266862170087976,
          0.9250866435617169,
          0.9181551586243668,
          0.9168221807517996,
          0.9144228205811783
         ]
        },
        {
         "marker": {
          "maxdisplayed": 10
         },
         "mode": "lines+markers",
         "name": "Trial19",
         "type": "scatter",
         "x": [
          0,
          1,
          2,
          3,
          4,
          5,
          6,
          7,
          8,
          9,
          10,
          11,
          12,
          13,
          14,
          15,
          16,
          17,
          18,
          19,
          20,
          21,
          22,
          23,
          24,
          25,
          26,
          27,
          28,
          29,
          30,
          31,
          32,
          33,
          34,
          35,
          36,
          37,
          38,
          39,
          40,
          41,
          42,
          43,
          44,
          45,
          46,
          47,
          48,
          49
         ],
         "y": [
          0.6227672620634498,
          0.6235670487869901,
          0.7064782724606772,
          0.7504665422553985,
          0.7789922687283392,
          0.8155158624366835,
          0.8437749933351106,
          0.8696347640629165,
          0.887763263129832,
          0.8802985870434551,
          0.8909624100239936,
          0.8986936816848841,
          0.8970941082378032,
          0.8968275126632897,
          0.8973607038123167,
          0.8928285790455879,
          0.9037589976006398,
          0.8946947480671821,
          0.8760330578512396,
          0.9058917621967475,
          0.8898960277259398,
          0.9018928285790456,
          0.9029592108770994,
          0.906158357771261,
          0.9045587843241802,
          0.9045587843241802,
          0.913089842708611,
          0.9018928285790456,
          0.9042921887496668,
          0.9066915489202879,
          0.9109570781125034,
          0.9181551586243668,
          0.9160223940282591,
          0.9202879232204746,
          0.9117568648360437,
          0.9208211143695014,
          0.9048253798986937,
          0.9168221807517996,
          0.924020261263663,
          0.9181551586243668,
          0.9200213276459611,
          0.9213543055185284,
          0.9144228205811783,
          0.9125566515595841,
          0.9208211143695014,
          0.9288189816049054,
          0.906158357771261,
          0.9293521727539323,
          0.9104238869634764,
          0.9013596374300187
         ]
        },
        {
         "marker": {
          "maxdisplayed": 10
         },
         "mode": "lines+markers",
         "name": "Trial20",
         "type": "scatter",
         "x": [
          0,
          1,
          2,
          3
         ],
         "y": [
          0.6227672620634498,
          0.6227672620634498,
          0.6227672620634498,
          0.6227672620634498
         ]
        },
        {
         "marker": {
          "maxdisplayed": 10
         },
         "mode": "lines+markers",
         "name": "Trial21",
         "type": "scatter",
         "x": [
          0,
          1,
          2,
          3
         ],
         "y": [
          0.6227672620634498,
          0.6227672620634498,
          0.6227672620634498,
          0.6219674753399094
         ]
        },
        {
         "marker": {
          "maxdisplayed": 10
         },
         "mode": "lines+markers",
         "name": "Trial22",
         "type": "scatter",
         "x": [
          0,
          1,
          2,
          3,
          4
         ],
         "y": [
          0.6227672620634498,
          0.6227672620634498,
          0.6230338576379633,
          0.6254332178085844,
          0.6278325779792056
         ]
        },
        {
         "marker": {
          "maxdisplayed": 10
         },
         "mode": "lines+markers",
         "name": "Trial23",
         "type": "scatter",
         "x": [
          0,
          1,
          2,
          3
         ],
         "y": [
          0.6227672620634498,
          0.6227672620634498,
          0.6227672620634498,
          0.6227672620634498
         ]
        },
        {
         "marker": {
          "maxdisplayed": 10
         },
         "mode": "lines+markers",
         "name": "Trial24",
         "type": "scatter",
         "x": [
          0,
          1,
          2,
          3,
          4,
          5,
          6,
          7,
          8,
          9,
          10,
          11,
          12,
          13,
          14,
          15,
          16,
          17,
          18,
          19,
          20,
          21,
          22,
          23,
          24,
          25,
          26,
          27,
          28,
          29,
          30,
          31,
          32,
          33,
          34,
          35,
          36,
          37,
          38,
          39,
          40,
          41,
          42,
          43,
          44,
          45,
          46,
          47,
          48,
          49
         ],
         "y": [
          0.6227672620634498,
          0.6227672620634498,
          0.6227672620634498,
          0.733404425486537,
          0.797920554518795,
          0.8344441482271394,
          0.8536390295921088,
          0.8531058384430819,
          0.8821647560650493,
          0.8675019994668088,
          0.8842975206611571,
          0.8573713676352972,
          0.8898960277259398,
          0.880831778192482,
          0.8834977339376167,
          0.8786990135963743,
          0.8826979472140762,
          0.8723007198080512,
          0.8885630498533724,
          0.8858970941082378,
          0.8744334844041589,
          0.8914956011730205,
          0.8890962410023994,
          0.8885630498533724,
          0.8984270861103706,
          0.8866968808317782,
          0.9010930418555052,
          0.8893628365769128,
          0.8584377499333511,
          0.9053585710477207,
          0.899226872833911,
          0.9013596374300187,
          0.9144228205811783,
          0.9104238869634764,
          0.9173553719008265,
          0.9000266595574513,
          0.9037589976006398,
          0.9024260197280725,
          0.9082911223673688,
          0.917088776326313,
          0.9069581444948014,
          0.9008264462809917,
          0.9181551586243668,
          0.9045587843241802,
          0.9058917621967475,
          0.9016262330045322,
          0.920554518794988,
          0.9114902692615302,
          0.9117568648360437,
          0.9109570781125034
         ]
        },
        {
         "marker": {
          "maxdisplayed": 10
         },
         "mode": "lines+markers",
         "name": "Trial25",
         "type": "scatter",
         "x": [
          0,
          1,
          2,
          3,
          4,
          5
         ],
         "y": [
          0.6227672620634498,
          0.6227672620634498,
          0.6209010930418555,
          0.6363636363636364,
          0.6675553185817116,
          0.6888829645427886
         ]
        },
        {
         "marker": {
          "maxdisplayed": 10
         },
         "mode": "lines+markers",
         "name": "Trial26",
         "type": "scatter",
         "x": [
          0
         ],
         "y": [
          0.25886430285257267
         ]
        },
        {
         "marker": {
          "maxdisplayed": 10
         },
         "mode": "lines+markers",
         "name": "Trial27",
         "type": "scatter",
         "x": [
          0,
          1,
          2,
          3
         ],
         "y": [
          0.6227672620634498,
          0.6227672620634498,
          0.6227672620634498,
          0.6227672620634498
         ]
        },
        {
         "marker": {
          "maxdisplayed": 10
         },
         "mode": "lines+markers",
         "name": "Trial28",
         "type": "scatter",
         "x": [
          0,
          1,
          2,
          3,
          4,
          5,
          6,
          7,
          8,
          9,
          10,
          11,
          12,
          13,
          14,
          15,
          16,
          17,
          18,
          19,
          20,
          21,
          22,
          23,
          24,
          25,
          26,
          27,
          28,
          29,
          30,
          31,
          32,
          33,
          34,
          35,
          36,
          37,
          38,
          39,
          40,
          41,
          42,
          43,
          44,
          45,
          46,
          47,
          48,
          49
         ],
         "y": [
          0.6227672620634498,
          0.6227672620634498,
          0.6227672620634498,
          0.7403359104238869,
          0.8072513996267662,
          0.827246067715276,
          0.8651026392961877,
          0.8776326312983205,
          0.8720341242335378,
          0.8949613436416956,
          0.8850973073846974,
          0.895761130365236,
          0.8906958144494801,
          0.9034924020261264,
          0.8994934684084244,
          0.8930951746201014,
          0.9088243135163956,
          0.8981604905358571,
          0.9010930418555052,
          0.9109570781125034,
          0.8949613436416956,
          0.9125566515595841,
          0.906158357771261,
          0.9152226073047187,
          0.9074913356438283,
          0.9256198347107438,
          0.9144228205811783,
          0.910157291388963,
          0.9189549453479072,
          0.9330845107971207,
          0.9213543055185284,
          0.93148493735004,
          0.9256198347107438,
          0.934950679818715,
          0.9290855771794189,
          0.9322847240735804,
          0.9312183417755265,
          0.9400159957344708,
          0.9338842975206612,
          0.9365502532657958,
          0.932018128499067,
          0.9144228205811783,
          0.9232204745401227,
          0.9354838709677419,
          0.9373500399893362,
          0.9376166355638497,
          0.9312183417755265,
          0.9288189816049054,
          0.9258864302852573,
          0.9296187683284457
         ]
        },
        {
         "marker": {
          "maxdisplayed": 10
         },
         "mode": "lines+markers",
         "name": "Trial29",
         "type": "scatter",
         "x": [
          0,
          1,
          2,
          3
         ],
         "y": [
          0.6227672620634498,
          0.6227672620634498,
          0.6227672620634498,
          0.610237270061317
         ]
        },
        {
         "marker": {
          "maxdisplayed": 10
         },
         "mode": "lines+markers",
         "name": "Trial30",
         "type": "scatter",
         "x": [
          0,
          1,
          2,
          3,
          4,
          5,
          6,
          7,
          8,
          9,
          10,
          11,
          12,
          13,
          14,
          15,
          16,
          17,
          18,
          19,
          20,
          21,
          22,
          23,
          24,
          25,
          26,
          27,
          28,
          29,
          30,
          31,
          32,
          33,
          34,
          35,
          36,
          37,
          38,
          39,
          40,
          41,
          42,
          43,
          44,
          45,
          46,
          47,
          48,
          49
         ],
         "y": [
          0.6227672620634498,
          0.6227672620634498,
          0.6646227672620635,
          0.7374033591042388,
          0.769128232471341,
          0.8144494801386297,
          0.8304452146094374,
          0.8573713676352972,
          0.866435617168755,
          0.8661690215942416,
          0.8784324180218608,
          0.8906958144494801,
          0.8933617701946148,
          0.891762196747534,
          0.8914956011730205,
          0.8920287923220475,
          0.8659024260197281,
          0.9013596374300187,
          0.8914956011730205,
          0.8944281524926686,
          0.8973607038123167,
          0.9080245267928553,
          0.8936283657691282,
          0.8888296454278859,
          0.913089842708611,
          0.8805651826179686,
          0.9058917621967475,
          0.9048253798986937,
          0.910157291388963,
          0.9026926153025859,
          0.8933617701946148,
          0.9162889896027726,
          0.880831778192482,
          0.9093575046654225,
          0.8960277259397494,
          0.8832311383631032,
          0.9120234604105572,
          0.906158357771261,
          0.9197547320714476,
          0.9080245267928553,
          0.9152226073047187,
          0.9194881364969342,
          0.9210877099440149,
          0.9160223940282591,
          0.9093575046654225,
          0.9242868568381765,
          0.9256198347107438,
          0.9272194081578246,
          0.9226872833910957,
          0.9157557984537457
         ]
        },
        {
         "marker": {
          "maxdisplayed": 10
         },
         "mode": "lines+markers",
         "name": "Trial31",
         "type": "scatter",
         "x": [
          0,
          1,
          2,
          3,
          4,
          5,
          6,
          7,
          8,
          9,
          10,
          11,
          12,
          13,
          14,
          15,
          16,
          17,
          18,
          19,
          20,
          21,
          22,
          23,
          24,
          25,
          26,
          27,
          28,
          29,
          30,
          31,
          32,
          33,
          34,
          35,
          36,
          37,
          38,
          39,
          40,
          41,
          42,
          43,
          44,
          45,
          46,
          47,
          48,
          49
         ],
         "y": [
          0.6227672620634498,
          0.6227672620634498,
          0.6590242601972808,
          0.7683284457478006,
          0.8120501199680086,
          0.8363103172487337,
          0.8712343375099973,
          0.8864302852572647,
          0.8784324180218608,
          0.8821647560650493,
          0.8858970941082378,
          0.8925619834710744,
          0.8571047720607838,
          0.8970941082378032,
          0.8880298587043455,
          0.9008264462809917,
          0.9058917621967475,
          0.8906958144494801,
          0.9074913356438283,
          0.8826979472140762,
          0.9032258064516129,
          0.9085577179418821,
          0.9106904825379899,
          0.913623033857638,
          0.8970941082378032,
          0.9037589976006398,
          0.9114902692615302,
          0.9066915489202879,
          0.9042921887496668,
          0.9216209010930418,
          0.927486003732338,
          0.9266862170087976,
          0.9208211143695014,
          0.9165555851772861,
          0.9277525993068515,
          0.9157557984537457,
          0.9106904825379899,
          0.9266862170087976,
          0.927486003732338,
          0.9288189816049054,
          0.9272194081578246,
          0.9202879232204746,
          0.9192215409224207,
          0.923487070114636,
          0.9226872833910957,
          0.9309517462010131,
          0.913089842708611,
          0.9248200479872034,
          0.9261530258597708,
          0.9288189816049054
         ]
        },
        {
         "marker": {
          "maxdisplayed": 10
         },
         "mode": "lines+markers",
         "name": "Trial32",
         "type": "scatter",
         "x": [
          0,
          1,
          2,
          3,
          4,
          5,
          6,
          7,
          8,
          9,
          10,
          11,
          12,
          13,
          14,
          15,
          16,
          17,
          18,
          19,
          20,
          21,
          22,
          23,
          24,
          25,
          26,
          27,
          28,
          29,
          30,
          31,
          32,
          33,
          34,
          35,
          36,
          37,
          38,
          39,
          40,
          41,
          42,
          43,
          44,
          45,
          46,
          47,
          48,
          49
         ],
         "y": [
          0.6227672620634498,
          0.6227672620634498,
          0.7091442282058118,
          0.779525459877366,
          0.8077845907757931,
          0.8517728605705145,
          0.866435617168755,
          0.8720341242335378,
          0.8810983737669955,
          0.8720341242335378,
          0.873367102106105,
          0.8989602772593975,
          0.8848307118101839,
          0.8994934684084244,
          0.8768328445747801,
          0.8834977339376167,
          0.8866968808317782,
          0.887763263129832,
          0.8976272993868302,
          0.8949613436416956,
          0.8842975206611571,
          0.8970941082378032,
          0.8906958144494801,
          0.9053585710477207,
          0.8547054118901626,
          0.9005598507064783,
          0.8970941082378032,
          0.9178885630498533,
          0.9184217541988803,
          0.9210877099440149,
          0.9080245267928553,
          0.9157557984537457,
          0.9261530258597708,
          0.9261530258597708,
          0.9245534524126899,
          0.9245534524126899,
          0.9232204745401227,
          0.9194881364969342,
          0.9157557984537457,
          0.9157557984537457,
          0.9266862170087976,
          0.9258864302852573,
          0.9245534524126899,
          0.9197547320714476,
          0.9229538789656092,
          0.9120234604105572,
          0.923487070114636,
          0.9106904825379899,
          0.9288189816049054,
          0.9288189816049054
         ]
        },
        {
         "marker": {
          "maxdisplayed": 10
         },
         "mode": "lines+markers",
         "name": "Trial33",
         "type": "scatter",
         "x": [
          0,
          1,
          2,
          3,
          4,
          5,
          6,
          7,
          8,
          9,
          10,
          11,
          12,
          13,
          14,
          15,
          16,
          17,
          18,
          19,
          20,
          21,
          22,
          23,
          24,
          25,
          26,
          27,
          28,
          29,
          30,
          31,
          32,
          33,
          34,
          35,
          36,
          37,
          38,
          39,
          40,
          41,
          42,
          43,
          44,
          45,
          46,
          47,
          48,
          49
         ],
         "y": [
          0.6227672620634498,
          0.6227672620634498,
          0.6227672620634498,
          0.7637963209810718,
          0.8149826712876567,
          0.8309784057584644,
          0.8725673153825646,
          0.8709677419354839,
          0.8938949613436417,
          0.877366035723807,
          0.8837643295121301,
          0.8893628365769128,
          0.8986936816848841,
          0.8832311383631032,
          0.8920287923220475,
          0.9042921887496668,
          0.8986936816848841,
          0.9120234604105572,
          0.9008264462809917,
          0.9050919754732072,
          0.9005598507064783,
          0.9088243135163956,
          0.8754998667022127,
          0.9000266595574513,
          0.9173553719008265,
          0.9242868568381765,
          0.9218874966675553,
          0.9162889896027726,
          0.923487070114636,
          0.9210877099440149,
          0.920554518794988,
          0.928019194881365,
          0.93148493735004,
          0.9290855771794189,
          0.9336177019461477,
          0.9304185550519861,
          0.9312183417755265,
          0.9293521727539323,
          0.9362836576912823,
          0.9298853639029592,
          0.9312183417755265,
          0.923487070114636,
          0.9352172753932285,
          0.9317515329245535,
          0.9272194081578246,
          0.9309517462010131,
          0.9272194081578246,
          0.9330845107971207,
          0.932018128499067,
          0.9346840842442016
         ]
        },
        {
         "marker": {
          "maxdisplayed": 10
         },
         "mode": "lines+markers",
         "name": "Trial34",
         "type": "scatter",
         "x": [
          0,
          1,
          2,
          3,
          4,
          5,
          6,
          7,
          8
         ],
         "y": [
          0.6227672620634498,
          0.6227672620634498,
          0.6411623567048786,
          0.7219408157824581,
          0.7939216209010931,
          0.8155158624366835,
          0.8600373233804319,
          0.8621700879765396,
          0.866435617168755
         ]
        },
        {
         "marker": {
          "maxdisplayed": 10
         },
         "mode": "lines+markers",
         "name": "Trial35",
         "type": "scatter",
         "x": [
          0,
          1,
          2,
          3,
          4,
          5
         ],
         "y": [
          0.6227672620634498,
          0.6227672620634498,
          0.6227672620634498,
          0.7619301519594774,
          0.7717941882164756,
          0.7443348440415889
         ]
        },
        {
         "marker": {
          "maxdisplayed": 10
         },
         "mode": "lines+markers",
         "name": "Trial36",
         "type": "scatter",
         "x": [
          0,
          1,
          2,
          3
         ],
         "y": [
          0.6227672620634498,
          0.6227672620634498,
          0.6227672620634498,
          0.6227672620634498
         ]
        },
        {
         "marker": {
          "maxdisplayed": 10
         },
         "mode": "lines+markers",
         "name": "Trial37",
         "type": "scatter",
         "x": [
          0,
          1,
          2,
          3,
          4,
          5,
          6,
          7,
          8,
          9,
          10,
          11,
          12,
          13,
          14,
          15,
          16,
          17,
          18,
          19,
          20,
          21,
          22,
          23,
          24,
          25,
          26,
          27,
          28,
          29,
          30,
          31,
          32,
          33,
          34,
          35,
          36,
          37,
          38,
          39,
          40,
          41,
          42,
          43,
          44,
          45,
          46,
          47,
          48,
          49
         ],
         "y": [
          0.6227672620634498,
          0.6227672620634498,
          0.6227672620634498,
          0.7589976006398294,
          0.8056518261796854,
          0.8240469208211144,
          0.8648360437216742,
          0.8653692348707012,
          0.8890962410023994,
          0.8890962410023994,
          0.8941615569181551,
          0.8802985870434551,
          0.8962943215142629,
          0.9072247400693149,
          0.9032258064516129,
          0.8997600639829378,
          0.9077579312183418,
          0.8997600639829378,
          0.9032258064516129,
          0.8970941082378032,
          0.9026926153025859,
          0.8930951746201014,
          0.9042921887496668,
          0.9154892028792322,
          0.9168221807517996,
          0.9210877099440149,
          0.9165555851772861,
          0.9173553719008265,
          0.9200213276459611,
          0.9298853639029592,
          0.9194881364969342,
          0.9304185550519861,
          0.9261530258597708,
          0.9304185550519861,
          0.9277525993068515,
          0.9301519594774726,
          0.9309517462010131,
          0.9306851506264996,
          0.9341508930951746,
          0.9354838709677419,
          0.9365502532657958,
          0.9253532391362304,
          0.9360170621167688,
          0.9346840842442016,
          0.9328179152226073,
          0.9290855771794189,
          0.9365502532657958,
          0.9325513196480938,
          0.9365502532657958,
          0.9325513196480938
         ]
        },
        {
         "marker": {
          "maxdisplayed": 10
         },
         "mode": "lines+markers",
         "name": "Trial38",
         "type": "scatter",
         "x": [
          0,
          1,
          2,
          3
         ],
         "y": [
          0.6227672620634498,
          0.5894428152492669,
          0.6227672620634498,
          0.5777126099706745
         ]
        },
        {
         "marker": {
          "maxdisplayed": 10
         },
         "mode": "lines+markers",
         "name": "Trial39",
         "type": "scatter",
         "x": [
          0,
          1,
          2,
          3
         ],
         "y": [
          0.6227672620634498,
          0.6227672620634498,
          0.6227672620634498,
          0.6227672620634498
         ]
        },
        {
         "marker": {
          "maxdisplayed": 10
         },
         "mode": "lines+markers",
         "name": "Trial40",
         "type": "scatter",
         "x": [
          0,
          1,
          2,
          3,
          4,
          5
         ],
         "y": [
          0.6227672620634498,
          0.6227672620634498,
          0.6462276726206345,
          0.7304718741668889,
          0.7475339909357505,
          0.7736603572380698
         ]
        },
        {
         "marker": {
          "maxdisplayed": 10
         },
         "mode": "lines+markers",
         "name": "Trial41",
         "type": "scatter",
         "x": [
          0,
          1,
          2,
          3,
          4,
          5,
          6,
          7,
          8,
          9,
          10,
          11,
          12,
          13,
          14,
          15,
          16,
          17,
          18,
          19,
          20,
          21,
          22,
          23,
          24,
          25,
          26,
          27,
          28,
          29,
          30,
          31,
          32,
          33,
          34,
          35,
          36,
          37,
          38,
          39,
          40,
          41,
          42,
          43,
          44,
          45,
          46,
          47,
          48,
          49
         ],
         "y": [
          0.6227672620634498,
          0.6227672620634498,
          0.6227672620634498,
          0.7549986670221275,
          0.8043188483071181,
          0.8168488403092509,
          0.8752332711276993,
          0.8920287923220475,
          0.8776326312983205,
          0.899226872833911,
          0.8770994401492935,
          0.9026926153025859,
          0.8749666755531859,
          0.8909624100239936,
          0.9016262330045322,
          0.9037589976006398,
          0.9034924020261264,
          0.8981604905358571,
          0.8984270861103706,
          0.906158357771261,
          0.9066915489202879,
          0.9029592108770994,
          0.8832311383631032,
          0.9109570781125034,
          0.9141562250066649,
          0.9152226073047187,
          0.9202879232204746,
          0.9154892028792322,
          0.9090909090909091,
          0.9202879232204746,
          0.9173553719008265,
          0.920554518794988,
          0.9285523860303919,
          0.9197547320714476,
          0.9256198347107438,
          0.9277525993068515,
          0.9298853639029592,
          0.932018128499067,
          0.9256198347107438,
          0.9232204745401227,
          0.9298853639029592,
          0.9325513196480938,
          0.9336177019461477,
          0.9312183417755265,
          0.9328179152226073,
          0.932018128499067,
          0.9344174886696881,
          0.9341508930951746,
          0.9352172753932285,
          0.934950679818715
         ]
        },
        {
         "marker": {
          "maxdisplayed": 10
         },
         "mode": "lines+markers",
         "name": "Trial42",
         "type": "scatter",
         "x": [
          0,
          1,
          2,
          3
         ],
         "y": [
          0.6227672620634498,
          0.6227672620634498,
          0.6227672620634498,
          0.6878165822447347
         ]
        },
        {
         "marker": {
          "maxdisplayed": 10
         },
         "mode": "lines+markers",
         "name": "Trial43",
         "type": "scatter",
         "x": [
          0,
          1,
          2,
          3,
          4,
          5,
          6,
          7,
          8
         ],
         "y": [
          0.6227672620634498,
          0.6227672620634498,
          0.6227672620634498,
          0.6982138096507597,
          0.754732071447614,
          0.8285790455878432,
          0.8501732871234338,
          0.8608371101039722,
          0.8725673153825646
         ]
        },
        {
         "marker": {
          "maxdisplayed": 10
         },
         "mode": "lines+markers",
         "name": "Trial44",
         "type": "scatter",
         "x": [
          0,
          1,
          2,
          3
         ],
         "y": [
          0.6227672620634498,
          0.6227672620634498,
          0.6227672620634498,
          0.6894161556918155
         ]
        },
        {
         "marker": {
          "maxdisplayed": 10
         },
         "mode": "lines+markers",
         "name": "Trial45",
         "type": "scatter",
         "x": [
          0,
          1,
          2,
          3
         ],
         "y": [
          0.6227672620634498,
          0.6227672620634498,
          0.6227672620634498,
          0.6806185017328712
         ]
        },
        {
         "marker": {
          "maxdisplayed": 10
         },
         "mode": "lines+markers",
         "name": "Trial46",
         "type": "scatter",
         "x": [
          0,
          1,
          2,
          3
         ],
         "y": [
          0.6227672620634498,
          0.6227672620634498,
          0.6230338576379633,
          0.6819514796054386
         ]
        },
        {
         "marker": {
          "maxdisplayed": 10
         },
         "mode": "lines+markers",
         "name": "Trial47",
         "type": "scatter",
         "x": [
          0,
          1,
          2,
          3
         ],
         "y": [
          0.6227672620634498,
          0.6227672620634498,
          0.6227672620634498,
          0.6153025859770728
         ]
        },
        {
         "marker": {
          "maxdisplayed": 10
         },
         "mode": "lines+markers",
         "name": "Trial48",
         "type": "scatter",
         "x": [
          0,
          1,
          2,
          3,
          4,
          5,
          6,
          7,
          8,
          9,
          10,
          11,
          12,
          13,
          14,
          15,
          16,
          17,
          18,
          19,
          20,
          21,
          22,
          23,
          24,
          25,
          26,
          27,
          28,
          29,
          30,
          31,
          32,
          33,
          34,
          35,
          36,
          37,
          38,
          39,
          40,
          41,
          42,
          43,
          44,
          45,
          46,
          47,
          48,
          49
         ],
         "y": [
          0.6227672620634498,
          0.6227672620634498,
          0.7003465742468675,
          0.7872567315382565,
          0.8235137296720875,
          0.8584377499333511,
          0.8731005065315915,
          0.8802985870434551,
          0.8768328445747801,
          0.887763263129832,
          0.8888296454278859,
          0.8936283657691282,
          0.8925619834710744,
          0.8960277259397494,
          0.8997600639829378,
          0.8770994401492935,
          0.8856304985337243,
          0.9005598507064783,
          0.9010930418555052,
          0.8872300719808052,
          0.9002932551319648,
          0.8909624100239936,
          0.8994934684084244,
          0.9192215409224207,
          0.9162889896027726,
          0.9162889896027726,
          0.9250866435617169,
          0.9200213276459611,
          0.9216209010930418,
          0.9066915489202879,
          0.9184217541988803,
          0.9221540922420688,
          0.9165555851772861,
          0.9229538789656092,
          0.93148493735004,
          0.9258864302852573,
          0.927486003732338,
          0.923487070114636,
          0.928019194881365,
          0.9032258064516129,
          0.9216209010930418,
          0.9317515329245535,
          0.928019194881365,
          0.9256198347107438,
          0.9285523860303919,
          0.9325513196480938,
          0.9266862170087976,
          0.9266862170087976,
          0.932018128499067,
          0.9277525993068515
         ]
        },
        {
         "marker": {
          "maxdisplayed": 10
         },
         "mode": "lines+markers",
         "name": "Trial49",
         "type": "scatter",
         "x": [
          0,
          1,
          2,
          3
         ],
         "y": [
          0.6227672620634498,
          0.6227672620634498,
          0.6227672620634498,
          0.6227672620634498
         ]
        },
        {
         "marker": {
          "maxdisplayed": 10
         },
         "mode": "lines+markers",
         "name": "Trial50",
         "type": "scatter",
         "x": [
          0,
          1,
          2,
          3,
          4
         ],
         "y": [
          0.6227672620634498,
          0.6227672620634498,
          0.6227672620634498,
          0.7384697414022927,
          0.7315382564649426
         ]
        },
        {
         "marker": {
          "maxdisplayed": 10
         },
         "mode": "lines+markers",
         "name": "Trial51",
         "type": "scatter",
         "x": [
          0,
          1,
          2,
          3,
          4,
          5,
          6,
          7,
          8,
          9,
          10,
          11,
          12,
          13,
          14,
          15,
          16,
          17,
          18,
          19,
          20,
          21,
          22,
          23,
          24,
          25,
          26,
          27,
          28,
          29,
          30,
          31,
          32,
          33,
          34,
          35,
          36,
          37,
          38,
          39,
          40,
          41,
          42,
          43,
          44,
          45,
          46,
          47,
          48,
          49
         ],
         "y": [
          0.6227672620634498,
          0.6227672620634498,
          0.6480938416422287,
          0.7672620634497468,
          0.8208477739269529,
          0.8312450013329779,
          0.8765662490002666,
          0.8824313516395628,
          0.8941615569181551,
          0.8922953878965609,
          0.8941615569181551,
          0.8925619834710744,
          0.9002932551319648,
          0.8938949613436417,
          0.9042921887496668,
          0.8989602772593975,
          0.9069581444948014,
          0.8976272993868302,
          0.899226872833911,
          0.9032258064516129,
          0.9112236736870168,
          0.9106904825379899,
          0.9189549453479072,
          0.9104238869634764,
          0.9146894161556918,
          0.917088776326313,
          0.920554518794988,
          0.9213543055185284,
          0.9248200479872034,
          0.9250866435617169,
          0.9181551586243668,
          0.9210877099440149,
          0.9288189816049054,
          0.9250866435617169,
          0.9264196214342842,
          0.9146894161556918,
          0.9256198347107438,
          0.9309517462010131,
          0.9330845107971207,
          0.9322847240735804,
          0.9290855771794189,
          0.9330845107971207,
          0.9354838709677419,
          0.9344174886696881,
          0.9405491868834978,
          0.9370834444148227,
          0.9362836576912823,
          0.934950679818715,
          0.9354838709677419,
          0.9344174886696881
         ]
        },
        {
         "marker": {
          "maxdisplayed": 10
         },
         "mode": "lines+markers",
         "name": "Trial52",
         "type": "scatter",
         "x": [
          0,
          1,
          2,
          3,
          4,
          5,
          6,
          7,
          8,
          9,
          10,
          11,
          12,
          13,
          14,
          15,
          16,
          17,
          18,
          19,
          20,
          21,
          22,
          23,
          24,
          25,
          26,
          27,
          28,
          29,
          30,
          31,
          32,
          33,
          34,
          35,
          36,
          37,
          38,
          39,
          40,
          41,
          42,
          43,
          44,
          45,
          46,
          47,
          48,
          49
         ],
         "y": [
          0.6227672620634498,
          0.6227672620634498,
          0.6371634230871768,
          0.7496667555318581,
          0.8152492668621701,
          0.8317781924820048,
          0.8725673153825646,
          0.8760330578512396,
          0.8898960277259398,
          0.8850973073846974,
          0.8861636896827513,
          0.8906958144494801,
          0.8970941082378032,
          0.8925619834710744,
          0.9013596374300187,
          0.9018928285790456,
          0.8837643295121301,
          0.9024260197280725,
          0.9088243135163956,
          0.9138896294321515,
          0.9125566515595841,
          0.9181551586243668,
          0.9168221807517996,
          0.9066915489202879,
          0.9128232471340976,
          0.9074913356438283,
          0.9258864302852573,
          0.9264196214342842,
          0.9258864302852573,
          0.9216209010930418,
          0.9261530258597708,
          0.9325513196480938,
          0.9298853639029592,
          0.9293521727539323,
          0.9306851506264996,
          0.9237536656891495,
          0.9293521727539323,
          0.924020261263663,
          0.9194881364969342,
          0.9285523860303919,
          0.9352172753932285,
          0.9352172753932285,
          0.9325513196480938,
          0.9357504665422554,
          0.9368168488403092,
          0.9357504665422554,
          0.9317515329245535,
          0.9394828045854439,
          0.9341508930951746,
          0.9402825913089843
         ]
        },
        {
         "marker": {
          "maxdisplayed": 10
         },
         "mode": "lines+markers",
         "name": "Trial53",
         "type": "scatter",
         "x": [
          0,
          1,
          2,
          3,
          4,
          5,
          6,
          7,
          8,
          9,
          10,
          11,
          12,
          13,
          14,
          15,
          16,
          17,
          18,
          19,
          20,
          21,
          22,
          23,
          24,
          25,
          26,
          27,
          28,
          29,
          30,
          31,
          32,
          33,
          34,
          35,
          36,
          37,
          38,
          39,
          40,
          41,
          42,
          43,
          44,
          45,
          46,
          47,
          48,
          49
         ],
         "y": [
          0.6227672620634498,
          0.6227672620634498,
          0.642495334577446,
          0.7925886430285257,
          0.819248200479872,
          0.8565715809117569,
          0.8810983737669955,
          0.8794988003199147,
          0.8747000799786724,
          0.873900293255132,
          0.8976272993868302,
          0.8784324180218608,
          0.8984270861103706,
          0.8973607038123167,
          0.9013596374300187,
          0.9024260197280725,
          0.8962943215142629,
          0.9085577179418821,
          0.8909624100239936,
          0.9085577179418821,
          0.9165555851772861,
          0.9000266595574513,
          0.9162889896027726,
          0.8592375366568915,
          0.9088243135163956,
          0.9173553719008265,
          0.9082911223673688,
          0.9261530258597708,
          0.917088776326313,
          0.9144228205811783,
          0.9226872833910957,
          0.9282857904558784,
          0.9208211143695014,
          0.9304185550519861,
          0.9256198347107438,
          0.9328179152226073,
          0.9229538789656092,
          0.9282857904558784,
          0.9224206878165823,
          0.9381498267128766,
          0.9325513196480938,
          0.928019194881365,
          0.9285523860303919,
          0.9296187683284457,
          0.932018128499067,
          0.93148493735004,
          0.9309517462010131,
          0.9341508930951746,
          0.934950679818715,
          0.9333511063716342
         ]
        },
        {
         "marker": {
          "maxdisplayed": 10
         },
         "mode": "lines+markers",
         "name": "Trial54",
         "type": "scatter",
         "x": [
          0,
          1,
          2,
          3,
          4,
          5,
          6,
          7,
          8,
          9,
          10,
          11,
          12,
          13,
          14,
          15,
          16,
          17,
          18,
          19,
          20,
          21,
          22,
          23,
          24,
          25,
          26,
          27,
          28,
          29,
          30,
          31,
          32,
          33,
          34,
          35,
          36,
          37,
          38,
          39,
          40,
          41,
          42,
          43,
          44,
          45,
          46,
          47,
          48,
          49
         ],
         "y": [
          0.6227672620634498,
          0.6227672620634498,
          0.6227672620634498,
          0.7424686750199947,
          0.8224473473740336,
          0.8400426552919221,
          0.8624366835510531,
          0.8776326312983205,
          0.895227939216209,
          0.8920287923220475,
          0.8890962410023994,
          0.8962943215142629,
          0.9024260197280725,
          0.9013596374300187,
          0.9042921887496668,
          0.8994934684084244,
          0.9018928285790456,
          0.9066915489202879,
          0.9037589976006398,
          0.9176219674753399,
          0.8976272993868302,
          0.9085577179418821,
          0.9109570781125034,
          0.9114902692615302,
          0.9093575046654225,
          0.9197547320714476,
          0.9149560117302052,
          0.924020261263663,
          0.9202879232204746,
          0.9221540922420688,
          0.9285523860303919,
          0.909624100239936,
          0.9277525993068515,
          0.9290855771794189,
          0.93148493735004,
          0.9330845107971207,
          0.9277525993068515,
          0.9336177019461477,
          0.9309517462010131,
          0.9346840842442016,
          0.9328179152226073,
          0.9376166355638497,
          0.9376166355638497,
          0.9362836576912823,
          0.9202879232204746,
          0.9402825913089843,
          0.9368168488403092,
          0.9381498267128766,
          0.9378832311383631,
          0.9384164222873901
         ]
        },
        {
         "marker": {
          "maxdisplayed": 10
         },
         "mode": "lines+markers",
         "name": "Trial55",
         "type": "scatter",
         "x": [
          0,
          1,
          2,
          3
         ],
         "y": [
          0.6227672620634498,
          0.6227672620634498,
          0.6227672620634498,
          0.7192748600373233
         ]
        },
        {
         "marker": {
          "maxdisplayed": 10
         },
         "mode": "lines+markers",
         "name": "Trial56",
         "type": "scatter",
         "x": [
          0,
          1,
          2,
          3
         ],
         "y": [
          0.6227672620634498,
          0.6227672620634498,
          0.6227672620634498,
          0.6406291655558518
         ]
        },
        {
         "marker": {
          "maxdisplayed": 10
         },
         "mode": "lines+markers",
         "name": "Trial57",
         "type": "scatter",
         "x": [
          0,
          1,
          2,
          3
         ],
         "y": [
          0.6227672620634498,
          0.6153025859770728,
          0.6203679018928285,
          0.6472940549186883
         ]
        },
        {
         "marker": {
          "maxdisplayed": 10
         },
         "mode": "lines+markers",
         "name": "Trial58",
         "type": "scatter",
         "x": [
          0,
          1,
          2,
          3
         ],
         "y": [
          0.6227672620634498,
          0.6227672620634498,
          0.6227672620634498,
          0.7214076246334311
         ]
        },
        {
         "marker": {
          "maxdisplayed": 10
         },
         "mode": "lines+markers",
         "name": "Trial59",
         "type": "scatter",
         "x": [
          0
         ],
         "y": [
          0.17515329245534525
         ]
        },
        {
         "marker": {
          "maxdisplayed": 10
         },
         "mode": "lines+markers",
         "name": "Trial60",
         "type": "scatter",
         "x": [
          0,
          1,
          2,
          3
         ],
         "y": [
          0.6227672620634498,
          0.6227672620634498,
          0.6227672620634498,
          0.7299386830178619
         ]
        },
        {
         "marker": {
          "maxdisplayed": 10
         },
         "mode": "lines+markers",
         "name": "Trial61",
         "type": "scatter",
         "x": [
          0,
          1,
          2,
          3,
          4,
          5,
          6,
          7,
          8,
          9,
          10,
          11,
          12,
          13,
          14,
          15,
          16,
          17,
          18,
          19,
          20,
          21,
          22,
          23,
          24,
          25,
          26,
          27,
          28,
          29,
          30,
          31,
          32,
          33,
          34,
          35,
          36,
          37,
          38,
          39,
          40,
          41,
          42,
          43,
          44,
          45,
          46,
          47,
          48,
          49
         ],
         "y": [
          0.6227672620634498,
          0.6227672620634498,
          0.6227672620634498,
          0.7478005865102639,
          0.8203145827779259,
          0.8229805385230605,
          0.8651026392961877,
          0.8762996534257531,
          0.8789656091708877,
          0.8845641162356704,
          0.8909624100239936,
          0.8866968808317782,
          0.8866968808317782,
          0.8960277259397494,
          0.8920287923220475,
          0.8989602772593975,
          0.8984270861103706,
          0.8962943215142629,
          0.8864302852572647,
          0.8928285790455879,
          0.8944281524926686,
          0.9037589976006398,
          0.9192215409224207,
          0.9114902692615302,
          0.9112236736870168,
          0.9178885630498533,
          0.9117568648360437,
          0.9192215409224207,
          0.9269528125833111,
          0.9285523860303919,
          0.9245534524126899,
          0.9218874966675553,
          0.9248200479872034,
          0.9250866435617169,
          0.9256198347107438,
          0.9224206878165823,
          0.9266862170087976,
          0.9202879232204746,
          0.9285523860303919,
          0.9328179152226073,
          0.9317515329245535,
          0.9266862170087976,
          0.9258864302852573,
          0.9282857904558784,
          0.934950679818715,
          0.9277525993068515,
          0.934950679818715,
          0.9296187683284457,
          0.9370834444148227,
          0.9290855771794189
         ]
        },
        {
         "marker": {
          "maxdisplayed": 10
         },
         "mode": "lines+markers",
         "name": "Trial62",
         "type": "scatter",
         "x": [
          0,
          1,
          2,
          3,
          4,
          5,
          6,
          7,
          8,
          9,
          10,
          11,
          12,
          13
         ],
         "y": [
          0.6227672620634498,
          0.6227672620634498,
          0.6238336443615036,
          0.7573980271927486,
          0.8168488403092509,
          0.8347107438016529,
          0.8781658224473474,
          0.8720341242335378,
          0.8866968808317782,
          0.8821647560650493,
          0.8898960277259398,
          0.8898960277259398,
          0.8749666755531859,
          0.8757664622767262
         ]
        },
        {
         "marker": {
          "maxdisplayed": 10
         },
         "mode": "lines+markers",
         "name": "Trial63",
         "type": "scatter",
         "x": [
          0,
          1,
          2,
          3,
          4,
          5,
          6
         ],
         "y": [
          0.6227672620634498,
          0.6227672620634498,
          0.6227672620634498,
          0.7470007997867235,
          0.8229805385230605,
          0.8363103172487337,
          0.833644361503599
         ]
        },
        {
         "marker": {
          "maxdisplayed": 10
         },
         "mode": "lines+markers",
         "name": "Trial64",
         "type": "scatter",
         "x": [
          0,
          1,
          2,
          3
         ],
         "y": [
          0.6227672620634498,
          0.6227672620634498,
          0.6227672620634498,
          0.6227672620634498
         ]
        },
        {
         "marker": {
          "maxdisplayed": 10
         },
         "mode": "lines+markers",
         "name": "Trial65",
         "type": "scatter",
         "x": [
          0,
          1,
          2,
          3
         ],
         "y": [
          0.6227672620634498,
          0.6227672620634498,
          0.6227672620634498,
          0.6520927752599307
         ]
        },
        {
         "marker": {
          "maxdisplayed": 10
         },
         "mode": "lines+markers",
         "name": "Trial66",
         "type": "scatter",
         "x": [
          0,
          1,
          2,
          3,
          4
         ],
         "y": [
          0.6227672620634498,
          0.6264996001066382,
          0.7062116768861637,
          0.7565982404692082,
          0.7896560917088776
         ]
        },
        {
         "marker": {
          "maxdisplayed": 10
         },
         "mode": "lines+markers",
         "name": "Trial67",
         "type": "scatter",
         "x": [
          0,
          1,
          2,
          3,
          4,
          5,
          6
         ],
         "y": [
          0.6227672620634498,
          0.6227672620634498,
          0.6227672620634498,
          0.7992535323913623,
          0.8243135163956279,
          0.8501732871234338,
          0.8533724340175953
         ]
        },
        {
         "marker": {
          "maxdisplayed": 10
         },
         "mode": "lines+markers",
         "name": "Trial68",
         "type": "scatter",
         "x": [
          0,
          1,
          2,
          3,
          4,
          5,
          6,
          7,
          8,
          9,
          10,
          11
         ],
         "y": [
          0.6227672620634498,
          0.6227672620634498,
          0.6227672620634498,
          0.7501999466808851,
          0.8216475606504932,
          0.8381764862703279,
          0.8659024260197281,
          0.8752332711276993,
          0.8800319914689416,
          0.8874966675553185,
          0.8858970941082378,
          0.8800319914689416
         ]
        },
        {
         "marker": {
          "maxdisplayed": 10
         },
         "mode": "lines+markers",
         "name": "Trial69",
         "type": "scatter",
         "x": [
          0,
          1,
          2,
          3,
          4
         ],
         "y": [
          0.6227672620634498,
          0.6227672620634498,
          0.725406558251133,
          0.7509997334044255,
          0.7845907757931219
         ]
        },
        {
         "marker": {
          "maxdisplayed": 10
         },
         "mode": "lines+markers",
         "name": "Trial70",
         "type": "scatter",
         "x": [
          0,
          1,
          2,
          3
         ],
         "y": [
          0.6227672620634498,
          0.6227672620634498,
          0.6227672620634498,
          0.6331644894694748
         ]
        },
        {
         "marker": {
          "maxdisplayed": 10
         },
         "mode": "lines+markers",
         "name": "Trial71",
         "type": "scatter",
         "x": [
          0,
          1,
          2,
          3,
          4
         ],
         "y": [
          0.6227672620634498,
          0.6227672620634498,
          0.6249000266595575,
          0.7422020794454812,
          0.7981871500933084
         ]
        },
        {
         "marker": {
          "maxdisplayed": 10
         },
         "mode": "lines+markers",
         "name": "Trial72",
         "type": "scatter",
         "x": [
          0,
          1,
          2,
          3,
          4,
          5,
          6,
          7,
          8,
          9,
          10,
          11,
          12,
          13,
          14,
          15,
          16,
          17,
          18,
          19,
          20,
          21,
          22,
          23,
          24,
          25,
          26,
          27,
          28,
          29,
          30,
          31,
          32,
          33,
          34,
          35,
          36,
          37,
          38,
          39,
          40,
          41,
          42,
          43,
          44,
          45,
          46,
          47,
          48,
          49
         ],
         "y": [
          0.6227672620634498,
          0.6227672620634498,
          0.6243668355105305,
          0.7589976006398294,
          0.8259130898427086,
          0.8467075446547587,
          0.8805651826179686,
          0.8858970941082378,
          0.8645694481471607,
          0.8858970941082378,
          0.8893628365769128,
          0.8928285790455879,
          0.895227939216209,
          0.8954945347907225,
          0.8941615569181551,
          0.8840309250866436,
          0.9040255931751533,
          0.9058917621967475,
          0.8978938949613436,
          0.9053585710477207,
          0.9000266595574513,
          0.9114902692615302,
          0.9024260197280725,
          0.9104238869634764,
          0.9141562250066649,
          0.9152226073047187,
          0.9146894161556918,
          0.9184217541988803,
          0.9232204745401227,
          0.9106904825379899,
          0.9152226073047187,
          0.9197547320714476,
          0.9256198347107438,
          0.9304185550519861,
          0.9264196214342842,
          0.9285523860303919,
          0.9176219674753399,
          0.9226872833910957,
          0.9242868568381765,
          0.9306851506264996,
          0.9192215409224207,
          0.9288189816049054,
          0.9157557984537457,
          0.9282857904558784,
          0.9312183417755265,
          0.9288189816049054,
          0.927486003732338,
          0.9322847240735804,
          0.9304185550519861,
          0.9290855771794189
         ]
        },
        {
         "marker": {
          "maxdisplayed": 10
         },
         "mode": "lines+markers",
         "name": "Trial73",
         "type": "scatter",
         "x": [
          0,
          1,
          2,
          3
         ],
         "y": [
          0.6227672620634498,
          0.6227672620634498,
          0.6227672620634498,
          0.7312716608904292
         ]
        },
        {
         "marker": {
          "maxdisplayed": 10
         },
         "mode": "lines+markers",
         "name": "Trial74",
         "type": "scatter",
         "x": [
          0,
          1,
          2,
          3,
          4,
          5,
          6,
          7,
          8,
          9,
          10,
          11,
          12,
          13,
          14,
          15,
          16,
          17,
          18,
          19,
          20,
          21,
          22,
          23,
          24,
          25,
          26,
          27,
          28,
          29,
          30,
          31,
          32,
          33,
          34,
          35,
          36,
          37,
          38,
          39,
          40,
          41,
          42,
          43,
          44,
          45,
          46,
          47,
          48,
          49
         ],
         "y": [
          0.6227672620634498,
          0.6251666222340709,
          0.6867501999466809,
          0.8005865102639296,
          0.8283124500133298,
          0.8616368968275127,
          0.8762996534257531,
          0.877899226872834,
          0.8922953878965609,
          0.8922953878965609,
          0.891762196747534,
          0.8669688083177819,
          0.8968275126632897,
          0.8893628365769128,
          0.9016262330045322,
          0.8896294321514263,
          0.8874966675553185,
          0.8941615569181551,
          0.8885630498533724,
          0.8909624100239936,
          0.9098906958144495,
          0.9034924020261264,
          0.9008264462809917,
          0.9125566515595841,
          0.9053585710477207,
          0.9176219674753399,
          0.9029592108770994,
          0.9077579312183418,
          0.9178885630498533,
          0.9213543055185284,
          0.9160223940282591,
          0.9181551586243668,
          0.9160223940282591,
          0.9232204745401227,
          0.9285523860303919,
          0.9165555851772861,
          0.9232204745401227,
          0.9328179152226073,
          0.9296187683284457,
          0.9253532391362304,
          0.9216209010930418,
          0.9264196214342842,
          0.9304185550519861,
          0.9288189816049054,
          0.9290855771794189,
          0.9325513196480938,
          0.9352172753932285,
          0.9293521727539323,
          0.9306851506264996,
          0.9141562250066649
         ]
        },
        {
         "marker": {
          "maxdisplayed": 10
         },
         "mode": "lines+markers",
         "name": "Trial75",
         "type": "scatter",
         "x": [
          0,
          1,
          2,
          3,
          4,
          5,
          6,
          7,
          8,
          9,
          10,
          11,
          12,
          13,
          14,
          15,
          16,
          17,
          18,
          19,
          20,
          21,
          22,
          23,
          24,
          25,
          26,
          27,
          28,
          29,
          30,
          31,
          32,
          33,
          34,
          35,
          36,
          37,
          38,
          39,
          40,
          41,
          42,
          43,
          44,
          45,
          46,
          47,
          48,
          49
         ],
         "y": [
          0.6227672620634498,
          0.6227672620634498,
          0.6227672620634498,
          0.7544654758731005,
          0.8251133031191682,
          0.8405758464409491,
          0.880831778192482,
          0.8824313516395628,
          0.8946947480671821,
          0.8874966675553185,
          0.891229005598507,
          0.9005598507064783,
          0.8965609170887763,
          0.9050919754732072,
          0.9072247400693149,
          0.9069581444948014,
          0.8954945347907225,
          0.9013596374300187,
          0.9000266595574513,
          0.8938949613436417,
          0.8904292188749666,
          0.9002932551319648,
          0.9109570781125034,
          0.9218874966675553,
          0.9053585710477207,
          0.9226872833910957,
          0.9168221807517996,
          0.9157557984537457,
          0.9168221807517996,
          0.924020261263663,
          0.9114902692615302,
          0.9208211143695014,
          0.9269528125833111,
          0.9301519594774726,
          0.9325513196480938,
          0.9338842975206612,
          0.9309517462010131,
          0.9354838709677419,
          0.9264196214342842,
          0.9312183417755265,
          0.932018128499067,
          0.9288189816049054,
          0.9376166355638497,
          0.9296187683284457,
          0.920554518794988,
          0.9322847240735804,
          0.9328179152226073,
          0.9312183417755265,
          0.9226872833910957,
          0.934950679818715
         ]
        },
        {
         "marker": {
          "maxdisplayed": 10
         },
         "mode": "lines+markers",
         "name": "Trial76",
         "type": "scatter",
         "x": [
          0,
          1,
          2,
          3
         ],
         "y": [
          0.6227672620634498,
          0.6227672620634498,
          0.6227672620634498,
          0.6238336443615036
         ]
        },
        {
         "marker": {
          "maxdisplayed": 10
         },
         "mode": "lines+markers",
         "name": "Trial77",
         "type": "scatter",
         "x": [
          0,
          1,
          2,
          3
         ],
         "y": [
          0.6227672620634498,
          0.6227672620634498,
          0.6227672620634498,
          0.7243401759530792
         ]
        },
        {
         "marker": {
          "maxdisplayed": 10
         },
         "mode": "lines+markers",
         "name": "Trial78",
         "type": "scatter",
         "x": [
          0,
          1,
          2,
          3
         ],
         "y": [
          0.6227672620634498,
          0.6227672620634498,
          0.6323647027459344,
          0.7299386830178619
         ]
        },
        {
         "marker": {
          "maxdisplayed": 10
         },
         "mode": "lines+markers",
         "name": "Trial79",
         "type": "scatter",
         "x": [
          0,
          1,
          2,
          3
         ],
         "y": [
          0.6227672620634498,
          0.6227672620634498,
          0.6227672620634498,
          0.7046121034390829
         ]
        },
        {
         "marker": {
          "maxdisplayed": 10
         },
         "mode": "lines+markers",
         "name": "Trial80",
         "type": "scatter",
         "x": [
          0,
          1,
          2,
          3
         ],
         "y": [
          0.6227672620634498,
          0.6227672620634498,
          0.6227672620634498,
          0.7326046387629965
         ]
        },
        {
         "marker": {
          "maxdisplayed": 10
         },
         "mode": "lines+markers",
         "name": "Trial81",
         "type": "scatter",
         "x": [
          0,
          1,
          2,
          3,
          4,
          5,
          6,
          7,
          8,
          9,
          10,
          11,
          12,
          13,
          14,
          15,
          16,
          17,
          18,
          19,
          20,
          21,
          22,
          23,
          24,
          25,
          26,
          27,
          28,
          29,
          30,
          31,
          32,
          33,
          34,
          35,
          36,
          37,
          38,
          39,
          40,
          41,
          42,
          43,
          44,
          45,
          46,
          47,
          48,
          49
         ],
         "y": [
          0.6227672620634498,
          0.6267661956811517,
          0.6670221274326846,
          0.7920554518794988,
          0.8149826712876567,
          0.8296454278858971,
          0.8840309250866436,
          0.8762996534257531,
          0.8834977339376167,
          0.8760330578512396,
          0.8976272993868302,
          0.8850973073846974,
          0.895227939216209,
          0.8970941082378032,
          0.9010930418555052,
          0.891762196747534,
          0.8906958144494801,
          0.8968275126632897,
          0.9021594241535591,
          0.906158357771261,
          0.895761130365236,
          0.9098906958144495,
          0.9144228205811783,
          0.9018928285790456,
          0.9133564382831245,
          0.9109570781125034,
          0.9045587843241802,
          0.9296187683284457,
          0.9264196214342842,
          0.9304185550519861,
          0.9288189816049054,
          0.9218874966675553,
          0.9352172753932285,
          0.9368168488403092,
          0.9250866435617169,
          0.9309517462010131,
          0.9344174886696881,
          0.9229538789656092,
          0.9285523860303919,
          0.9304185550519861,
          0.9269528125833111,
          0.9370834444148227,
          0.9269528125833111,
          0.9293521727539323,
          0.9352172753932285,
          0.9376166355638497,
          0.9341508930951746,
          0.9290855771794189,
          0.9328179152226073,
          0.9256198347107438
         ]
        },
        {
         "marker": {
          "maxdisplayed": 10
         },
         "mode": "lines+markers",
         "name": "Trial82",
         "type": "scatter",
         "x": [
          0,
          1,
          2,
          3
         ],
         "y": [
          0.6227672620634498,
          0.6227672620634498,
          0.6227672620634498,
          0.7291388962943215
         ]
        },
        {
         "marker": {
          "maxdisplayed": 10
         },
         "mode": "lines+markers",
         "name": "Trial83",
         "type": "scatter",
         "x": [
          0,
          1,
          2,
          3,
          4
         ],
         "y": [
          0.6227672620634498,
          0.6227672620634498,
          0.6227672620634498,
          0.7688616368968275,
          0.78752332711277
         ]
        },
        {
         "marker": {
          "maxdisplayed": 10
         },
         "mode": "lines+markers",
         "name": "Trial84",
         "type": "scatter",
         "x": [
          0,
          1,
          2,
          3,
          4,
          5,
          6,
          7,
          8,
          9,
          10,
          11,
          12,
          13,
          14,
          15,
          16,
          17,
          18,
          19,
          20,
          21,
          22,
          23,
          24,
          25,
          26,
          27,
          28,
          29,
          30,
          31,
          32,
          33,
          34,
          35,
          36,
          37,
          38,
          39,
          40,
          41,
          42,
          43,
          44,
          45,
          46,
          47,
          48,
          49
         ],
         "y": [
          0.6227672620634498,
          0.6227672620634498,
          0.6800853105838444,
          0.8069848040522527,
          0.8291122367368702,
          0.86296987470008,
          0.8797653958944281,
          0.8770994401492935,
          0.8885630498533724,
          0.8845641162356704,
          0.891762196747534,
          0.8805651826179686,
          0.8976272993868302,
          0.891229005598507,
          0.8885630498533724,
          0.8429752066115702,
          0.8792322047454012,
          0.8941615569181551,
          0.9024260197280725,
          0.8914956011730205,
          0.895227939216209,
          0.9082911223673688,
          0.9112236736870168,
          0.9146894161556918,
          0.920554518794988,
          0.8968275126632897,
          0.9226872833910957,
          0.913089842708611,
          0.9210877099440149,
          0.9229538789656092,
          0.9146894161556918,
          0.9221540922420688,
          0.9232204745401227,
          0.9264196214342842,
          0.9293521727539323,
          0.9365502532657958,
          0.934950679818715,
          0.9352172753932285,
          0.9392162090109304,
          0.9357504665422554,
          0.932018128499067,
          0.9376166355638497,
          0.9344174886696881,
          0.928019194881365,
          0.9341508930951746,
          0.9328179152226073,
          0.9282857904558784,
          0.9376166355638497,
          0.9317515329245535,
          0.9288189816049054
         ]
        },
        {
         "marker": {
          "maxdisplayed": 10
         },
         "mode": "lines+markers",
         "name": "Trial85",
         "type": "scatter",
         "x": [
          0,
          1,
          2,
          3,
          4,
          5,
          6
         ],
         "y": [
          0.6227672620634498,
          0.6227672620634498,
          0.6227672620634498,
          0.7504665422553985,
          0.8136496934150893,
          0.8317781924820048,
          0.8547054118901626
         ]
        },
        {
         "marker": {
          "maxdisplayed": 10
         },
         "mode": "lines+markers",
         "name": "Trial86",
         "type": "scatter",
         "x": [
          0,
          1,
          2,
          3
         ],
         "y": [
          0.6227672620634498,
          0.6227672620634498,
          0.6227672620634498,
          0.6227672620634498
         ]
        },
        {
         "marker": {
          "maxdisplayed": 10
         },
         "mode": "lines+markers",
         "name": "Trial87",
         "type": "scatter",
         "x": [
          0,
          1,
          2,
          3
         ],
         "y": [
          0.6227672620634498,
          0.6227672620634498,
          0.6227672620634498,
          0.6744868035190615
         ]
        },
        {
         "marker": {
          "maxdisplayed": 10
         },
         "mode": "lines+markers",
         "name": "Trial88",
         "type": "scatter",
         "x": [
          0,
          1,
          2,
          3
         ],
         "y": [
          0.6227672620634498,
          0.6227672620634498,
          0.6795521194348174,
          0.6406291655558518
         ]
        },
        {
         "marker": {
          "maxdisplayed": 10
         },
         "mode": "lines+markers",
         "name": "Trial89",
         "type": "scatter",
         "x": [
          0,
          1,
          2,
          3
         ],
         "y": [
          0.6227672620634498,
          0.6227672620634498,
          0.6227672620634498,
          0.6227672620634498
         ]
        },
        {
         "marker": {
          "maxdisplayed": 10
         },
         "mode": "lines+markers",
         "name": "Trial90",
         "type": "scatter",
         "x": [
          0,
          1,
          2,
          3
         ],
         "y": [
          0.6227672620634498,
          0.6227672620634498,
          0.6227672620634498,
          0.624100239936017
         ]
        },
        {
         "marker": {
          "maxdisplayed": 10
         },
         "mode": "lines+markers",
         "name": "Trial91",
         "type": "scatter",
         "x": [
          0,
          1,
          2,
          3
         ],
         "y": [
          0.6227672620634498,
          0.6227672620634498,
          0.6254332178085844,
          0.6672887230071981
         ]
        },
        {
         "marker": {
          "maxdisplayed": 10
         },
         "mode": "lines+markers",
         "name": "Trial92",
         "type": "scatter",
         "x": [
          0,
          1,
          2,
          3
         ],
         "y": [
          0.6227672620634498,
          0.6227672620634498,
          0.6227672620634498,
          0.6227672620634498
         ]
        },
        {
         "marker": {
          "maxdisplayed": 10
         },
         "mode": "lines+markers",
         "name": "Trial93",
         "type": "scatter",
         "x": [
          0,
          1,
          2,
          3,
          4,
          5
         ],
         "y": [
          0.6227672620634498,
          0.6227672620634498,
          0.6227672620634498,
          0.7499333511063716,
          0.8085843774993335,
          0.8168488403092509
         ]
        },
        {
         "marker": {
          "maxdisplayed": 10
         },
         "mode": "lines+markers",
         "name": "Trial94",
         "type": "scatter",
         "x": [
          0,
          1,
          2,
          3
         ],
         "y": [
          0.6227672620634498,
          0.6227672620634498,
          0.6350306584910691,
          0.7443348440415889
         ]
        },
        {
         "marker": {
          "maxdisplayed": 10
         },
         "mode": "lines+markers",
         "name": "Trial95",
         "type": "scatter",
         "x": [
          0,
          1,
          2,
          3,
          4
         ],
         "y": [
          0.6227672620634498,
          0.6227672620634498,
          0.6227672620634498,
          0.7741935483870968,
          0.7939216209010931
         ]
        },
        {
         "marker": {
          "maxdisplayed": 10
         },
         "mode": "lines+markers",
         "name": "Trial96",
         "type": "scatter",
         "x": [
          0,
          1,
          2,
          3
         ],
         "y": [
          0.6227672620634498,
          0.6227672620634498,
          0.6227672620634498,
          0.7152759264196215
         ]
        },
        {
         "marker": {
          "maxdisplayed": 10
         },
         "mode": "lines+markers",
         "name": "Trial97",
         "type": "scatter",
         "x": [
          0,
          1,
          2,
          3
         ],
         "y": [
          0.6227672620634498,
          0.6227672620634498,
          0.6230338576379633,
          0.6611570247933884
         ]
        },
        {
         "marker": {
          "maxdisplayed": 10
         },
         "mode": "lines+markers",
         "name": "Trial98",
         "type": "scatter",
         "x": [
          0,
          1,
          2,
          3
         ],
         "y": [
          0.6227672620634498,
          0.6227672620634498,
          0.6227672620634498,
          0.6227672620634498
         ]
        },
        {
         "marker": {
          "maxdisplayed": 10
         },
         "mode": "lines+markers",
         "name": "Trial99",
         "type": "scatter",
         "x": [
          0,
          1,
          2,
          3
         ],
         "y": [
          0.6227672620634498,
          0.6227672620634498,
          0.6227672620634498,
          0.7296720874433484
         ]
        },
        {
         "marker": {
          "maxdisplayed": 10
         },
         "mode": "lines+markers",
         "name": "Trial100",
         "type": "scatter",
         "x": [
          0
         ],
         "y": [
          0.6043721674220208
         ]
        },
        {
         "marker": {
          "maxdisplayed": 10
         },
         "mode": "lines+markers",
         "name": "Trial101",
         "type": "scatter",
         "x": [
          0,
          1,
          2,
          3,
          4,
          5,
          6
         ],
         "y": [
          0.6227672620634498,
          0.6227672620634498,
          0.6408957611303653,
          0.8019194881364969,
          0.8200479872034124,
          0.8587043455078646,
          0.8437749933351106
         ]
        },
        {
         "marker": {
          "maxdisplayed": 10
         },
         "mode": "lines+markers",
         "name": "Trial102",
         "type": "scatter",
         "x": [
          0,
          1,
          2,
          3
         ],
         "y": [
          0.6227672620634498,
          0.6227672620634498,
          0.6238336443615036,
          0.7312716608904292
         ]
        },
        {
         "marker": {
          "maxdisplayed": 10
         },
         "mode": "lines+markers",
         "name": "Trial103",
         "type": "scatter",
         "x": [
          0,
          1,
          2,
          3,
          4,
          5,
          6,
          7,
          8,
          9,
          10,
          11,
          12,
          13,
          14,
          15,
          16,
          17,
          18,
          19,
          20,
          21,
          22,
          23,
          24,
          25,
          26,
          27,
          28,
          29,
          30,
          31,
          32,
          33
         ],
         "y": [
          0.6227672620634498,
          0.6227672620634498,
          0.6272993868301786,
          0.7555318581711543,
          0.8144494801386297,
          0.8448413756331645,
          0.8731005065315915,
          0.8821647560650493,
          0.8933617701946148,
          0.8240469208211144,
          0.895227939216209,
          0.8922953878965609,
          0.9032258064516129,
          0.9029592108770994,
          0.9053585710477207,
          0.9040255931751533,
          0.9026926153025859,
          0.8981604905358571,
          0.8997600639829378,
          0.9010930418555052,
          0.9034924020261264,
          0.9069581444948014,
          0.9005598507064783,
          0.899226872833911,
          0.9010930418555052,
          0.8890962410023994,
          0.9216209010930418,
          0.9125566515595841,
          0.9186883497733938,
          0.9197547320714476,
          0.9141562250066649,
          0.9200213276459611,
          0.9168221807517996,
          0.9202879232204746
         ]
        },
        {
         "marker": {
          "maxdisplayed": 10
         },
         "mode": "lines+markers",
         "name": "Trial104",
         "type": "scatter",
         "x": [
          0,
          1,
          2,
          3
         ],
         "y": [
          0.6227672620634498,
          0.6227672620634498,
          0.6227672620634498,
          0.6307651292988536
         ]
        },
        {
         "marker": {
          "maxdisplayed": 10
         },
         "mode": "lines+markers",
         "name": "Trial105",
         "type": "scatter",
         "x": [
          0,
          1,
          2,
          3
         ],
         "y": [
          0.6227672620634498,
          0.6227672620634498,
          0.6227672620634498,
          0.7336710210610504
         ]
        },
        {
         "marker": {
          "maxdisplayed": 10
         },
         "mode": "lines+markers",
         "name": "Trial106",
         "type": "scatter",
         "x": [
          0,
          1,
          2,
          3
         ],
         "y": [
          0.6227672620634498,
          0.6227672620634498,
          0.6227672620634498,
          0.7491335643828313
         ]
        },
        {
         "marker": {
          "maxdisplayed": 10
         },
         "mode": "lines+markers",
         "name": "Trial107",
         "type": "scatter",
         "x": [
          0,
          1,
          2,
          3
         ],
         "y": [
          0.6227672620634498,
          0.6227672620634498,
          0.6227672620634498,
          0.7403359104238869
         ]
        },
        {
         "marker": {
          "maxdisplayed": 10
         },
         "mode": "lines+markers",
         "name": "Trial108",
         "type": "scatter",
         "x": [
          0,
          1,
          2,
          3
         ],
         "y": [
          0.6227672620634498,
          0.6227672620634498,
          0.6227672620634498,
          0.6227672620634498
         ]
        },
        {
         "marker": {
          "maxdisplayed": 10
         },
         "mode": "lines+markers",
         "name": "Trial109",
         "type": "scatter",
         "x": [
          0,
          1,
          2,
          3
         ],
         "y": [
          0.6227672620634498,
          0.6227672620634498,
          0.6480938416422287,
          0.7456678219141563
         ]
        },
        {
         "marker": {
          "maxdisplayed": 10
         },
         "mode": "lines+markers",
         "name": "Trial110",
         "type": "scatter",
         "x": [
          0,
          1,
          2,
          3
         ],
         "y": [
          0.6227672620634498,
          0.6227672620634498,
          0.6227672620634498,
          0.6214342841908824
         ]
        },
        {
         "marker": {
          "maxdisplayed": 10
         },
         "mode": "lines+markers",
         "name": "Trial111",
         "type": "scatter",
         "x": [
          0,
          1,
          2,
          3
         ],
         "y": [
          0.6227672620634498,
          0.6227672620634498,
          0.6227672620634498,
          0.7350039989336177
         ]
        },
        {
         "marker": {
          "maxdisplayed": 10
         },
         "mode": "lines+markers",
         "name": "Trial112",
         "type": "scatter",
         "x": [
          0,
          1,
          2,
          3,
          4,
          5,
          6
         ],
         "y": [
          0.6227672620634498,
          0.6227672620634498,
          0.624100239936017,
          0.7523327112769927,
          0.8077845907757931,
          0.8408424420154625,
          0.8608371101039722
         ]
        },
        {
         "marker": {
          "maxdisplayed": 10
         },
         "mode": "lines+markers",
         "name": "Trial113",
         "type": "scatter",
         "x": [
          0,
          1,
          2,
          3,
          4
         ],
         "y": [
          0.6227672620634498,
          0.6227672620634498,
          0.7048786990135963,
          0.7885897094108237,
          0.7723273793655026
         ]
        },
        {
         "marker": {
          "maxdisplayed": 10
         },
         "mode": "lines+markers",
         "name": "Trial114",
         "type": "scatter",
         "x": [
          0,
          1,
          2,
          3,
          4,
          5,
          6
         ],
         "y": [
          0.6227672620634498,
          0.6227672620634498,
          0.6227672620634498,
          0.782991202346041,
          0.8243135163956279,
          0.8427086110370567,
          0.8568381764862704
         ]
        },
        {
         "marker": {
          "maxdisplayed": 10
         },
         "mode": "lines+markers",
         "name": "Trial115",
         "type": "scatter",
         "x": [
          0,
          1,
          2,
          3,
          4,
          5,
          6
         ],
         "y": [
          0.6227672620634498,
          0.6227672620634498,
          0.6243668355105305,
          0.7667288723007198,
          0.8096507597973873,
          0.8485737136763529,
          0.8456411623567048
         ]
        },
        {
         "marker": {
          "maxdisplayed": 10
         },
         "mode": "lines+markers",
         "name": "Trial116",
         "type": "scatter",
         "x": [
          0,
          1,
          2,
          3
         ],
         "y": [
          0.6227672620634498,
          0.6227672620634498,
          0.6227672620634498,
          0.7270061316982138
         ]
        },
        {
         "marker": {
          "maxdisplayed": 10
         },
         "mode": "lines+markers",
         "name": "Trial117",
         "type": "scatter",
         "x": [
          0,
          1,
          2,
          3,
          4,
          5,
          6,
          7,
          8,
          9,
          10,
          11,
          12,
          13,
          14,
          15,
          16,
          17,
          18,
          19,
          20,
          21,
          22,
          23,
          24,
          25,
          26,
          27,
          28
         ],
         "y": [
          0.6227672620634498,
          0.6227672620634498,
          0.6227672620634498,
          0.7917888563049853,
          0.8072513996267662,
          0.8531058384430819,
          0.8858970941082378,
          0.8754998667022127,
          0.8800319914689416,
          0.8885630498533724,
          0.8866968808317782,
          0.8984270861103706,
          0.8970941082378032,
          0.9066915489202879,
          0.9021594241535591,
          0.9000266595574513,
          0.9034924020261264,
          0.8989602772593975,
          0.8866968808317782,
          0.9034924020261264,
          0.9077579312183418,
          0.8824313516395628,
          0.9032258064516129,
          0.8984270861103706,
          0.8984270861103706,
          0.913089842708611,
          0.9005598507064783,
          0.8973607038123167,
          0.9098906958144495
         ]
        },
        {
         "marker": {
          "maxdisplayed": 10
         },
         "mode": "lines+markers",
         "name": "Trial118",
         "type": "scatter",
         "x": [
          0,
          1,
          2,
          3
         ],
         "y": [
          0.6227672620634498,
          0.6227672620634498,
          0.6227672620634498,
          0.7262063449746734
         ]
        },
        {
         "marker": {
          "maxdisplayed": 10
         },
         "mode": "lines+markers",
         "name": "Trial119",
         "type": "scatter",
         "x": [
          0,
          1,
          2,
          3,
          4,
          5,
          6
         ],
         "y": [
          0.6227672620634498,
          0.6227672620634498,
          0.6243668355105305,
          0.7683284457478006,
          0.8256464942681951,
          0.851506264996001,
          0.8568381764862704
         ]
        },
        {
         "marker": {
          "maxdisplayed": 10
         },
         "mode": "lines+markers",
         "name": "Trial120",
         "type": "scatter",
         "x": [
          0,
          1,
          2,
          3,
          4
         ],
         "y": [
          0.6227672620634498,
          0.6227672620634498,
          0.6227672620634498,
          0.7765929085577179,
          0.790989069581445
         ]
        },
        {
         "marker": {
          "maxdisplayed": 10
         },
         "mode": "lines+markers",
         "name": "Trial121",
         "type": "scatter",
         "x": [
          0,
          1,
          2,
          3
         ],
         "y": [
          0.6227672620634498,
          0.6227672620634498,
          0.6408957611303653,
          0.743268461743535
         ]
        },
        {
         "marker": {
          "maxdisplayed": 10
         },
         "mode": "lines+markers",
         "name": "Trial122",
         "type": "scatter",
         "x": [
          0,
          1,
          2,
          3
         ],
         "y": [
          0.6227672620634498,
          0.6227672620634498,
          0.6227672620634498,
          0.7310050653159158
         ]
        },
        {
         "marker": {
          "maxdisplayed": 10
         },
         "mode": "lines+markers",
         "name": "Trial123",
         "type": "scatter",
         "x": [
          0,
          1,
          2,
          3,
          4,
          5,
          6,
          7
         ],
         "y": [
          0.6227672620634498,
          0.6238336443615036,
          0.710477206078379,
          0.7701946147693949,
          0.8203145827779259,
          0.8568381764862704,
          0.8691015729138897,
          0.8667022127432684
         ]
        },
        {
         "marker": {
          "maxdisplayed": 10
         },
         "mode": "lines+markers",
         "name": "Trial124",
         "type": "scatter",
         "x": [
          0,
          1,
          2,
          3,
          4,
          5,
          6
         ],
         "y": [
          0.6227672620634498,
          0.6227672620634498,
          0.638496400959744,
          0.7771260997067448,
          0.815782458011197,
          0.8539056251666223,
          0.8581711543588376
         ]
        },
        {
         "marker": {
          "maxdisplayed": 10
         },
         "mode": "lines+markers",
         "name": "Trial125",
         "type": "scatter",
         "x": [
          0,
          1,
          2,
          3,
          4
         ],
         "y": [
          0.6227672620634498,
          0.6227672620634498,
          0.6664889362836577,
          0.7853905625166622,
          0.8069848040522527
         ]
        },
        {
         "marker": {
          "maxdisplayed": 10
         },
         "mode": "lines+markers",
         "name": "Trial126",
         "type": "scatter",
         "x": [
          0,
          1,
          2,
          3
         ],
         "y": [
          0.6227672620634498,
          0.6227672620634498,
          0.621167688616369,
          0.6824846707544655
         ]
        },
        {
         "marker": {
          "maxdisplayed": 10
         },
         "mode": "lines+markers",
         "name": "Trial127",
         "type": "scatter",
         "x": [
          0,
          1,
          2,
          3,
          4
         ],
         "y": [
          0.6227672620634498,
          0.6227672620634498,
          0.6438283124500134,
          0.7917888563049853,
          0.8037856571580911
         ]
        },
        {
         "marker": {
          "maxdisplayed": 10
         },
         "mode": "lines+markers",
         "name": "Trial128",
         "type": "scatter",
         "x": [
          0,
          1,
          2,
          3
         ],
         "y": [
          0.6227672620634498,
          0.6227672620634498,
          0.6264996001066382,
          0.7262063449746734
         ]
        },
        {
         "marker": {
          "maxdisplayed": 10
         },
         "mode": "lines+markers",
         "name": "Trial129",
         "type": "scatter",
         "x": [
          0,
          1,
          2,
          3
         ],
         "y": [
          0.6227672620634498,
          0.6227672620634498,
          0.6227672620634498,
          0.6982138096507597
         ]
        },
        {
         "marker": {
          "maxdisplayed": 10
         },
         "mode": "lines+markers",
         "name": "Trial130",
         "type": "scatter",
         "x": [
          0,
          1,
          2,
          3
         ],
         "y": [
          0.6227672620634498,
          0.6227672620634498,
          0.6262330045321247,
          0.7318048520394561
         ]
        },
        {
         "marker": {
          "maxdisplayed": 10
         },
         "mode": "lines+markers",
         "name": "Trial131",
         "type": "scatter",
         "x": [
          0,
          1,
          2,
          3
         ],
         "y": [
          0.6227672620634498,
          0.6227672620634498,
          0.6227672620634498,
          0.736870167955212
         ]
        },
        {
         "marker": {
          "maxdisplayed": 10
         },
         "mode": "lines+markers",
         "name": "Trial132",
         "type": "scatter",
         "x": [
          0,
          1,
          2,
          3,
          4
         ],
         "y": [
          0.6227672620634498,
          0.6227672620634498,
          0.6227672620634498,
          0.750733137829912,
          0.7941882164756066
         ]
        },
        {
         "marker": {
          "maxdisplayed": 10
         },
         "mode": "lines+markers",
         "name": "Trial133",
         "type": "scatter",
         "x": [
          0,
          1,
          2,
          3
         ],
         "y": [
          0.6227672620634498,
          0.6227672620634498,
          0.6227672620634498,
          0.628099173553719
         ]
        },
        {
         "marker": {
          "maxdisplayed": 10
         },
         "mode": "lines+markers",
         "name": "Trial134",
         "type": "scatter",
         "x": [
          0,
          1,
          2,
          3,
          4
         ],
         "y": [
          0.6227672620634498,
          0.6227672620634498,
          0.6227672620634498,
          0.7627299386830179,
          0.7827246067715276
         ]
        },
        {
         "marker": {
          "maxdisplayed": 10
         },
         "mode": "lines+markers",
         "name": "Trial135",
         "type": "scatter",
         "x": [
          0,
          1,
          2,
          3
         ],
         "y": [
          0.6227672620634498,
          0.6227672620634498,
          0.6227672620634498,
          0.6974140229272194
         ]
        },
        {
         "marker": {
          "maxdisplayed": 10
         },
         "mode": "lines+markers",
         "name": "Trial136",
         "type": "scatter",
         "x": [
          0,
          1,
          2,
          3
         ],
         "y": [
          0.6227672620634498,
          0.6227672620634498,
          0.6227672620634498,
          0.6233004532124766
         ]
        },
        {
         "marker": {
          "maxdisplayed": 10
         },
         "mode": "lines+markers",
         "name": "Trial137",
         "type": "scatter",
         "x": [
          0,
          1,
          2,
          3
         ],
         "y": [
          0.6227672620634498,
          0.6227672620634498,
          0.6227672620634498,
          0.7187416688882965
         ]
        },
        {
         "marker": {
          "maxdisplayed": 10
         },
         "mode": "lines+markers",
         "name": "Trial138",
         "type": "scatter",
         "x": [
          0,
          1,
          2,
          3
         ],
         "y": [
          0.6227672620634498,
          0.6227672620634498,
          0.6227672620634498,
          0.7248733671021061
         ]
        },
        {
         "marker": {
          "maxdisplayed": 10
         },
         "mode": "lines+markers",
         "name": "Trial139",
         "type": "scatter",
         "x": [
          0,
          1,
          2,
          3
         ],
         "y": [
          0.6227672620634498,
          0.6227672620634498,
          0.6227672620634498,
          0.7336710210610504
         ]
        },
        {
         "marker": {
          "maxdisplayed": 10
         },
         "mode": "lines+markers",
         "name": "Trial140",
         "type": "scatter",
         "x": [
          0,
          1,
          2,
          3,
          4
         ],
         "y": [
          0.6227672620634498,
          0.6227672620634498,
          0.6227672620634498,
          0.782991202346041,
          0.7891229005598507
         ]
        },
        {
         "marker": {
          "maxdisplayed": 10
         },
         "mode": "lines+markers",
         "name": "Trial141",
         "type": "scatter",
         "x": [
          0,
          1,
          2,
          3,
          4,
          5,
          6
         ],
         "y": [
          0.6227672620634498,
          0.6227672620634498,
          0.6249000266595575,
          0.7637963209810718,
          0.8075179952012796,
          0.8304452146094374,
          0.854972007464676
         ]
        },
        {
         "marker": {
          "maxdisplayed": 10
         },
         "mode": "lines+markers",
         "name": "Trial142",
         "type": "scatter",
         "x": [
          0,
          1,
          2,
          3
         ],
         "y": [
          0.6227672620634498,
          0.6227672620634498,
          0.6363636363636364,
          0.6590242601972808
         ]
        },
        {
         "marker": {
          "maxdisplayed": 10
         },
         "mode": "lines+markers",
         "name": "Trial143",
         "type": "scatter",
         "x": [
          0,
          1,
          2,
          3
         ],
         "y": [
          0.6227672620634498,
          0.6227672620634498,
          0.6227672620634498,
          0.7488669688083178
         ]
        },
        {
         "marker": {
          "maxdisplayed": 10
         },
         "mode": "lines+markers",
         "name": "Trial144",
         "type": "scatter",
         "x": [
          0,
          1,
          2,
          3
         ],
         "y": [
          0.6227672620634498,
          0.6227672620634498,
          0.6227672620634498,
          0.624100239936017
         ]
        },
        {
         "marker": {
          "maxdisplayed": 10
         },
         "mode": "lines+markers",
         "name": "Trial145",
         "type": "scatter",
         "x": [
          0,
          1,
          2,
          3,
          4
         ],
         "y": [
          0.6227672620634498,
          0.6227672620634498,
          0.6227672620634498,
          0.7763263129832044,
          0.7933884297520661
         ]
        },
        {
         "marker": {
          "maxdisplayed": 10
         },
         "mode": "lines+markers",
         "name": "Trial146",
         "type": "scatter",
         "x": [
          0,
          1,
          2,
          3,
          4,
          5,
          6,
          7
         ],
         "y": [
          0.6227672620634498,
          0.6227672620634498,
          0.6238336443615036,
          0.7608637696614237,
          0.8253798986936817,
          0.8571047720607838,
          0.8691015729138897,
          0.8707011463609704
         ]
        },
        {
         "marker": {
          "maxdisplayed": 10
         },
         "mode": "lines+markers",
         "name": "Trial147",
         "type": "scatter",
         "x": [
          0,
          1,
          2,
          3
         ],
         "y": [
          0.6227672620634498,
          0.6227672620634498,
          0.6227672620634498,
          0.6416955478539056
         ]
        },
        {
         "marker": {
          "maxdisplayed": 10
         },
         "mode": "lines+markers",
         "name": "Trial148",
         "type": "scatter",
         "x": [
          0,
          1,
          2,
          3
         ],
         "y": [
          0.6227672620634498,
          0.6227672620634498,
          0.6515595841109038,
          0.7395361237003466
         ]
        },
        {
         "marker": {
          "maxdisplayed": 10
         },
         "mode": "lines+markers",
         "name": "Trial149",
         "type": "scatter",
         "x": [
          0,
          1,
          2,
          3,
          4,
          5,
          6,
          7,
          8,
          9,
          10,
          11,
          12,
          13,
          14,
          15,
          16,
          17,
          18,
          19,
          20,
          21,
          22,
          23,
          24,
          25,
          26,
          27,
          28,
          29,
          30,
          31,
          32,
          33,
          34,
          35,
          36,
          37,
          38,
          39,
          40,
          41,
          42,
          43,
          44,
          45,
          46,
          47,
          48,
          49
         ],
         "y": [
          0.6227672620634498,
          0.6227672620634498,
          0.6235670487869901,
          0.8061850173287124,
          0.826712876566249,
          0.8640362569981338,
          0.880831778192482,
          0.8826979472140762,
          0.8848307118101839,
          0.8794988003199147,
          0.8866968808317782,
          0.8928285790455879,
          0.9026926153025859,
          0.9010930418555052,
          0.9016262330045322,
          0.8997600639829378,
          0.877899226872834,
          0.9122900559850706,
          0.895227939216209,
          0.9026926153025859,
          0.9122900559850706,
          0.8984270861103706,
          0.9210877099440149,
          0.9133564382831245,
          0.9173553719008265,
          0.9197547320714476,
          0.9312183417755265,
          0.9226872833910957,
          0.9208211143695014,
          0.9021594241535591,
          0.9210877099440149,
          0.9298853639029592,
          0.9237536656891495,
          0.9298853639029592,
          0.9322847240735804,
          0.9341508930951746,
          0.9298853639029592,
          0.9338842975206612,
          0.9328179152226073,
          0.9322847240735804,
          0.9336177019461477,
          0.9304185550519861,
          0.9306851506264996,
          0.9288189816049054,
          0.9242868568381765,
          0.9333511063716342,
          0.9362836576912823,
          0.9317515329245535,
          0.9362836576912823,
          0.9288189816049054
         ]
        },
        {
         "marker": {
          "maxdisplayed": 10
         },
         "mode": "lines+markers",
         "name": "Trial150",
         "type": "scatter",
         "x": [
          0,
          1,
          2,
          3
         ],
         "y": [
          0.6227672620634498,
          0.6227672620634498,
          0.6227672620634498,
          0.7347374033591042
         ]
        },
        {
         "marker": {
          "maxdisplayed": 10
         },
         "mode": "lines+markers",
         "name": "Trial151",
         "type": "scatter",
         "x": [
          0,
          1,
          2,
          3,
          4,
          5
         ],
         "y": [
          0.6227672620634498,
          0.6227672620634498,
          0.6264996001066382,
          0.7592641962143428,
          0.8085843774993335,
          0.8165822447347374
         ]
        },
        {
         "marker": {
          "maxdisplayed": 10
         },
         "mode": "lines+markers",
         "name": "Trial152",
         "type": "scatter",
         "x": [
          0,
          1,
          2,
          3,
          4
         ],
         "y": [
          0.6227672620634498,
          0.6227672620634498,
          0.6448946947480672,
          0.7645961077046121,
          0.8067182084777392
         ]
        },
        {
         "marker": {
          "maxdisplayed": 10
         },
         "mode": "lines+markers",
         "name": "Trial153",
         "type": "scatter",
         "x": [
          0,
          1,
          2,
          3
         ],
         "y": [
          0.6227672620634498,
          0.6227672620634498,
          0.6544921354305518,
          0.7376699546787523
         ]
        },
        {
         "marker": {
          "maxdisplayed": 10
         },
         "mode": "lines+markers",
         "name": "Trial154",
         "type": "scatter",
         "x": [
          0,
          1,
          2,
          3
         ],
         "y": [
          0.6227672620634498,
          0.6227672620634498,
          0.6249000266595575,
          0.7488669688083178
         ]
        },
        {
         "marker": {
          "maxdisplayed": 10
         },
         "mode": "lines+markers",
         "name": "Trial155",
         "type": "scatter",
         "x": [
          0,
          1,
          2,
          3,
          4,
          5,
          6,
          7,
          8,
          9,
          10,
          11,
          12,
          13,
          14,
          15,
          16,
          17,
          18,
          19,
          20,
          21,
          22,
          23,
          24,
          25,
          26,
          27,
          28,
          29,
          30,
          31,
          32,
          33,
          34,
          35,
          36,
          37,
          38,
          39,
          40,
          41,
          42,
          43,
          44,
          45,
          46,
          47,
          48,
          49
         ],
         "y": [
          0.6227672620634498,
          0.6227672620634498,
          0.6806185017328712,
          0.8149826712876567,
          0.8299120234604106,
          0.8573713676352972,
          0.8765662490002666,
          0.8707011463609704,
          0.8896294321514263,
          0.888296454278859,
          0.895227939216209,
          0.8962943215142629,
          0.8930951746201014,
          0.9013596374300187,
          0.8984270861103706,
          0.8906958144494801,
          0.9032258064516129,
          0.8997600639829378,
          0.9042921887496668,
          0.8946947480671821,
          0.9208211143695014,
          0.9093575046654225,
          0.9013596374300187,
          0.8925619834710744,
          0.9120234604105572,
          0.9194881364969342,
          0.924020261263663,
          0.9168221807517996,
          0.9218874966675553,
          0.9250866435617169,
          0.9224206878165823,
          0.9173553719008265,
          0.9125566515595841,
          0.9341508930951746,
          0.9325513196480938,
          0.9322847240735804,
          0.9226872833910957,
          0.9285523860303919,
          0.9365502532657958,
          0.9360170621167688,
          0.9384164222873901,
          0.9336177019461477,
          0.9322847240735804,
          0.9354838709677419,
          0.9309517462010131,
          0.9389496134364169,
          0.9288189816049054,
          0.9328179152226073,
          0.9360170621167688,
          0.9325513196480938
         ]
        },
        {
         "marker": {
          "maxdisplayed": 10
         },
         "mode": "lines+markers",
         "name": "Trial156",
         "type": "scatter",
         "x": [
          0,
          1,
          2,
          3,
          4
         ],
         "y": [
          0.6227672620634498,
          0.6227672620634498,
          0.6454278858970941,
          0.7672620634497468,
          0.797920554518795
         ]
        },
        {
         "marker": {
          "maxdisplayed": 10
         },
         "mode": "lines+markers",
         "name": "Trial157",
         "type": "scatter",
         "x": [
          0,
          1,
          2,
          3
         ],
         "y": [
          0.6227672620634498,
          0.6227672620634498,
          0.6235670487869901,
          0.7278059184217542
         ]
        },
        {
         "marker": {
          "maxdisplayed": 10
         },
         "mode": "lines+markers",
         "name": "Trial158",
         "type": "scatter",
         "x": [
          0,
          1,
          2,
          3
         ],
         "y": [
          0.6227672620634498,
          0.6227672620634498,
          0.6227672620634498,
          0.6272993868301786
         ]
        },
        {
         "marker": {
          "maxdisplayed": 10
         },
         "mode": "lines+markers",
         "name": "Trial159",
         "type": "scatter",
         "x": [
          0,
          1,
          2,
          3,
          4
         ],
         "y": [
          0.6227672620634498,
          0.6227672620634498,
          0.6310317248733671,
          0.7861903492402026,
          0.8056518261796854
         ]
        },
        {
         "marker": {
          "maxdisplayed": 10
         },
         "mode": "lines+markers",
         "name": "Trial160",
         "type": "scatter",
         "x": [
          0,
          1,
          2,
          3,
          4,
          5,
          6,
          7,
          8,
          9,
          10
         ],
         "y": [
          0.6227672620634498,
          0.6227672620634498,
          0.6227672620634498,
          0.7571314316182352,
          0.8125833111170354,
          0.8496400959744068,
          0.8789656091708877,
          0.8757664622767262,
          0.8832311383631032,
          0.8659024260197281,
          0.8789656091708877
         ]
        },
        {
         "marker": {
          "maxdisplayed": 10
         },
         "mode": "lines+markers",
         "name": "Trial161",
         "type": "scatter",
         "x": [
          0,
          1,
          2,
          3,
          4,
          5,
          6
         ],
         "y": [
          0.6227672620634498,
          0.6227672620634498,
          0.6592908557717941,
          0.7816582244734738,
          0.8115169288189816,
          0.8512396694214877,
          0.8536390295921088
         ]
        },
        {
         "marker": {
          "maxdisplayed": 10
         },
         "mode": "lines+markers",
         "name": "Trial162",
         "type": "scatter",
         "x": [
          0,
          1,
          2,
          3
         ],
         "y": [
          0.6227672620634498,
          0.6227672620634498,
          0.6270327912556651,
          0.7491335643828313
         ]
        },
        {
         "marker": {
          "maxdisplayed": 10
         },
         "mode": "lines+markers",
         "name": "Trial163",
         "type": "scatter",
         "x": [
          0,
          1,
          2,
          3,
          4,
          5,
          6
         ],
         "y": [
          0.6227672620634498,
          0.6227672620634498,
          0.6227672620634498,
          0.7573980271927486,
          0.8189816049053585,
          0.8355105305251933,
          0.8576379632098107
         ]
        },
        {
         "marker": {
          "maxdisplayed": 10
         },
         "mode": "lines+markers",
         "name": "Trial164",
         "type": "scatter",
         "x": [
          0
         ],
         "y": [
          0.6131698213809651
         ]
        },
        {
         "marker": {
          "maxdisplayed": 10
         },
         "mode": "lines+markers",
         "name": "Trial165",
         "type": "scatter",
         "x": [
          0,
          1,
          2,
          3,
          4,
          5,
          6,
          7,
          8,
          9,
          10,
          11,
          12,
          13,
          14,
          15,
          16,
          17,
          18,
          19,
          20,
          21,
          22,
          23,
          24,
          25,
          26,
          27,
          28,
          29,
          30,
          31,
          32,
          33,
          34,
          35,
          36,
          37,
          38,
          39,
          40,
          41,
          42,
          43,
          44,
          45,
          46,
          47,
          48,
          49
         ],
         "y": [
          0.6227672620634498,
          0.6264996001066382,
          0.6723540389229539,
          0.7635297254065583,
          0.8381764862703279,
          0.8544388163156491,
          0.8786990135963743,
          0.8789656091708877,
          0.8568381764862704,
          0.887763263129832,
          0.8938949613436417,
          0.8949613436416956,
          0.8978938949613436,
          0.8768328445747801,
          0.9093575046654225,
          0.9074913356438283,
          0.9010930418555052,
          0.9018928285790456,
          0.9005598507064783,
          0.9018928285790456,
          0.9045587843241802,
          0.9026926153025859,
          0.8928285790455879,
          0.9176219674753399,
          0.9069581444948014,
          0.9178885630498533,
          0.9189549453479072,
          0.9218874966675553,
          0.9104238869634764,
          0.9162889896027726,
          0.9245534524126899,
          0.9325513196480938,
          0.9218874966675553,
          0.9277525993068515,
          0.9256198347107438,
          0.9322847240735804,
          0.9272194081578246,
          0.9288189816049054,
          0.927486003732338,
          0.9250866435617169,
          0.9352172753932285,
          0.9258864302852573,
          0.9386830178619034,
          0.93148493735004,
          0.9317515329245535,
          0.9357504665422554,
          0.9277525993068515,
          0.9325513196480938,
          0.9381498267128766,
          0.9352172753932285
         ]
        },
        {
         "marker": {
          "maxdisplayed": 10
         },
         "mode": "lines+markers",
         "name": "Trial166",
         "type": "scatter",
         "x": [
          0,
          1,
          2
         ],
         "y": [
          0.6227672620634498,
          0.6227672620634498,
          0.6230338576379633
         ]
        },
        {
         "marker": {
          "maxdisplayed": 10
         },
         "mode": "lines+markers",
         "name": "Trial167",
         "type": "scatter",
         "x": [
          0,
          1,
          2,
          3
         ],
         "y": [
          0.6227672620634498,
          0.6227672620634498,
          0.6304985337243402,
          0.7430018661690216
         ]
        },
        {
         "marker": {
          "maxdisplayed": 10
         },
         "mode": "lines+markers",
         "name": "Trial168",
         "type": "scatter",
         "x": [
          0,
          1,
          2
         ],
         "y": [
          0.6227672620634498,
          0.6227672620634498,
          0.6227672620634498
         ]
        },
        {
         "marker": {
          "maxdisplayed": 10
         },
         "mode": "lines+markers",
         "name": "Trial169",
         "type": "scatter",
         "x": [
          0,
          1,
          2,
          3
         ],
         "y": [
          0.6227672620634498,
          0.6227672620634498,
          0.6414289522793921,
          0.7246067715275927
         ]
        },
        {
         "marker": {
          "maxdisplayed": 10
         },
         "mode": "lines+markers",
         "name": "Trial170",
         "type": "scatter",
         "x": [
          0,
          1,
          2,
          3
         ],
         "y": [
          0.6227672620634498,
          0.6227672620634498,
          0.6416955478539056,
          0.7395361237003466
         ]
        },
        {
         "marker": {
          "maxdisplayed": 10
         },
         "mode": "lines+markers",
         "name": "Trial171",
         "type": "scatter",
         "x": [
          0,
          1,
          2
         ],
         "y": [
          0.6227672620634498,
          0.6227672620634498,
          0.6227672620634498
         ]
        },
        {
         "marker": {
          "maxdisplayed": 10
         },
         "mode": "lines+markers",
         "name": "Trial172",
         "type": "scatter",
         "x": [
          0,
          1,
          2,
          3
         ],
         "y": [
          0.6227672620634498,
          0.6267661956811517,
          0.6496934150893096,
          0.7326046387629965
         ]
        },
        {
         "marker": {
          "maxdisplayed": 10
         },
         "mode": "lines+markers",
         "name": "Trial173",
         "type": "scatter",
         "x": [
          0,
          1,
          2
         ],
         "y": [
          0.6227672620634498,
          0.6227672620634498,
          0.6227672620634498
         ]
        },
        {
         "marker": {
          "maxdisplayed": 10
         },
         "mode": "lines+markers",
         "name": "Trial174",
         "type": "scatter",
         "x": [
          0,
          1,
          2
         ],
         "y": [
          0.6227672620634498,
          0.6227672620634498,
          0.6227672620634498
         ]
        },
        {
         "marker": {
          "maxdisplayed": 10
         },
         "mode": "lines+markers",
         "name": "Trial175",
         "type": "scatter",
         "x": [
          0,
          1,
          2
         ],
         "y": [
          0.6227672620634498,
          0.6227672620634498,
          0.6227672620634498
         ]
        },
        {
         "marker": {
          "maxdisplayed": 10
         },
         "mode": "lines+markers",
         "name": "Trial176",
         "type": "scatter",
         "x": [
          0,
          1,
          2
         ],
         "y": [
          0.6227672620634498,
          0.6227672620634498,
          0.6227672620634498
         ]
        },
        {
         "marker": {
          "maxdisplayed": 10
         },
         "mode": "lines+markers",
         "name": "Trial177",
         "type": "scatter",
         "x": [
          0,
          1,
          2
         ],
         "y": [
          0.6227672620634498,
          0.6227672620634498,
          0.6227672620634498
         ]
        },
        {
         "marker": {
          "maxdisplayed": 10
         },
         "mode": "lines+markers",
         "name": "Trial178",
         "type": "scatter",
         "x": [
          0,
          1,
          2,
          3,
          4,
          5,
          6,
          7,
          8
         ],
         "y": [
          0.6227672620634498,
          0.6227672620634498,
          0.628632364702746,
          0.7803252466009064,
          0.8152492668621701,
          0.8544388163156491,
          0.86990135963743,
          0.8784324180218608,
          0.8762996534257531
         ]
        },
        {
         "marker": {
          "maxdisplayed": 10
         },
         "mode": "lines+markers",
         "name": "Trial179",
         "type": "scatter",
         "x": [
          0,
          1,
          2
         ],
         "y": [
          0.6227672620634498,
          0.6227672620634498,
          0.6227672620634498
         ]
        },
        {
         "marker": {
          "maxdisplayed": 10
         },
         "mode": "lines+markers",
         "name": "Trial180",
         "type": "scatter",
         "x": [
          0,
          1,
          2,
          3,
          4
         ],
         "y": [
          0.6227672620634498,
          0.6227672620634498,
          0.656891495601173,
          0.7717941882164756,
          0.7987203412423354
         ]
        },
        {
         "marker": {
          "maxdisplayed": 10
         },
         "mode": "lines+markers",
         "name": "Trial181",
         "type": "scatter",
         "x": [
          0,
          1,
          2,
          3,
          4,
          5,
          6,
          7,
          8,
          9,
          10,
          11,
          12,
          13,
          14,
          15,
          16,
          17
         ],
         "y": [
          0.6227672620634498,
          0.6227672620634498,
          0.6462276726206345,
          0.7608637696614237,
          0.8179152226073048,
          0.8339109570781125,
          0.8728339109570781,
          0.8821647560650493,
          0.8792322047454012,
          0.8789656091708877,
          0.8960277259397494,
          0.8938949613436417,
          0.8885630498533724,
          0.8928285790455879,
          0.8850973073846974,
          0.8909624100239936,
          0.8765662490002666,
          0.8880298587043455
         ]
        },
        {
         "marker": {
          "maxdisplayed": 10
         },
         "mode": "lines+markers",
         "name": "Trial182",
         "type": "scatter",
         "x": [
          0,
          1,
          2
         ],
         "y": [
          0.6227672620634498,
          0.6227672620634498,
          0.6227672620634498
         ]
        },
        {
         "marker": {
          "maxdisplayed": 10
         },
         "mode": "lines+markers",
         "name": "Trial183",
         "type": "scatter",
         "x": [
          0,
          1,
          2
         ],
         "y": [
          0.6227672620634498,
          0.6227672620634498,
          0.6227672620634498
         ]
        },
        {
         "marker": {
          "maxdisplayed": 10
         },
         "mode": "lines+markers",
         "name": "Trial184",
         "type": "scatter",
         "x": [
          0,
          1,
          2
         ],
         "y": [
          0.6227672620634498,
          0.6227672620634498,
          0.6227672620634498
         ]
        },
        {
         "marker": {
          "maxdisplayed": 10
         },
         "mode": "lines+markers",
         "name": "Trial185",
         "type": "scatter",
         "x": [
          0,
          1,
          2
         ],
         "y": [
          0.6227672620634498,
          0.6227672620634498,
          0.6227672620634498
         ]
        },
        {
         "marker": {
          "maxdisplayed": 10
         },
         "mode": "lines+markers",
         "name": "Trial186",
         "type": "scatter",
         "x": [
          0,
          1,
          2,
          3,
          4
         ],
         "y": [
          0.6227672620634498,
          0.6227672620634498,
          0.6238336443615036,
          0.7912556651559585,
          0.800853105838443
         ]
        },
        {
         "marker": {
          "maxdisplayed": 10
         },
         "mode": "lines+markers",
         "name": "Trial187",
         "type": "scatter",
         "x": [
          0,
          1,
          2
         ],
         "y": [
          0.6227672620634498,
          0.6227672620634498,
          0.6227672620634498
         ]
        },
        {
         "marker": {
          "maxdisplayed": 10
         },
         "mode": "lines+markers",
         "name": "Trial188",
         "type": "scatter",
         "x": [
          0,
          1,
          2
         ],
         "y": [
          0.6227672620634498,
          0.6227672620634498,
          0.6227672620634498
         ]
        },
        {
         "marker": {
          "maxdisplayed": 10
         },
         "mode": "lines+markers",
         "name": "Trial189",
         "type": "scatter",
         "x": [
          0,
          1,
          2,
          3,
          4,
          5,
          6,
          7
         ],
         "y": [
          0.6227672620634498,
          0.6227672620634498,
          0.6632897893894961,
          0.7811250333244468,
          0.827246067715276,
          0.8552386030391895,
          0.8728339109570781,
          0.8696347640629165
         ]
        },
        {
         "marker": {
          "maxdisplayed": 10
         },
         "mode": "lines+markers",
         "name": "Trial190",
         "type": "scatter",
         "x": [
          0,
          1,
          2,
          3
         ],
         "y": [
          0.6227672620634498,
          0.6227672620634498,
          0.6360970407891229,
          0.7174086910157291
         ]
        },
        {
         "marker": {
          "maxdisplayed": 10
         },
         "mode": "lines+markers",
         "name": "Trial191",
         "type": "scatter",
         "x": [
          0,
          1,
          2,
          3,
          4
         ],
         "y": [
          0.6227672620634498,
          0.6227672620634498,
          0.6350306584910691,
          0.7573980271927486,
          0.8035190615835777
         ]
        },
        {
         "marker": {
          "maxdisplayed": 10
         },
         "mode": "lines+markers",
         "name": "Trial192",
         "type": "scatter",
         "x": [
          0,
          1,
          2,
          3,
          4
         ],
         "y": [
          0.6227672620634498,
          0.6227672620634498,
          0.6536923487070114,
          0.7627299386830179,
          0.800853105838443
         ]
        },
        {
         "marker": {
          "maxdisplayed": 10
         },
         "mode": "lines+markers",
         "name": "Trial193",
         "type": "scatter",
         "x": [
          0,
          1,
          2,
          3
         ],
         "y": [
          0.6227672620634498,
          0.6227672620634498,
          0.6256998133830979,
          0.747267395361237
         ]
        },
        {
         "marker": {
          "maxdisplayed": 10
         },
         "mode": "lines+markers",
         "name": "Trial194",
         "type": "scatter",
         "x": [
          0,
          1,
          2
         ],
         "y": [
          0.6227672620634498,
          0.6227672620634498,
          0.6227672620634498
         ]
        },
        {
         "marker": {
          "maxdisplayed": 10
         },
         "mode": "lines+markers",
         "name": "Trial195",
         "type": "scatter",
         "x": [
          0,
          1,
          2,
          3,
          4
         ],
         "y": [
          0.6227672620634498,
          0.6227672620634498,
          0.7139429485470541,
          0.7696614236203679,
          0.7701946147693949
         ]
        },
        {
         "marker": {
          "maxdisplayed": 10
         },
         "mode": "lines+markers",
         "name": "Trial196",
         "type": "scatter",
         "x": [
          0,
          1,
          2
         ],
         "y": [
          0.6227672620634498,
          0.6227672620634498,
          0.6227672620634498
         ]
        },
        {
         "marker": {
          "maxdisplayed": 10
         },
         "mode": "lines+markers",
         "name": "Trial197",
         "type": "scatter",
         "x": [
          0,
          1,
          2,
          3,
          4,
          5,
          6
         ],
         "y": [
          0.6227672620634498,
          0.6227672620634498,
          0.6392961876832844,
          0.7867235403892295,
          0.819248200479872,
          0.855505198613703,
          0.8528392428685684
         ]
        },
        {
         "marker": {
          "maxdisplayed": 10
         },
         "mode": "lines+markers",
         "name": "Trial198",
         "type": "scatter",
         "x": [
          0,
          1,
          2,
          3,
          4
         ],
         "y": [
          0.6227672620634498,
          0.6227672620634498,
          0.7152759264196215,
          0.7813916288989603,
          0.8003199146894161
         ]
        },
        {
         "marker": {
          "maxdisplayed": 10
         },
         "mode": "lines+markers",
         "name": "Trial199",
         "type": "scatter",
         "x": [
          0,
          1,
          2,
          3
         ],
         "y": [
          0.6227672620634498,
          0.6227672620634498,
          0.643028525726473,
          0.747267395361237
         ]
        }
       ],
       "layout": {
        "showlegend": false,
        "template": {
         "data": {
          "bar": [
           {
            "error_x": {
             "color": "#2a3f5f"
            },
            "error_y": {
             "color": "#2a3f5f"
            },
            "marker": {
             "line": {
              "color": "#E5ECF6",
              "width": 0.5
             },
             "pattern": {
              "fillmode": "overlay",
              "size": 10,
              "solidity": 0.2
             }
            },
            "type": "bar"
           }
          ],
          "barpolar": [
           {
            "marker": {
             "line": {
              "color": "#E5ECF6",
              "width": 0.5
             },
             "pattern": {
              "fillmode": "overlay",
              "size": 10,
              "solidity": 0.2
             }
            },
            "type": "barpolar"
           }
          ],
          "carpet": [
           {
            "aaxis": {
             "endlinecolor": "#2a3f5f",
             "gridcolor": "white",
             "linecolor": "white",
             "minorgridcolor": "white",
             "startlinecolor": "#2a3f5f"
            },
            "baxis": {
             "endlinecolor": "#2a3f5f",
             "gridcolor": "white",
             "linecolor": "white",
             "minorgridcolor": "white",
             "startlinecolor": "#2a3f5f"
            },
            "type": "carpet"
           }
          ],
          "choropleth": [
           {
            "colorbar": {
             "outlinewidth": 0,
             "ticks": ""
            },
            "type": "choropleth"
           }
          ],
          "contour": [
           {
            "colorbar": {
             "outlinewidth": 0,
             "ticks": ""
            },
            "colorscale": [
             [
              0,
              "#0d0887"
             ],
             [
              0.1111111111111111,
              "#46039f"
             ],
             [
              0.2222222222222222,
              "#7201a8"
             ],
             [
              0.3333333333333333,
              "#9c179e"
             ],
             [
              0.4444444444444444,
              "#bd3786"
             ],
             [
              0.5555555555555556,
              "#d8576b"
             ],
             [
              0.6666666666666666,
              "#ed7953"
             ],
             [
              0.7777777777777778,
              "#fb9f3a"
             ],
             [
              0.8888888888888888,
              "#fdca26"
             ],
             [
              1,
              "#f0f921"
             ]
            ],
            "type": "contour"
           }
          ],
          "contourcarpet": [
           {
            "colorbar": {
             "outlinewidth": 0,
             "ticks": ""
            },
            "type": "contourcarpet"
           }
          ],
          "heatmap": [
           {
            "colorbar": {
             "outlinewidth": 0,
             "ticks": ""
            },
            "colorscale": [
             [
              0,
              "#0d0887"
             ],
             [
              0.1111111111111111,
              "#46039f"
             ],
             [
              0.2222222222222222,
              "#7201a8"
             ],
             [
              0.3333333333333333,
              "#9c179e"
             ],
             [
              0.4444444444444444,
              "#bd3786"
             ],
             [
              0.5555555555555556,
              "#d8576b"
             ],
             [
              0.6666666666666666,
              "#ed7953"
             ],
             [
              0.7777777777777778,
              "#fb9f3a"
             ],
             [
              0.8888888888888888,
              "#fdca26"
             ],
             [
              1,
              "#f0f921"
             ]
            ],
            "type": "heatmap"
           }
          ],
          "heatmapgl": [
           {
            "colorbar": {
             "outlinewidth": 0,
             "ticks": ""
            },
            "colorscale": [
             [
              0,
              "#0d0887"
             ],
             [
              0.1111111111111111,
              "#46039f"
             ],
             [
              0.2222222222222222,
              "#7201a8"
             ],
             [
              0.3333333333333333,
              "#9c179e"
             ],
             [
              0.4444444444444444,
              "#bd3786"
             ],
             [
              0.5555555555555556,
              "#d8576b"
             ],
             [
              0.6666666666666666,
              "#ed7953"
             ],
             [
              0.7777777777777778,
              "#fb9f3a"
             ],
             [
              0.8888888888888888,
              "#fdca26"
             ],
             [
              1,
              "#f0f921"
             ]
            ],
            "type": "heatmapgl"
           }
          ],
          "histogram": [
           {
            "marker": {
             "pattern": {
              "fillmode": "overlay",
              "size": 10,
              "solidity": 0.2
             }
            },
            "type": "histogram"
           }
          ],
          "histogram2d": [
           {
            "colorbar": {
             "outlinewidth": 0,
             "ticks": ""
            },
            "colorscale": [
             [
              0,
              "#0d0887"
             ],
             [
              0.1111111111111111,
              "#46039f"
             ],
             [
              0.2222222222222222,
              "#7201a8"
             ],
             [
              0.3333333333333333,
              "#9c179e"
             ],
             [
              0.4444444444444444,
              "#bd3786"
             ],
             [
              0.5555555555555556,
              "#d8576b"
             ],
             [
              0.6666666666666666,
              "#ed7953"
             ],
             [
              0.7777777777777778,
              "#fb9f3a"
             ],
             [
              0.8888888888888888,
              "#fdca26"
             ],
             [
              1,
              "#f0f921"
             ]
            ],
            "type": "histogram2d"
           }
          ],
          "histogram2dcontour": [
           {
            "colorbar": {
             "outlinewidth": 0,
             "ticks": ""
            },
            "colorscale": [
             [
              0,
              "#0d0887"
             ],
             [
              0.1111111111111111,
              "#46039f"
             ],
             [
              0.2222222222222222,
              "#7201a8"
             ],
             [
              0.3333333333333333,
              "#9c179e"
             ],
             [
              0.4444444444444444,
              "#bd3786"
             ],
             [
              0.5555555555555556,
              "#d8576b"
             ],
             [
              0.6666666666666666,
              "#ed7953"
             ],
             [
              0.7777777777777778,
              "#fb9f3a"
             ],
             [
              0.8888888888888888,
              "#fdca26"
             ],
             [
              1,
              "#f0f921"
             ]
            ],
            "type": "histogram2dcontour"
           }
          ],
          "mesh3d": [
           {
            "colorbar": {
             "outlinewidth": 0,
             "ticks": ""
            },
            "type": "mesh3d"
           }
          ],
          "parcoords": [
           {
            "line": {
             "colorbar": {
              "outlinewidth": 0,
              "ticks": ""
             }
            },
            "type": "parcoords"
           }
          ],
          "pie": [
           {
            "automargin": true,
            "type": "pie"
           }
          ],
          "scatter": [
           {
            "fillpattern": {
             "fillmode": "overlay",
             "size": 10,
             "solidity": 0.2
            },
            "type": "scatter"
           }
          ],
          "scatter3d": [
           {
            "line": {
             "colorbar": {
              "outlinewidth": 0,
              "ticks": ""
             }
            },
            "marker": {
             "colorbar": {
              "outlinewidth": 0,
              "ticks": ""
             }
            },
            "type": "scatter3d"
           }
          ],
          "scattercarpet": [
           {
            "marker": {
             "colorbar": {
              "outlinewidth": 0,
              "ticks": ""
             }
            },
            "type": "scattercarpet"
           }
          ],
          "scattergeo": [
           {
            "marker": {
             "colorbar": {
              "outlinewidth": 0,
              "ticks": ""
             }
            },
            "type": "scattergeo"
           }
          ],
          "scattergl": [
           {
            "marker": {
             "colorbar": {
              "outlinewidth": 0,
              "ticks": ""
             }
            },
            "type": "scattergl"
           }
          ],
          "scattermapbox": [
           {
            "marker": {
             "colorbar": {
              "outlinewidth": 0,
              "ticks": ""
             }
            },
            "type": "scattermapbox"
           }
          ],
          "scatterpolar": [
           {
            "marker": {
             "colorbar": {
              "outlinewidth": 0,
              "ticks": ""
             }
            },
            "type": "scatterpolar"
           }
          ],
          "scatterpolargl": [
           {
            "marker": {
             "colorbar": {
              "outlinewidth": 0,
              "ticks": ""
             }
            },
            "type": "scatterpolargl"
           }
          ],
          "scatterternary": [
           {
            "marker": {
             "colorbar": {
              "outlinewidth": 0,
              "ticks": ""
             }
            },
            "type": "scatterternary"
           }
          ],
          "surface": [
           {
            "colorbar": {
             "outlinewidth": 0,
             "ticks": ""
            },
            "colorscale": [
             [
              0,
              "#0d0887"
             ],
             [
              0.1111111111111111,
              "#46039f"
             ],
             [
              0.2222222222222222,
              "#7201a8"
             ],
             [
              0.3333333333333333,
              "#9c179e"
             ],
             [
              0.4444444444444444,
              "#bd3786"
             ],
             [
              0.5555555555555556,
              "#d8576b"
             ],
             [
              0.6666666666666666,
              "#ed7953"
             ],
             [
              0.7777777777777778,
              "#fb9f3a"
             ],
             [
              0.8888888888888888,
              "#fdca26"
             ],
             [
              1,
              "#f0f921"
             ]
            ],
            "type": "surface"
           }
          ],
          "table": [
           {
            "cells": {
             "fill": {
              "color": "#EBF0F8"
             },
             "line": {
              "color": "white"
             }
            },
            "header": {
             "fill": {
              "color": "#C8D4E3"
             },
             "line": {
              "color": "white"
             }
            },
            "type": "table"
           }
          ]
         },
         "layout": {
          "annotationdefaults": {
           "arrowcolor": "#2a3f5f",
           "arrowhead": 0,
           "arrowwidth": 1
          },
          "autotypenumbers": "strict",
          "coloraxis": {
           "colorbar": {
            "outlinewidth": 0,
            "ticks": ""
           }
          },
          "colorscale": {
           "diverging": [
            [
             0,
             "#8e0152"
            ],
            [
             0.1,
             "#c51b7d"
            ],
            [
             0.2,
             "#de77ae"
            ],
            [
             0.3,
             "#f1b6da"
            ],
            [
             0.4,
             "#fde0ef"
            ],
            [
             0.5,
             "#f7f7f7"
            ],
            [
             0.6,
             "#e6f5d0"
            ],
            [
             0.7,
             "#b8e186"
            ],
            [
             0.8,
             "#7fbc41"
            ],
            [
             0.9,
             "#4d9221"
            ],
            [
             1,
             "#276419"
            ]
           ],
           "sequential": [
            [
             0,
             "#0d0887"
            ],
            [
             0.1111111111111111,
             "#46039f"
            ],
            [
             0.2222222222222222,
             "#7201a8"
            ],
            [
             0.3333333333333333,
             "#9c179e"
            ],
            [
             0.4444444444444444,
             "#bd3786"
            ],
            [
             0.5555555555555556,
             "#d8576b"
            ],
            [
             0.6666666666666666,
             "#ed7953"
            ],
            [
             0.7777777777777778,
             "#fb9f3a"
            ],
            [
             0.8888888888888888,
             "#fdca26"
            ],
            [
             1,
             "#f0f921"
            ]
           ],
           "sequentialminus": [
            [
             0,
             "#0d0887"
            ],
            [
             0.1111111111111111,
             "#46039f"
            ],
            [
             0.2222222222222222,
             "#7201a8"
            ],
            [
             0.3333333333333333,
             "#9c179e"
            ],
            [
             0.4444444444444444,
             "#bd3786"
            ],
            [
             0.5555555555555556,
             "#d8576b"
            ],
            [
             0.6666666666666666,
             "#ed7953"
            ],
            [
             0.7777777777777778,
             "#fb9f3a"
            ],
            [
             0.8888888888888888,
             "#fdca26"
            ],
            [
             1,
             "#f0f921"
            ]
           ]
          },
          "colorway": [
           "#636efa",
           "#EF553B",
           "#00cc96",
           "#ab63fa",
           "#FFA15A",
           "#19d3f3",
           "#FF6692",
           "#B6E880",
           "#FF97FF",
           "#FECB52"
          ],
          "font": {
           "color": "#2a3f5f"
          },
          "geo": {
           "bgcolor": "white",
           "lakecolor": "white",
           "landcolor": "#E5ECF6",
           "showlakes": true,
           "showland": true,
           "subunitcolor": "white"
          },
          "hoverlabel": {
           "align": "left"
          },
          "hovermode": "closest",
          "mapbox": {
           "style": "light"
          },
          "paper_bgcolor": "white",
          "plot_bgcolor": "#E5ECF6",
          "polar": {
           "angularaxis": {
            "gridcolor": "white",
            "linecolor": "white",
            "ticks": ""
           },
           "bgcolor": "#E5ECF6",
           "radialaxis": {
            "gridcolor": "white",
            "linecolor": "white",
            "ticks": ""
           }
          },
          "scene": {
           "xaxis": {
            "backgroundcolor": "#E5ECF6",
            "gridcolor": "white",
            "gridwidth": 2,
            "linecolor": "white",
            "showbackground": true,
            "ticks": "",
            "zerolinecolor": "white"
           },
           "yaxis": {
            "backgroundcolor": "#E5ECF6",
            "gridcolor": "white",
            "gridwidth": 2,
            "linecolor": "white",
            "showbackground": true,
            "ticks": "",
            "zerolinecolor": "white"
           },
           "zaxis": {
            "backgroundcolor": "#E5ECF6",
            "gridcolor": "white",
            "gridwidth": 2,
            "linecolor": "white",
            "showbackground": true,
            "ticks": "",
            "zerolinecolor": "white"
           }
          },
          "shapedefaults": {
           "line": {
            "color": "#2a3f5f"
           }
          },
          "ternary": {
           "aaxis": {
            "gridcolor": "white",
            "linecolor": "white",
            "ticks": ""
           },
           "baxis": {
            "gridcolor": "white",
            "linecolor": "white",
            "ticks": ""
           },
           "bgcolor": "#E5ECF6",
           "caxis": {
            "gridcolor": "white",
            "linecolor": "white",
            "ticks": ""
           }
          },
          "title": {
           "x": 0.05
          },
          "xaxis": {
           "automargin": true,
           "gridcolor": "white",
           "linecolor": "white",
           "ticks": "",
           "title": {
            "standoff": 15
           },
           "zerolinecolor": "white",
           "zerolinewidth": 2
          },
          "yaxis": {
           "automargin": true,
           "gridcolor": "white",
           "linecolor": "white",
           "ticks": "",
           "title": {
            "standoff": 15
           },
           "zerolinecolor": "white",
           "zerolinewidth": 2
          }
         }
        },
        "title": {
         "text": "Intermediate Values Plot"
        },
        "xaxis": {
         "title": {
          "text": "Step"
         }
        },
        "yaxis": {
         "title": {
          "text": "Intermediate Value"
         }
        }
       }
      }
     },
     "metadata": {},
     "output_type": "display_data"
    },
    {
     "data": {
      "application/vnd.plotly.v1+json": {
       "config": {
        "plotlyServerURL": "https://plot.ly"
       },
       "data": [
        {
         "dimensions": [
          {
           "label": "Objective Value",
           "range": [
            0.7059450813116502,
            0.9402825913089843
           ],
           "values": [
            0.9082911223673688,
            0.880831778192482,
            0.7059450813116502,
            0.9293521727539323,
            0.9288189816049054,
            0.9144228205811783,
            0.9109570781125034,
            0.9296187683284457,
            0.9157557984537457,
            0.9288189816049054,
            0.9288189816049054,
            0.9346840842442016,
            0.9325513196480938,
            0.934950679818715,
            0.9277525993068515,
            0.9344174886696881,
            0.9402825913089843,
            0.9333511063716342,
            0.9384164222873901,
            0.9290855771794189,
            0.9290855771794189,
            0.9141562250066649,
            0.934950679818715,
            0.9256198347107438,
            0.9288189816049054,
            0.9288189816049054,
            0.9325513196480938,
            0.9352172753932285
           ]
          },
          {
           "label": "dropout_l0",
           "range": [
            0.004673342600046149,
            0.4119142763988991
           ],
           "values": [
            0.27216958189941215,
            0.2040439556442431,
            0.4119142763988991,
            0.1976079888754113,
            0.242827321667217,
            0.13398770664371068,
            0.004673342600046149,
            0.1068737478632539,
            0.28755116303188294,
            0.1603825583366694,
            0.22353377710647043,
            0.18930892027456966,
            0.22088361468456552,
            0.2463196005891692,
            0.04532251197899459,
            0.14753834855031933,
            0.2205320834231246,
            0.21881956556368712,
            0.25138961221328027,
            0.24010352307868857,
            0.23744320145022765,
            0.13192604355030463,
            0.27878704437582913,
            0.09264438116194347,
            0.05799112959696798,
            0.16827707444388748,
            0.19784134038011977,
            0.27450558170673006
           ]
          },
          {
           "label": "dropout_l1",
           "range": [
            0.004901741528460263,
            0.4676729336047755
           ],
           "values": [
            0.2541258284187212,
            0.4607755070789919,
            0.4676729336047755,
            0.3317882991508854,
            0.3218356256630171,
            0.15310331204637195,
            0.33973380464014297,
            0.010650633307700413,
            0.004901741528460263,
            0.35462491864584245,
            0.203541111107971,
            0.19943678829408704,
            0.17302551124960028,
            0.13472505919515718,
            0.22878388648569375,
            0.35690255682949124,
            0.4396691538383308,
            0.15733845270240715,
            0.4450385622889178,
            0.16300430623602075,
            0.2282922563637247,
            0.29770127970983246,
            0.1545729595258951,
            0.03661227201861836,
            0.2412780379723679,
            0.21032313926568266,
            0.18806257123377812,
            0.3803596316045824
           ]
          },
          {
           "label": "dropout_l2",
           "range": [
            0.012451022461741554,
            0.3008822412617268
           ],
           "values": [
            0.12311062130762035,
            0.3008822412617268,
            0.11477789419700585,
            0.11099581294956667,
            0.012451022461741554,
            0.016604268122961063,
            0.08179361258587768,
            0.16910642924918817,
            0.22467145878443817,
            0.029052522575043593,
            0.05545726360047836,
            0.07550814572034648,
            0.05986183531010077,
            0.04503296563482562,
            0.2836957906868469,
            0.041884040390254784,
            0.05657711479553102,
            0.04168081741072807,
            0.03651019907192632,
            0.05621361723553704,
            0.10356652161058669,
            0.07838271975992295,
            0.15544819670997412,
            0.17727933645494962,
            0.1626939142961151,
            0.22485684684247062,
            0.2176062283949365,
            0.1618755762443466
           ]
          },
          {
           "label": "lr",
           "range": [
            -3.091939092682733,
            -2.165241059973029
           ],
           "ticktext": [
            "0.000809",
            "0.001",
            "0.00684"
           ],
           "tickvals": [
            -3.091939092682733,
            -3,
            -2.165241059973029
           ],
           "values": [
            -2.2745218596514825,
            -2.165241059973029,
            -2.895292362390431,
            -3.091939092682733,
            -2.640704265936028,
            -2.599652386102506,
            -2.566381952255718,
            -2.819841663313461,
            -2.4864699858013006,
            -2.902994724806045,
            -2.7327766401467106,
            -2.8866359782354745,
            -2.7575228660756514,
            -2.803388592143376,
            -2.842234990560635,
            -2.9365245775296023,
            -2.731379017197626,
            -2.739621117207772,
            -2.74086865397622,
            -2.741725540312699,
            -2.991810127902762,
            -2.796769226935065,
            -2.932264874479744,
            -2.885879891045531,
            -2.791037134163514,
            -2.8590699174758707,
            -2.8422343245647586,
            -2.8837748583505136
           ]
          },
          {
           "label": "n_layers",
           "range": [
            3,
            3
           ],
           "values": [
            3,
            3,
            3,
            3,
            3,
            3,
            3,
            3,
            3,
            3,
            3,
            3,
            3,
            3,
            3,
            3,
            3,
            3,
            3,
            3,
            3,
            3,
            3,
            3,
            3,
            3,
            3,
            3
           ]
          },
          {
           "label": "n_units_l0",
           "range": [
            19,
            256
           ],
           "values": [
            74,
            33,
            19,
            144,
            213,
            134,
            226,
            241,
            106,
            242,
            238,
            255,
            232,
            188,
            256,
            240,
            229,
            233,
            232,
            229,
            234,
            227,
            240,
            238,
            223,
            231,
            229,
            222
           ]
          },
          {
           "label": "n_units_l1",
           "range": [
            11,
            204
           ],
           "values": [
            105,
            11,
            167,
            71,
            71,
            11,
            28,
            167,
            204,
            136,
            135,
            144,
            147,
            144,
            129,
            139,
            146,
            142,
            143,
            139,
            155,
            151,
            162,
            147,
            191,
            137,
            140,
            159
           ]
          },
          {
           "label": "n_units_l2",
           "range": [
            4,
            235
           ],
           "values": [
            147,
            231,
            235,
            163,
            8,
            4,
            74,
            180,
            188,
            183,
            186,
            184,
            202,
            198,
            170,
            150,
            152,
            147,
            150,
            159,
            194,
            160,
            143,
            185,
            176,
            208,
            146,
            53
           ]
          }
         ],
         "labelangle": 30,
         "labelside": "bottom",
         "line": {
          "color": [
           0.9082911223673688,
           0.880831778192482,
           0.7059450813116502,
           0.9293521727539323,
           0.9288189816049054,
           0.9144228205811783,
           0.9109570781125034,
           0.9296187683284457,
           0.9157557984537457,
           0.9288189816049054,
           0.9288189816049054,
           0.9346840842442016,
           0.9325513196480938,
           0.934950679818715,
           0.9277525993068515,
           0.9344174886696881,
           0.9402825913089843,
           0.9333511063716342,
           0.9384164222873901,
           0.9290855771794189,
           0.9290855771794189,
           0.9141562250066649,
           0.934950679818715,
           0.9256198347107438,
           0.9288189816049054,
           0.9288189816049054,
           0.9325513196480938,
           0.9352172753932285
          ],
          "colorbar": {
           "title": {
            "text": "Objective Value"
           }
          },
          "colorscale": [
           [
            0,
            "rgb(247,251,255)"
           ],
           [
            0.125,
            "rgb(222,235,247)"
           ],
           [
            0.25,
            "rgb(198,219,239)"
           ],
           [
            0.375,
            "rgb(158,202,225)"
           ],
           [
            0.5,
            "rgb(107,174,214)"
           ],
           [
            0.625,
            "rgb(66,146,198)"
           ],
           [
            0.75,
            "rgb(33,113,181)"
           ],
           [
            0.875,
            "rgb(8,81,156)"
           ],
           [
            1,
            "rgb(8,48,107)"
           ]
          ],
          "reversescale": false,
          "showscale": true
         },
         "type": "parcoords"
        }
       ],
       "layout": {
        "template": {
         "data": {
          "bar": [
           {
            "error_x": {
             "color": "#2a3f5f"
            },
            "error_y": {
             "color": "#2a3f5f"
            },
            "marker": {
             "line": {
              "color": "#E5ECF6",
              "width": 0.5
             },
             "pattern": {
              "fillmode": "overlay",
              "size": 10,
              "solidity": 0.2
             }
            },
            "type": "bar"
           }
          ],
          "barpolar": [
           {
            "marker": {
             "line": {
              "color": "#E5ECF6",
              "width": 0.5
             },
             "pattern": {
              "fillmode": "overlay",
              "size": 10,
              "solidity": 0.2
             }
            },
            "type": "barpolar"
           }
          ],
          "carpet": [
           {
            "aaxis": {
             "endlinecolor": "#2a3f5f",
             "gridcolor": "white",
             "linecolor": "white",
             "minorgridcolor": "white",
             "startlinecolor": "#2a3f5f"
            },
            "baxis": {
             "endlinecolor": "#2a3f5f",
             "gridcolor": "white",
             "linecolor": "white",
             "minorgridcolor": "white",
             "startlinecolor": "#2a3f5f"
            },
            "type": "carpet"
           }
          ],
          "choropleth": [
           {
            "colorbar": {
             "outlinewidth": 0,
             "ticks": ""
            },
            "type": "choropleth"
           }
          ],
          "contour": [
           {
            "colorbar": {
             "outlinewidth": 0,
             "ticks": ""
            },
            "colorscale": [
             [
              0,
              "#0d0887"
             ],
             [
              0.1111111111111111,
              "#46039f"
             ],
             [
              0.2222222222222222,
              "#7201a8"
             ],
             [
              0.3333333333333333,
              "#9c179e"
             ],
             [
              0.4444444444444444,
              "#bd3786"
             ],
             [
              0.5555555555555556,
              "#d8576b"
             ],
             [
              0.6666666666666666,
              "#ed7953"
             ],
             [
              0.7777777777777778,
              "#fb9f3a"
             ],
             [
              0.8888888888888888,
              "#fdca26"
             ],
             [
              1,
              "#f0f921"
             ]
            ],
            "type": "contour"
           }
          ],
          "contourcarpet": [
           {
            "colorbar": {
             "outlinewidth": 0,
             "ticks": ""
            },
            "type": "contourcarpet"
           }
          ],
          "heatmap": [
           {
            "colorbar": {
             "outlinewidth": 0,
             "ticks": ""
            },
            "colorscale": [
             [
              0,
              "#0d0887"
             ],
             [
              0.1111111111111111,
              "#46039f"
             ],
             [
              0.2222222222222222,
              "#7201a8"
             ],
             [
              0.3333333333333333,
              "#9c179e"
             ],
             [
              0.4444444444444444,
              "#bd3786"
             ],
             [
              0.5555555555555556,
              "#d8576b"
             ],
             [
              0.6666666666666666,
              "#ed7953"
             ],
             [
              0.7777777777777778,
              "#fb9f3a"
             ],
             [
              0.8888888888888888,
              "#fdca26"
             ],
             [
              1,
              "#f0f921"
             ]
            ],
            "type": "heatmap"
           }
          ],
          "heatmapgl": [
           {
            "colorbar": {
             "outlinewidth": 0,
             "ticks": ""
            },
            "colorscale": [
             [
              0,
              "#0d0887"
             ],
             [
              0.1111111111111111,
              "#46039f"
             ],
             [
              0.2222222222222222,
              "#7201a8"
             ],
             [
              0.3333333333333333,
              "#9c179e"
             ],
             [
              0.4444444444444444,
              "#bd3786"
             ],
             [
              0.5555555555555556,
              "#d8576b"
             ],
             [
              0.6666666666666666,
              "#ed7953"
             ],
             [
              0.7777777777777778,
              "#fb9f3a"
             ],
             [
              0.8888888888888888,
              "#fdca26"
             ],
             [
              1,
              "#f0f921"
             ]
            ],
            "type": "heatmapgl"
           }
          ],
          "histogram": [
           {
            "marker": {
             "pattern": {
              "fillmode": "overlay",
              "size": 10,
              "solidity": 0.2
             }
            },
            "type": "histogram"
           }
          ],
          "histogram2d": [
           {
            "colorbar": {
             "outlinewidth": 0,
             "ticks": ""
            },
            "colorscale": [
             [
              0,
              "#0d0887"
             ],
             [
              0.1111111111111111,
              "#46039f"
             ],
             [
              0.2222222222222222,
              "#7201a8"
             ],
             [
              0.3333333333333333,
              "#9c179e"
             ],
             [
              0.4444444444444444,
              "#bd3786"
             ],
             [
              0.5555555555555556,
              "#d8576b"
             ],
             [
              0.6666666666666666,
              "#ed7953"
             ],
             [
              0.7777777777777778,
              "#fb9f3a"
             ],
             [
              0.8888888888888888,
              "#fdca26"
             ],
             [
              1,
              "#f0f921"
             ]
            ],
            "type": "histogram2d"
           }
          ],
          "histogram2dcontour": [
           {
            "colorbar": {
             "outlinewidth": 0,
             "ticks": ""
            },
            "colorscale": [
             [
              0,
              "#0d0887"
             ],
             [
              0.1111111111111111,
              "#46039f"
             ],
             [
              0.2222222222222222,
              "#7201a8"
             ],
             [
              0.3333333333333333,
              "#9c179e"
             ],
             [
              0.4444444444444444,
              "#bd3786"
             ],
             [
              0.5555555555555556,
              "#d8576b"
             ],
             [
              0.6666666666666666,
              "#ed7953"
             ],
             [
              0.7777777777777778,
              "#fb9f3a"
             ],
             [
              0.8888888888888888,
              "#fdca26"
             ],
             [
              1,
              "#f0f921"
             ]
            ],
            "type": "histogram2dcontour"
           }
          ],
          "mesh3d": [
           {
            "colorbar": {
             "outlinewidth": 0,
             "ticks": ""
            },
            "type": "mesh3d"
           }
          ],
          "parcoords": [
           {
            "line": {
             "colorbar": {
              "outlinewidth": 0,
              "ticks": ""
             }
            },
            "type": "parcoords"
           }
          ],
          "pie": [
           {
            "automargin": true,
            "type": "pie"
           }
          ],
          "scatter": [
           {
            "fillpattern": {
             "fillmode": "overlay",
             "size": 10,
             "solidity": 0.2
            },
            "type": "scatter"
           }
          ],
          "scatter3d": [
           {
            "line": {
             "colorbar": {
              "outlinewidth": 0,
              "ticks": ""
             }
            },
            "marker": {
             "colorbar": {
              "outlinewidth": 0,
              "ticks": ""
             }
            },
            "type": "scatter3d"
           }
          ],
          "scattercarpet": [
           {
            "marker": {
             "colorbar": {
              "outlinewidth": 0,
              "ticks": ""
             }
            },
            "type": "scattercarpet"
           }
          ],
          "scattergeo": [
           {
            "marker": {
             "colorbar": {
              "outlinewidth": 0,
              "ticks": ""
             }
            },
            "type": "scattergeo"
           }
          ],
          "scattergl": [
           {
            "marker": {
             "colorbar": {
              "outlinewidth": 0,
              "ticks": ""
             }
            },
            "type": "scattergl"
           }
          ],
          "scattermapbox": [
           {
            "marker": {
             "colorbar": {
              "outlinewidth": 0,
              "ticks": ""
             }
            },
            "type": "scattermapbox"
           }
          ],
          "scatterpolar": [
           {
            "marker": {
             "colorbar": {
              "outlinewidth": 0,
              "ticks": ""
             }
            },
            "type": "scatterpolar"
           }
          ],
          "scatterpolargl": [
           {
            "marker": {
             "colorbar": {
              "outlinewidth": 0,
              "ticks": ""
             }
            },
            "type": "scatterpolargl"
           }
          ],
          "scatterternary": [
           {
            "marker": {
             "colorbar": {
              "outlinewidth": 0,
              "ticks": ""
             }
            },
            "type": "scatterternary"
           }
          ],
          "surface": [
           {
            "colorbar": {
             "outlinewidth": 0,
             "ticks": ""
            },
            "colorscale": [
             [
              0,
              "#0d0887"
             ],
             [
              0.1111111111111111,
              "#46039f"
             ],
             [
              0.2222222222222222,
              "#7201a8"
             ],
             [
              0.3333333333333333,
              "#9c179e"
             ],
             [
              0.4444444444444444,
              "#bd3786"
             ],
             [
              0.5555555555555556,
              "#d8576b"
             ],
             [
              0.6666666666666666,
              "#ed7953"
             ],
             [
              0.7777777777777778,
              "#fb9f3a"
             ],
             [
              0.8888888888888888,
              "#fdca26"
             ],
             [
              1,
              "#f0f921"
             ]
            ],
            "type": "surface"
           }
          ],
          "table": [
           {
            "cells": {
             "fill": {
              "color": "#EBF0F8"
             },
             "line": {
              "color": "white"
             }
            },
            "header": {
             "fill": {
              "color": "#C8D4E3"
             },
             "line": {
              "color": "white"
             }
            },
            "type": "table"
           }
          ]
         },
         "layout": {
          "annotationdefaults": {
           "arrowcolor": "#2a3f5f",
           "arrowhead": 0,
           "arrowwidth": 1
          },
          "autotypenumbers": "strict",
          "coloraxis": {
           "colorbar": {
            "outlinewidth": 0,
            "ticks": ""
           }
          },
          "colorscale": {
           "diverging": [
            [
             0,
             "#8e0152"
            ],
            [
             0.1,
             "#c51b7d"
            ],
            [
             0.2,
             "#de77ae"
            ],
            [
             0.3,
             "#f1b6da"
            ],
            [
             0.4,
             "#fde0ef"
            ],
            [
             0.5,
             "#f7f7f7"
            ],
            [
             0.6,
             "#e6f5d0"
            ],
            [
             0.7,
             "#b8e186"
            ],
            [
             0.8,
             "#7fbc41"
            ],
            [
             0.9,
             "#4d9221"
            ],
            [
             1,
             "#276419"
            ]
           ],
           "sequential": [
            [
             0,
             "#0d0887"
            ],
            [
             0.1111111111111111,
             "#46039f"
            ],
            [
             0.2222222222222222,
             "#7201a8"
            ],
            [
             0.3333333333333333,
             "#9c179e"
            ],
            [
             0.4444444444444444,
             "#bd3786"
            ],
            [
             0.5555555555555556,
             "#d8576b"
            ],
            [
             0.6666666666666666,
             "#ed7953"
            ],
            [
             0.7777777777777778,
             "#fb9f3a"
            ],
            [
             0.8888888888888888,
             "#fdca26"
            ],
            [
             1,
             "#f0f921"
            ]
           ],
           "sequentialminus": [
            [
             0,
             "#0d0887"
            ],
            [
             0.1111111111111111,
             "#46039f"
            ],
            [
             0.2222222222222222,
             "#7201a8"
            ],
            [
             0.3333333333333333,
             "#9c179e"
            ],
            [
             0.4444444444444444,
             "#bd3786"
            ],
            [
             0.5555555555555556,
             "#d8576b"
            ],
            [
             0.6666666666666666,
             "#ed7953"
            ],
            [
             0.7777777777777778,
             "#fb9f3a"
            ],
            [
             0.8888888888888888,
             "#fdca26"
            ],
            [
             1,
             "#f0f921"
            ]
           ]
          },
          "colorway": [
           "#636efa",
           "#EF553B",
           "#00cc96",
           "#ab63fa",
           "#FFA15A",
           "#19d3f3",
           "#FF6692",
           "#B6E880",
           "#FF97FF",
           "#FECB52"
          ],
          "font": {
           "color": "#2a3f5f"
          },
          "geo": {
           "bgcolor": "white",
           "lakecolor": "white",
           "landcolor": "#E5ECF6",
           "showlakes": true,
           "showland": true,
           "subunitcolor": "white"
          },
          "hoverlabel": {
           "align": "left"
          },
          "hovermode": "closest",
          "mapbox": {
           "style": "light"
          },
          "paper_bgcolor": "white",
          "plot_bgcolor": "#E5ECF6",
          "polar": {
           "angularaxis": {
            "gridcolor": "white",
            "linecolor": "white",
            "ticks": ""
           },
           "bgcolor": "#E5ECF6",
           "radialaxis": {
            "gridcolor": "white",
            "linecolor": "white",
            "ticks": ""
           }
          },
          "scene": {
           "xaxis": {
            "backgroundcolor": "#E5ECF6",
            "gridcolor": "white",
            "gridwidth": 2,
            "linecolor": "white",
            "showbackground": true,
            "ticks": "",
            "zerolinecolor": "white"
           },
           "yaxis": {
            "backgroundcolor": "#E5ECF6",
            "gridcolor": "white",
            "gridwidth": 2,
            "linecolor": "white",
            "showbackground": true,
            "ticks": "",
            "zerolinecolor": "white"
           },
           "zaxis": {
            "backgroundcolor": "#E5ECF6",
            "gridcolor": "white",
            "gridwidth": 2,
            "linecolor": "white",
            "showbackground": true,
            "ticks": "",
            "zerolinecolor": "white"
           }
          },
          "shapedefaults": {
           "line": {
            "color": "#2a3f5f"
           }
          },
          "ternary": {
           "aaxis": {
            "gridcolor": "white",
            "linecolor": "white",
            "ticks": ""
           },
           "baxis": {
            "gridcolor": "white",
            "linecolor": "white",
            "ticks": ""
           },
           "bgcolor": "#E5ECF6",
           "caxis": {
            "gridcolor": "white",
            "linecolor": "white",
            "ticks": ""
           }
          },
          "title": {
           "x": 0.05
          },
          "xaxis": {
           "automargin": true,
           "gridcolor": "white",
           "linecolor": "white",
           "ticks": "",
           "title": {
            "standoff": 15
           },
           "zerolinecolor": "white",
           "zerolinewidth": 2
          },
          "yaxis": {
           "automargin": true,
           "gridcolor": "white",
           "linecolor": "white",
           "ticks": "",
           "title": {
            "standoff": 15
           },
           "zerolinecolor": "white",
           "zerolinewidth": 2
          }
         }
        },
        "title": {
         "text": "Parallel Coordinate Plot"
        }
       }
      }
     },
     "metadata": {},
     "output_type": "display_data"
    }
   ],
   "source": [
    "import optuna.visualization as opt_vis\n",
    "\n",
    "fig1 = opt_vis.plot_optimization_history(study)\n",
    "fig2 = opt_vis.plot_param_importances(study)\n",
    "fig3 = opt_vis.plot_intermediate_values(study)\n",
    "fig4 = opt_vis.plot_parallel_coordinate(study)\n",
    "\n",
    "fig1.show()\n",
    "fig2.show()\n",
    "fig3.show()\n",
    "fig4.show()"
   ]
  },
  {
   "cell_type": "markdown",
   "metadata": {},
   "source": [
    "# Pretraining the policy network"
   ]
  },
  {
   "cell_type": "code",
   "execution_count": 58,
   "metadata": {},
   "outputs": [],
   "source": [
    "from typing import Any, Dict, List, Optional, Type\n",
    "import gym\n",
    "\n",
    "from stable_baselines3.dqn.policies import QNetwork, DQNPolicy\n",
    "\n",
    "\n",
    "def create_dropout_mlp(\n",
    "    input_dim: int,\n",
    "    output_dim: int,\n",
    "    net_arch: List[int],\n",
    "    dropout_arch: List[float],\n",
    "    activation_fn: Type[nn.Module] = nn.ReLU,\n",
    "    squash_output: bool = False,\n",
    ") -> List[nn.Module]:\n",
    "    if len(net_arch) > 0:\n",
    "        modules = [nn.Linear(input_dim, net_arch[0]), activation_fn(), nn.Dropout(dropout_arch[0])]\n",
    "    else:\n",
    "        modules = []\n",
    "\n",
    "    for idx in range(len(net_arch) - 1):\n",
    "        modules.append(nn.Linear(net_arch[idx], net_arch[idx + 1]))\n",
    "        modules.append(activation_fn())\n",
    "        modules.append(nn.Dropout(dropout_arch[idx + 1]))\n",
    "\n",
    "    if output_dim > 0:\n",
    "        last_layer_dim = net_arch[-1] if len(net_arch) > 0 else input_dim\n",
    "        modules.append(nn.Linear(last_layer_dim, output_dim))\n",
    "    if squash_output:\n",
    "        modules.append(nn.Tanh())\n",
    "    return modules\n",
    "\n",
    "def pretrain():\n",
    "    batch_size = 128\n",
    "    train_loader, valid_loader = get_data(batch_size, test_size=1)\n",
    "\n",
    "    # Generate the model.\n",
    "    input_size = train_loader.dataset[0][0].shape[-1]\n",
    "    layers = create_dropout_mlp(input_size, OUT_SIZE, [115, 97], [0.097, 0.11], nn.ReLU)\n",
    "    layers.append(nn.LogSoftmax(dim=1))\n",
    "    model = nn.Sequential(*layers).to(DEVICE)\n",
    "\n",
    "    # Generate the optimizers.\n",
    "    optimizer_name = \"Adam\" \n",
    "    lr = 0.002918176734371477\n",
    "    optimizer = getattr(torch.optim, optimizer_name)(model.parameters(), lr=lr)\n",
    "\n",
    "    # Training of the model.\n",
    "    for epoch in range(EPOCHS):\n",
    "        model.train()\n",
    "        for batch_idx, (data, target) in enumerate(train_loader):\n",
    "            # Limiting training data for faster epochs.\n",
    "            if batch_idx * batch_size >= N_TRAIN_EXAMPLES:\n",
    "                break\n",
    "\n",
    "            data, target = data.view(data.size(0), -1).to(DEVICE), target.to(DEVICE)\n",
    "\n",
    "            optimizer.zero_grad()\n",
    "            output = model(data)\n",
    "            loss = F.nll_loss(output, target)\n",
    "            loss.backward()\n",
    "            optimizer.step()\n",
    "\n",
    "    # Remove last LogSoftmax layer\n",
    "    model = nn.Sequential(*list(model.children())[:-1])\n",
    "    return model\n",
    "\n",
    "\n",
    "class CustomQNetwork(QNetwork):\n",
    "    def __init__(\n",
    "        self,\n",
    "        observation_space: gym.spaces.Space,\n",
    "        action_space: gym.spaces.Space,\n",
    "        features_extractor: nn.Module,\n",
    "        features_dim: int,\n",
    "        net_arch: Optional[List[int]] = None,\n",
    "        activation_fn: Type[nn.Module] = nn.ReLU,\n",
    "        normalize_images: bool = True,\n",
    "    ):\n",
    "        super().__init__(observation_space, action_space, features_extractor, features_dim, \n",
    "            net_arch=net_arch, activation_fn=activation_fn, normalize_images=normalize_images)\n",
    "\n",
    "        dropout_arch = [0.097, 0.11]\n",
    "        q_net = create_dropout_mlp(self.features_dim, self.action_space.n, [115, 97], dropout_arch, nn.ReLU)\n",
    "        # q_net = create_dropout_mlp(self.features_dim, self.action_space.n, self.net_arch, dropout_arch, self.activation_fn)\n",
    "        self.q_net = nn.Sequential(*q_net)\n",
    "\n",
    "class CustomDQNPolicy(DQNPolicy):\n",
    "    def make_q_net(self):\n",
    "        # Make sure we always have separate networks for features extractors etc\n",
    "        net_args = self._update_features_extractor(self.net_args, features_extractor=None)\n",
    "        return CustomQNetwork(**net_args).to(self.device)"
   ]
  },
  {
   "cell_type": "code",
   "execution_count": 59,
   "metadata": {},
   "outputs": [
    {
     "data": {
      "text/plain": [
       "Sequential(\n",
       "  (0): Linear(in_features=83, out_features=115, bias=True)\n",
       "  (1): ReLU()\n",
       "  (2): Dropout(p=0.097, inplace=False)\n",
       "  (3): Linear(in_features=115, out_features=97, bias=True)\n",
       "  (4): ReLU()\n",
       "  (5): Dropout(p=0.11, inplace=False)\n",
       "  (6): Linear(in_features=97, out_features=3, bias=True)\n",
       ")"
      ]
     },
     "execution_count": 59,
     "metadata": {},
     "output_type": "execute_result"
    }
   ],
   "source": [
    "model = pretrain()\n",
    "model"
   ]
  },
  {
   "cell_type": "code",
   "execution_count": 60,
   "metadata": {},
   "outputs": [],
   "source": [
    "torch.save(model.state_dict(), \"pretrained.pth\")"
   ]
  },
  {
   "cell_type": "markdown",
   "metadata": {},
   "source": [
    "## Comparison with RandomForests"
   ]
  },
  {
   "cell_type": "code",
   "execution_count": 61,
   "metadata": {},
   "outputs": [
    {
     "data": {
      "text/html": [
       "<style>#sk-container-id-1 {color: black;background-color: white;}#sk-container-id-1 pre{padding: 0;}#sk-container-id-1 div.sk-toggleable {background-color: white;}#sk-container-id-1 label.sk-toggleable__label {cursor: pointer;display: block;width: 100%;margin-bottom: 0;padding: 0.3em;box-sizing: border-box;text-align: center;}#sk-container-id-1 label.sk-toggleable__label-arrow:before {content: \"▸\";float: left;margin-right: 0.25em;color: #696969;}#sk-container-id-1 label.sk-toggleable__label-arrow:hover:before {color: black;}#sk-container-id-1 div.sk-estimator:hover label.sk-toggleable__label-arrow:before {color: black;}#sk-container-id-1 div.sk-toggleable__content {max-height: 0;max-width: 0;overflow: hidden;text-align: left;background-color: #f0f8ff;}#sk-container-id-1 div.sk-toggleable__content pre {margin: 0.2em;color: black;border-radius: 0.25em;background-color: #f0f8ff;}#sk-container-id-1 input.sk-toggleable__control:checked~div.sk-toggleable__content {max-height: 200px;max-width: 100%;overflow: auto;}#sk-container-id-1 input.sk-toggleable__control:checked~label.sk-toggleable__label-arrow:before {content: \"▾\";}#sk-container-id-1 div.sk-estimator input.sk-toggleable__control:checked~label.sk-toggleable__label {background-color: #d4ebff;}#sk-container-id-1 div.sk-label input.sk-toggleable__control:checked~label.sk-toggleable__label {background-color: #d4ebff;}#sk-container-id-1 input.sk-hidden--visually {border: 0;clip: rect(1px 1px 1px 1px);clip: rect(1px, 1px, 1px, 1px);height: 1px;margin: -1px;overflow: hidden;padding: 0;position: absolute;width: 1px;}#sk-container-id-1 div.sk-estimator {font-family: monospace;background-color: #f0f8ff;border: 1px dotted black;border-radius: 0.25em;box-sizing: border-box;margin-bottom: 0.5em;}#sk-container-id-1 div.sk-estimator:hover {background-color: #d4ebff;}#sk-container-id-1 div.sk-parallel-item::after {content: \"\";width: 100%;border-bottom: 1px solid gray;flex-grow: 1;}#sk-container-id-1 div.sk-label:hover label.sk-toggleable__label {background-color: #d4ebff;}#sk-container-id-1 div.sk-serial::before {content: \"\";position: absolute;border-left: 1px solid gray;box-sizing: border-box;top: 0;bottom: 0;left: 50%;z-index: 0;}#sk-container-id-1 div.sk-serial {display: flex;flex-direction: column;align-items: center;background-color: white;padding-right: 0.2em;padding-left: 0.2em;position: relative;}#sk-container-id-1 div.sk-item {position: relative;z-index: 1;}#sk-container-id-1 div.sk-parallel {display: flex;align-items: stretch;justify-content: center;background-color: white;position: relative;}#sk-container-id-1 div.sk-item::before, #sk-container-id-1 div.sk-parallel-item::before {content: \"\";position: absolute;border-left: 1px solid gray;box-sizing: border-box;top: 0;bottom: 0;left: 50%;z-index: -1;}#sk-container-id-1 div.sk-parallel-item {display: flex;flex-direction: column;z-index: 1;position: relative;background-color: white;}#sk-container-id-1 div.sk-parallel-item:first-child::after {align-self: flex-end;width: 50%;}#sk-container-id-1 div.sk-parallel-item:last-child::after {align-self: flex-start;width: 50%;}#sk-container-id-1 div.sk-parallel-item:only-child::after {width: 0;}#sk-container-id-1 div.sk-dashed-wrapped {border: 1px dashed gray;margin: 0 0.4em 0.5em 0.4em;box-sizing: border-box;padding-bottom: 0.4em;background-color: white;}#sk-container-id-1 div.sk-label label {font-family: monospace;font-weight: bold;display: inline-block;line-height: 1.2em;}#sk-container-id-1 div.sk-label-container {text-align: center;}#sk-container-id-1 div.sk-container {/* jupyter's `normalize.less` sets `[hidden] { display: none; }` but bootstrap.min.css set `[hidden] { display: none !important; }` so we also need the `!important` here to be able to override the default hidden behavior on the sphinx rendered scikit-learn.org. See: https://github.com/scikit-learn/scikit-learn/issues/21755 */display: inline-block !important;position: relative;}#sk-container-id-1 div.sk-text-repr-fallback {display: none;}</style><div id=\"sk-container-id-1\" class=\"sk-top-container\"><div class=\"sk-text-repr-fallback\"><pre>RandomForestClassifier()</pre><b>In a Jupyter environment, please rerun this cell to show the HTML representation or trust the notebook. <br />On GitHub, the HTML representation is unable to render, please try loading this page with nbviewer.org.</b></div><div class=\"sk-container\" hidden><div class=\"sk-item\"><div class=\"sk-estimator sk-toggleable\"><input class=\"sk-toggleable__control sk-hidden--visually\" id=\"sk-estimator-id-1\" type=\"checkbox\" checked><label for=\"sk-estimator-id-1\" class=\"sk-toggleable__label sk-toggleable__label-arrow\">RandomForestClassifier</label><div class=\"sk-toggleable__content\"><pre>RandomForestClassifier()</pre></div></div></div></div></div>"
      ],
      "text/plain": [
       "RandomForestClassifier()"
      ]
     },
     "execution_count": 61,
     "metadata": {},
     "output_type": "execute_result"
    }
   ],
   "source": [
    "from sklearn.ensemble import RandomForestClassifier\n",
    "\n",
    "train, valid = get_data(1)\n",
    "X_train, y_train = map(np.array, zip(*train.dataset))\n",
    "X_test, y_test = map(np.array, zip(*valid.dataset))\n",
    "\n",
    "rf = RandomForestClassifier()\n",
    "rf.fit(X_train, y_train)"
   ]
  },
  {
   "cell_type": "code",
   "execution_count": 62,
   "metadata": {},
   "outputs": [
    {
     "name": "stdout",
     "output_type": "stream",
     "text": [
      "              precision    recall  f1-score   support\n",
      "\n",
      "           0       0.81      0.87      0.84      1204\n",
      "           1       0.93      0.90      0.92      2336\n",
      "           2       0.72      0.69      0.70       211\n",
      "\n",
      "    accuracy                           0.88      3751\n",
      "   macro avg       0.82      0.82      0.82      3751\n",
      "weighted avg       0.88      0.88      0.88      3751\n",
      "\n"
     ]
    }
   ],
   "source": [
    "# loss_fn(torch.tensor(rf.predict_proba(X_test)), torch.tensor(y_test))\n",
    "print(classification_report(y_test, rf.predict(X_test)))"
   ]
  },
  {
   "cell_type": "markdown",
   "metadata": {},
   "source": [
    "# Plots"
   ]
  },
  {
   "cell_type": "code",
   "execution_count": 2,
   "metadata": {},
   "outputs": [],
   "source": [
    "import joblib\n",
    "\n",
    "dagger_data = joblib.load(\"dagger_data.gz\")\n",
    "dagger_scores = dagger_data['score_history'][1:]"
   ]
  },
  {
   "cell_type": "code",
   "execution_count": 4,
   "metadata": {},
   "outputs": [],
   "source": [
    "import json\n",
    "\n",
    "with open(\"checkpoints/sb3_15/data\", \"r\") as f:\n",
    "    dqn_data = json.load(f)\n",
    "dqn_scores = dqn_data[\"_env_real_episode_scores\"]"
   ]
  },
  {
   "cell_type": "code",
   "execution_count": 5,
   "metadata": {},
   "outputs": [],
   "source": [
    "def moving_average(x, k=10):\n",
    "    y = []\n",
    "    s = 0\n",
    "    for i in range(min(k, len(x))):\n",
    "        s += x[i]\n",
    "        y.append(s / (i + 1))\n",
    "    for i in range(k, len(x)):\n",
    "        s = s - x[i - k] + x[i]\n",
    "        y.append(s / k)\n",
    "    return y"
   ]
  },
  {
   "cell_type": "code",
   "execution_count": 6,
   "metadata": {},
   "outputs": [
    {
     "data": {
      "image/png": "[encoded data removed]",
      "text/plain": [
       "<Figure size 640x480 with 1 Axes>"
      ]
     },
     "metadata": {},
     "output_type": "display_data"
    }
   ],
   "source": [
    "fig, ax = plt.subplots()\n",
    "\n",
    "ax.set_ylabel('Time [s]')\n",
    "ax.set_xlabel('Episode number')\n",
    "\n",
    "x = np.array(dagger_scores) / 60  # Seconds\n",
    "ax.plot(x, label=\"DAgger\")\n",
    "ax.plot(moving_average(x, k=10))\n",
    "\n",
    "x = np.array(dqn_scores) / 60  # Seconds\n",
    "ax.plot(x, label=\"DQN\")\n",
    "ax.plot(moving_average(x, k=10))\n",
    "\n",
    "ax.legend()\n",
    "fig.savefig(\"../figs/scores.png\", dpi=80)"
   ]
  }
 ],
 "metadata": {
  "kernelspec": {
   "display_name": "Python 3.10.4 ('superhaxagon')",
   "language": "python",
   "name": "python3"
  },
  "language_info": {
   "codemirror_mode": {
    "name": "ipython",
    "version": 3
   },
   "file_extension": ".py",
   "mimetype": "text/x-python",
   "name": "python",
   "nbconvert_exporter": "python",
   "pygments_lexer": "ipython3",
   "version": "3.10.4"
  },
  "orig_nbformat": 4,
  "vscode": {
   "interpreter": {
    "hash": "c5a61d06858d8fb3751a2376c7f867f9ff022440b1e799eb350c6860d0071cc1"
   }
  }
 },
 "nbformat": 4,
 "nbformat_minor": 2
}
