{
 "cells": [
  {
   "cell_type": "code",
   "execution_count": 9,
   "metadata": {},
   "outputs": [],
   "source": [
    "import numpy as np\n",
    "import pathlib\n",
    "import matplotlib.pyplot as plt\n",
    "from tqdm import tqdm\n",
    "import pandas as pd"
   ]
  },
  {
   "cell_type": "code",
   "execution_count": 2,
   "metadata": {},
   "outputs": [],
   "source": [
    "with open(\"../game_state_dqn.txt\", \"r\") as f:\n",
    "    lines = f.readlines()\n",
    "states = [list(map(float, line.strip().split())) for line in lines[::2]]\n",
    "actions = [float(line.strip()) for line in lines[1::2]]"
   ]
  },
  {
   "cell_type": "code",
   "execution_count": 3,
   "metadata": {},
   "outputs": [
    {
     "name": "stdout",
     "output_type": "stream",
     "text": [
      "(0.584683, 0.036819)\n",
      "0.5999920000000003\n"
     ]
    },
    {
     "data": {
      "text/plain": [
       "{'walls': array([[0.36377 , 0.036819],\n",
       "        [0.145066, 0.036819],\n",
       "        [0.584683, 0.036819],\n",
       "        [0.145066, 0.036819],\n",
       "        [0.36377 , 0.036819],\n",
       "        [0.145066, 0.036819]]),\n",
       " 'n_slots': 6,\n",
       " 'cur_slot': 2,\n",
       " 'player_pos': 2.466666,\n",
       " 'world_rotation': -1.0}"
      ]
     },
     "execution_count": 3,
     "metadata": {},
     "output_type": "execute_result"
    }
   ],
   "source": [
    "def state_to_struct(state: list) -> dict:\n",
    "    walls = np.array(state[:12]).reshape(6, 2)\n",
    "    n_slots = state[13:16].index(1) + 4\n",
    "    cur_slot = next(i for i, x in enumerate(state[16:16+6]) if x > 0)\n",
    "    return {\n",
    "        \"walls\": walls,\n",
    "        \"n_slots\": n_slots,\n",
    "        \"cur_slot\": cur_slot,\n",
    "        \"player_pos\": state[22] * n_slots,\n",
    "        \"world_rotation\": state[23],\n",
    "    }\n",
    "\n",
    "def get_cur_wall_dist(state_struct: dict) -> tuple:\n",
    "    dist, width = state_struct[\"walls\"][state_struct[\"cur_slot\"]]\n",
    "    return dist, width\n",
    "\n",
    "def get_cur_center_offset(state_struct: dict) -> float:\n",
    "    # -1: left edge, 0: center, 1: right edge\n",
    "    pos = state_struct[\"player_pos\"] * state_struct[\"n_slots\"] \n",
    "    return (pos % 1.0) * 2.0 - 1.0\n",
    "\n",
    "state_struct = state_to_struct(list(states[1000]))\n",
    "print(get_cur_wall_dist(state_struct))\n",
    "print(get_cur_center_offset(state_struct))\n",
    "state_struct"
   ]
  },
  {
   "cell_type": "code",
   "execution_count": 67,
   "metadata": {},
   "outputs": [
    {
     "data": {
      "text/plain": [
       "tensor([2, 2])"
      ]
     },
     "execution_count": 67,
     "metadata": {},
     "output_type": "execute_result"
    }
   ],
   "source": [
    "import torch\n",
    "p = torch.tensor([[1,2,3], [-1,-2,0]], dtype=torch.float32)\n",
    "c = torch.distributions.Categorical(logits=p)\n",
    "c.sample()"
   ]
  },
  {
   "cell_type": "code",
   "execution_count": 6,
   "metadata": {},
   "outputs": [
    {
     "name": "stderr",
     "output_type": "stream",
     "text": [
      "1000it [01:53,  8.83it/s]\n"
     ]
    },
    {
     "data": {
      "image/png": "[encoded data removed]",
      "text/plain": [
       "<Figure size 432x288 with 1 Axes>"
      ]
     },
     "metadata": {
      "needs_background": "light"
     },
     "output_type": "display_data"
    }
   ],
   "source": [
    "default_reward = 0.1\n",
    "reward_slot_center_amount = 0.2\n",
    "\n",
    "def reward(state_struct):\n",
    "    r = default_reward\n",
    "    center_offset = get_cur_center_offset(state_struct)\n",
    "    r += reward_slot_center_amount * pow(1 - abs(center_offset), 4)\n",
    "    wall_dist, wall_width = get_cur_wall_dist(state_struct)\n",
    "    r += wall_dist\n",
    "    return r\n",
    "\n",
    "def plot_state(ax, state):\n",
    "    state_struct = state_to_struct(state)\n",
    "    ax.set_ylim(0, 1.0)\n",
    "    ax.bar(list(range(state_struct[\"n_slots\"])), height=state_struct[\"walls\"][:state_struct[\"n_slots\"],1], bottom=state_struct[\"walls\"][:state_struct[\"n_slots\"],0], width=1.0, align='edge')\n",
    "    cur_slot = [0] * state_struct[\"n_slots\"]\n",
    "    cur_slot[state_struct[\"cur_slot\"]] = 1\n",
    "    ax.bar(list(range(state_struct[\"n_slots\"])), height=cur_slot, bottom=0, width=1.0, align='edge', alpha=0.5)  # Current player slot\n",
    "    ax.plot(state_struct[\"player_pos\"], 0, 'ro')  # Player position\n",
    "    ax.text(0.02, 0.9, f\"rotation = {state_struct['world_rotation']} | reward = {reward(state_struct)}\")\n",
    "\n",
    "fig, ax = plt.subplots()\n",
    "pathlib.Path(\"./figs/\").mkdir(parents=True, exist_ok=True)\n",
    "for i, state in tqdm(enumerate(states[1000:2000])):\n",
    "    ax.cla()\n",
    "    plot_state(ax, state)\n",
    "    plt.savefig(f\"./figs/{i:05}.png\")"
   ]
  },
  {
   "cell_type": "code",
   "execution_count": 7,
   "metadata": {},
   "outputs": [
    {
     "data": {
      "text/plain": [
       "0"
      ]
     },
     "execution_count": 7,
     "metadata": {},
     "output_type": "execute_result"
    }
   ],
   "source": [
    "import os\n",
    "os.system(\"ffmpeg -y -framerate 60 -i ./figs/%05d.png -c:v libx264 dqn_states.mp4\")"
   ]
  },
  {
   "cell_type": "code",
   "execution_count": 39,
   "metadata": {},
   "outputs": [],
   "source": [
    "cur_walls = []\n",
    "for s in states:\n",
    "    state_struct = state_to_struct(s)\n",
    "    wall = state_struct[\"walls\"][state_struct[\"cur_slot\"]]\n",
    "    cur_walls.append(wall)\n",
    "cur_walls = np.stack(cur_walls)\n",
    "dists = cur_walls[:, 0] * 5432\n",
    "widths = cur_walls[:, 1] * 2400"
   ]
  },
  {
   "cell_type": "code",
   "execution_count": 40,
   "metadata": {},
   "outputs": [
    {
     "data": {
      "text/plain": [
       "<AxesSubplot:ylabel='Frequency'>"
      ]
     },
     "execution_count": 40,
     "metadata": {},
     "output_type": "execute_result"
    },
    {
     "data": {
      "image/png": "[encoded data removed]",
      "text/plain": [
       "<Figure size 432x288 with 1 Axes>"
      ]
     },
     "metadata": {
      "needs_background": "light"
     },
     "output_type": "display_data"
    }
   ],
   "source": [
    "pd.Series(dists).plot.hist(bins=100)"
   ]
  },
  {
   "cell_type": "code",
   "execution_count": 41,
   "metadata": {},
   "outputs": [
    {
     "data": {
      "text/plain": [
       "166.9992"
      ]
     },
     "execution_count": 41,
     "metadata": {},
     "output_type": "execute_result"
    },
    {
     "data": {
      "image/png": "[encoded data removed]",
      "text/plain": [
       "<Figure size 432x288 with 1 Axes>"
      ]
     },
     "metadata": {
      "needs_background": "light"
     },
     "output_type": "display_data"
    }
   ],
   "source": [
    "pd.Series(widths[dists < 0.001]).plot.hist(bins=50)\n",
    "widths[dists < 0.001].max()\n",
    "# Conclusion: if dist + width < 0.07: false positive wall"
   ]
  },
  {
   "cell_type": "code",
   "execution_count": 6,
   "metadata": {},
   "outputs": [
    {
     "data": {
      "text/plain": [
       "<AxesSubplot:ylabel='Frequency'>"
      ]
     },
     "execution_count": 6,
     "metadata": {},
     "output_type": "execute_result"
    },
    {
     "data": {
      "image/png": "[encoded data removed]",
      "text/plain": [
       "<Figure size 432x288 with 1 Axes>"
      ]
     },
     "metadata": {
      "needs_background": "light"
     },
     "output_type": "display_data"
    }
   ],
   "source": [
    "wall_dists = [state_to_struct(s)[\"walls\"][:, 0] for s in states]\n",
    "pd.Series(np.stack(wall_dists).flatten()).plot.hist(bins=100)"
   ]
  },
  {
   "cell_type": "code",
   "execution_count": null,
   "metadata": {},
   "outputs": [],
   "source": []
  },
  {
   "cell_type": "code",
   "execution_count": 50,
   "metadata": {},
   "outputs": [
    {
     "name": "stdout",
     "output_type": "stream",
     "text": [
      "[0.9245396553821594, 0.24907641877394124, -0.5016171990847569]\n"
     ]
    },
    {
     "name": "stderr",
     "output_type": "stream",
     "text": [
      "e:\\Mare5\\dev\\projects\\ai-ml\\.venv\\lib\\site-packages\\ipykernel_launcher.py:17: RuntimeWarning: divide by zero encountered in power\n"
     ]
    },
    {
     "data": {
      "text/plain": [
       "[<matplotlib.lines.Line2D at 0x238abf3ce10>]"
      ]
     },
     "execution_count": 50,
     "metadata": {},
     "output_type": "execute_result"
    },
    {
     "data": {
      "image/png": "[encoded data removed]",
      "text/plain": [
       "<Figure size 432x288 with 1 Axes>"
      ]
     },
     "metadata": {
      "needs_background": "light"
     },
     "output_type": "display_data"
    }
   ],
   "source": [
    "import scipy.optimize\n",
    "import matplotlib.pyplot as plt\n",
    "\n",
    "a = -0.5\n",
    "b = 0.4\n",
    "thr = 0.07\n",
    "\n",
    "x = [0, thr, 0.5,  0.9, 1]\n",
    "y = [a,   0, 0.8*b, 0.99*b, b]\n",
    "t = np.linspace(0, 1)\n",
    "plt.plot(x, y, 'ro')\n",
    "\n",
    "plt.grid()\n",
    "plt.plot(t, np.polyval(np.polyfit(x, y, 4), t))\n",
    "\n",
    "def f(x, a, b, c):\n",
    "    return a*pow(x,b)+c\n",
    "\n",
    "p = scipy.optimize.curve_fit(f, x, y)[0]\n",
    "print(p.tolist())\n",
    "plt.plot(t, [f(x, *p) for x in t])"
   ]
  },
  {
   "cell_type": "code",
   "execution_count": null,
   "metadata": {},
   "outputs": [],
   "source": [
    "for state in states:\n",
    "    state_struct = state_to_struct(state)\n",
    "    if state_struct[\"n_slots\"] != 6:\n",
    "        print(np.where(state_struct[\"walls\"] == [1, 0])[0])"
   ]
  },
  {
   "cell_type": "code",
   "execution_count": 4,
   "metadata": {},
   "outputs": [
    {
     "data": {
      "text/plain": [
       "Counter({1: 9753, 2: 1448, 0: 4409})"
      ]
     },
     "execution_count": 4,
     "metadata": {},
     "output_type": "execute_result"
    }
   ],
   "source": [
    "from collections import Counter\n",
    "Counter(actions)"
   ]
  },
  {
   "cell_type": "code",
   "execution_count": null,
   "metadata": {},
   "outputs": [],
   "source": [
    "import numpy as np\n",
    "\n",
    "states = np.array(states, dtype=np.float32)\n",
    "actions = np.array(actions, dtype=np.int64) + 1  # (-1,0,1) -> (0,1,2)"
   ]
  },
  {
   "cell_type": "code",
   "execution_count": 5,
   "metadata": {},
   "outputs": [
    {
     "data": {
      "text/plain": [
       "((15610, 23), (15610,))"
      ]
     },
     "execution_count": 5,
     "metadata": {},
     "output_type": "execute_result"
    }
   ],
   "source": [
    "states.shape, actions.shape"
   ]
  },
  {
   "cell_type": "code",
   "execution_count": 5,
   "metadata": {},
   "outputs": [],
   "source": [
    "from qlearning import SupaNet\n",
    "import torch\n",
    "import torch.nn as nn\n",
    "\n",
    "# PyTorch TensorBoard support\n",
    "from torch.utils.tensorboard import SummaryWriter\n",
    "from datetime import datetime"
   ]
  },
  {
   "cell_type": "code",
   "execution_count": 13,
   "metadata": {},
   "outputs": [
    {
     "data": {
      "text/plain": [
       "SupaNet(\n",
       "  (net): Sequential(\n",
       "    (0): Linear(in_features=23, out_features=32, bias=True)\n",
       "    (1): ReLU()\n",
       "    (2): Linear(in_features=32, out_features=32, bias=True)\n",
       "    (3): ReLU()\n",
       "    (4): Linear(in_features=32, out_features=3, bias=True)\n",
       "  )\n",
       ")"
      ]
     },
     "execution_count": 13,
     "metadata": {},
     "output_type": "execute_result"
    }
   ],
   "source": [
    "device = torch.device(\"cuda\")\n",
    "\n",
    "INPUT_SIZE = 6*2 + 1 + 3 + 6 + 1\n",
    "OUT_SIZE = 3\n",
    "\n",
    "class SupaNet(nn.Module):\n",
    "    def __init__(self, sizes=[32, 32]):\n",
    "        super().__init__()\n",
    "\n",
    "        sizes = [INPUT_SIZE] + sizes + [OUT_SIZE]\n",
    "        self.net = nn.Sequential()\n",
    "        for idx, (in_size, out_size) in enumerate(zip(sizes, sizes[1:])):\n",
    "            self.net.add_module(str(2*idx), nn.Linear(in_size, out_size))\n",
    "            if idx < len(sizes) - 2:\n",
    "                self.net.add_module(str(2*idx + 1), nn.ReLU())\n",
    "\n",
    "    def forward(self, state):\n",
    "        return self.net(state)\n",
    "\n",
    "net = SupaNet()\n",
    "net.to(device)"
   ]
  },
  {
   "cell_type": "code",
   "execution_count": 8,
   "metadata": {},
   "outputs": [
    {
     "data": {
      "text/plain": [
       "((12488, 23), (3122, 23), (12488,), (3122,))"
      ]
     },
     "execution_count": 8,
     "metadata": {},
     "output_type": "execute_result"
    }
   ],
   "source": [
    "from sklearn.model_selection import train_test_split\n",
    "from sklearn.metrics import classification_report\n",
    "\n",
    "X_train, X_test, y_train, y_test = train_test_split(states, actions, test_size=0.2, shuffle=False, random_state=42)\n",
    "X_train.shape, X_test.shape, y_train.shape, y_test.shape"
   ]
  },
  {
   "cell_type": "code",
   "execution_count": 9,
   "metadata": {},
   "outputs": [],
   "source": [
    "training_loader = torch.utils.data.DataLoader(list(zip(X_train, y_train)), batch_size=8)\n",
    "validation_loader = torch.utils.data.DataLoader(list(zip(X_test, y_test)), batch_size=8)"
   ]
  },
  {
   "cell_type": "code",
   "execution_count": 10,
   "metadata": {},
   "outputs": [],
   "source": [
    "loss_fn = torch.nn.CrossEntropyLoss()\n",
    "# optimizer = torch.optim.SGD(net.parameters(), lr=0.001, momentum=0.9)\n",
    "optimizer = torch.optim.Adam(net.parameters())"
   ]
  },
  {
   "cell_type": "code",
   "execution_count": 11,
   "metadata": {},
   "outputs": [],
   "source": [
    "def train_one_epoch(epoch_index, tb_writer):\n",
    "    running_loss = 0.\n",
    "    last_loss = 0.\n",
    "\n",
    "    # Here, we use enumerate(training_loader) instead of\n",
    "    # iter(training_loader) so that we can track the batch\n",
    "    # index and do some intra-epoch reporting\n",
    "    for i, data in enumerate(training_loader):\n",
    "        # Every data instance is an input + label pair\n",
    "        inputs, labels = [x.to(device) for x in data]\n",
    "\n",
    "        # Zero your gradients for every batch!\n",
    "        optimizer.zero_grad()\n",
    "\n",
    "        # Make predictions for this batch\n",
    "        outputs = net(inputs)\n",
    "\n",
    "        # Compute the loss and its gradients\n",
    "        loss = loss_fn(outputs, labels)\n",
    "        loss.backward()\n",
    "\n",
    "        # Adjust learning weights\n",
    "        optimizer.step()\n",
    "\n",
    "        # Gather data and report\n",
    "        running_loss += loss.item()\n",
    "        if i % 100 == 99:\n",
    "            last_loss = running_loss / 100 # loss per batch\n",
    "            # print('  batch {} loss: {}'.format(i + 1, last_loss))\n",
    "            tb_x = epoch_index * len(training_loader) + i + 1\n",
    "            tb_writer.add_scalar('Loss/train', last_loss, tb_x)\n",
    "            running_loss = 0.\n",
    "\n",
    "    return last_loss"
   ]
  },
  {
   "cell_type": "code",
   "execution_count": 12,
   "metadata": {},
   "outputs": [
    {
     "name": "stdout",
     "output_type": "stream",
     "text": [
      "EPOCH 1:\n",
      "LOSS train 0.9027048644423484 valid 0.970861554145813\n",
      "EPOCH 2:\n"
     ]
    },
    {
     "name": "stderr",
     "output_type": "stream",
     "text": [
      "C:\\Python\\Python37\\lib\\site-packages\\sklearn\\metrics\\_classification.py:1221: UndefinedMetricWarning: Precision and F-score are ill-defined and being set to 0.0 in labels with no predicted samples. Use `zero_division` parameter to control this behavior.\n",
      "  _warn_prf(average, modifier, msg_start, len(result))\n"
     ]
    },
    {
     "name": "stdout",
     "output_type": "stream",
     "text": [
      "LOSS train 0.884852973818779 valid 0.9576802849769592\n",
      "EPOCH 3:\n",
      "LOSS train 0.8820003154873848 valid 0.9376650452613831\n",
      "EPOCH 4:\n",
      "LOSS train 0.8651342153549194 valid 0.9078496098518372\n",
      "EPOCH 5:\n",
      "LOSS train 0.8437477532029152 valid 0.8836408257484436\n",
      "EPOCH 6:\n",
      "LOSS train 0.8295933681726456 valid 0.8642547130584717\n",
      "EPOCH 7:\n",
      "LOSS train 0.8173235502839088 valid 0.8579893112182617\n",
      "EPOCH 8:\n",
      "LOSS train 0.8080111902207137 valid 0.8514537811279297\n",
      "EPOCH 9:\n",
      "LOSS train 0.7909697487205267 valid 0.8449496030807495\n",
      "EPOCH 10:\n",
      "LOSS train 0.7719374264031649 valid 0.841335654258728\n",
      "EPOCH 11:\n",
      "LOSS train 0.7563144059851765 valid 0.8268942832946777\n",
      "EPOCH 12:\n",
      "LOSS train 0.7466896623373032 valid 0.8396028876304626\n",
      "EPOCH 13:\n",
      "LOSS train 0.7251931758411229 valid 0.8512082099914551\n",
      "EPOCH 14:\n",
      "LOSS train 0.7177937093749642 valid 0.8601573705673218\n",
      "EPOCH 15:\n",
      "LOSS train 0.7080641420185566 valid 0.867321789264679\n",
      "EPOCH 16:\n",
      "LOSS train 0.6961159419687465 valid 0.8868681192398071\n",
      "EPOCH 17:\n",
      "LOSS train 0.6855133843421936 valid 0.8948096632957458\n",
      "EPOCH 18:\n",
      "LOSS train 0.6722505917679519 valid 0.9227052927017212\n",
      "EPOCH 19:\n",
      "LOSS train 0.6596967194485478 valid 0.9186060428619385\n",
      "EPOCH 20:\n",
      "LOSS train 0.6534269471350126 valid 0.9202719926834106\n",
      "EPOCH 21:\n",
      "LOSS train 0.6437882439175155 valid 0.9241753816604614\n",
      "EPOCH 22:\n"
     ]
    },
    {
     "ename": "KeyboardInterrupt",
     "evalue": "",
     "output_type": "error",
     "traceback": [
      "\u001b[1;31m---------------------------------------------------------------------------\u001b[0m",
      "\u001b[1;31mKeyboardInterrupt\u001b[0m                         Traceback (most recent call last)",
      "\u001b[1;32m<ipython-input-12-0038845c9ce9>\u001b[0m in \u001b[0;36m<module>\u001b[1;34m\u001b[0m\n\u001b[0;32m     13\u001b[0m     \u001b[1;31m# Make sure gradient tracking is on, and do a pass over the data\u001b[0m\u001b[1;33m\u001b[0m\u001b[1;33m\u001b[0m\u001b[1;33m\u001b[0m\u001b[0m\n\u001b[0;32m     14\u001b[0m     \u001b[0mnet\u001b[0m\u001b[1;33m.\u001b[0m\u001b[0mtrain\u001b[0m\u001b[1;33m(\u001b[0m\u001b[1;32mTrue\u001b[0m\u001b[1;33m)\u001b[0m\u001b[1;33m\u001b[0m\u001b[1;33m\u001b[0m\u001b[0m\n\u001b[1;32m---> 15\u001b[1;33m     \u001b[0mavg_loss\u001b[0m \u001b[1;33m=\u001b[0m \u001b[0mtrain_one_epoch\u001b[0m\u001b[1;33m(\u001b[0m\u001b[0mepoch_number\u001b[0m\u001b[1;33m,\u001b[0m \u001b[0mwriter\u001b[0m\u001b[1;33m)\u001b[0m\u001b[1;33m\u001b[0m\u001b[1;33m\u001b[0m\u001b[0m\n\u001b[0m\u001b[0;32m     16\u001b[0m \u001b[1;33m\u001b[0m\u001b[0m\n\u001b[0;32m     17\u001b[0m     \u001b[1;31m# We don't need gradients on to do reporting\u001b[0m\u001b[1;33m\u001b[0m\u001b[1;33m\u001b[0m\u001b[1;33m\u001b[0m\u001b[0m\n",
      "\u001b[1;32m<ipython-input-11-b13433b08b08>\u001b[0m in \u001b[0;36mtrain_one_epoch\u001b[1;34m(epoch_index, tb_writer)\u001b[0m\n\u001b[0;32m     21\u001b[0m \u001b[1;33m\u001b[0m\u001b[0m\n\u001b[0;32m     22\u001b[0m         \u001b[1;31m# Adjust learning weights\u001b[0m\u001b[1;33m\u001b[0m\u001b[1;33m\u001b[0m\u001b[1;33m\u001b[0m\u001b[0m\n\u001b[1;32m---> 23\u001b[1;33m         \u001b[0moptimizer\u001b[0m\u001b[1;33m.\u001b[0m\u001b[0mstep\u001b[0m\u001b[1;33m(\u001b[0m\u001b[1;33m)\u001b[0m\u001b[1;33m\u001b[0m\u001b[1;33m\u001b[0m\u001b[0m\n\u001b[0m\u001b[0;32m     24\u001b[0m \u001b[1;33m\u001b[0m\u001b[0m\n\u001b[0;32m     25\u001b[0m         \u001b[1;31m# Gather data and report\u001b[0m\u001b[1;33m\u001b[0m\u001b[1;33m\u001b[0m\u001b[1;33m\u001b[0m\u001b[0m\n",
      "\u001b[1;32me:\\Mare5\\dev\\projects\\ai-ml\\.venv\\lib\\site-packages\\torch\\autograd\\grad_mode.py\u001b[0m in \u001b[0;36mdecorate_context\u001b[1;34m(*args, **kwargs)\u001b[0m\n\u001b[0;32m     24\u001b[0m         \u001b[1;32mdef\u001b[0m \u001b[0mdecorate_context\u001b[0m\u001b[1;33m(\u001b[0m\u001b[1;33m*\u001b[0m\u001b[0margs\u001b[0m\u001b[1;33m,\u001b[0m \u001b[1;33m**\u001b[0m\u001b[0mkwargs\u001b[0m\u001b[1;33m)\u001b[0m\u001b[1;33m:\u001b[0m\u001b[1;33m\u001b[0m\u001b[1;33m\u001b[0m\u001b[0m\n\u001b[0;32m     25\u001b[0m             \u001b[1;32mwith\u001b[0m \u001b[0mself\u001b[0m\u001b[1;33m.\u001b[0m\u001b[0m__class__\u001b[0m\u001b[1;33m(\u001b[0m\u001b[1;33m)\u001b[0m\u001b[1;33m:\u001b[0m\u001b[1;33m\u001b[0m\u001b[1;33m\u001b[0m\u001b[0m\n\u001b[1;32m---> 26\u001b[1;33m                 \u001b[1;32mreturn\u001b[0m \u001b[0mfunc\u001b[0m\u001b[1;33m(\u001b[0m\u001b[1;33m*\u001b[0m\u001b[0margs\u001b[0m\u001b[1;33m,\u001b[0m \u001b[1;33m**\u001b[0m\u001b[0mkwargs\u001b[0m\u001b[1;33m)\u001b[0m\u001b[1;33m\u001b[0m\u001b[1;33m\u001b[0m\u001b[0m\n\u001b[0m\u001b[0;32m     27\u001b[0m         \u001b[1;32mreturn\u001b[0m \u001b[0mcast\u001b[0m\u001b[1;33m(\u001b[0m\u001b[0mF\u001b[0m\u001b[1;33m,\u001b[0m \u001b[0mdecorate_context\u001b[0m\u001b[1;33m)\u001b[0m\u001b[1;33m\u001b[0m\u001b[1;33m\u001b[0m\u001b[0m\n\u001b[0;32m     28\u001b[0m \u001b[1;33m\u001b[0m\u001b[0m\n",
      "\u001b[1;32me:\\Mare5\\dev\\projects\\ai-ml\\.venv\\lib\\site-packages\\torch\\optim\\adam.py\u001b[0m in \u001b[0;36mstep\u001b[1;34m(self, closure)\u001b[0m\n\u001b[0;32m    117\u001b[0m                    \u001b[0mgroup\u001b[0m\u001b[1;33m[\u001b[0m\u001b[1;34m'lr'\u001b[0m\u001b[1;33m]\u001b[0m\u001b[1;33m,\u001b[0m\u001b[1;33m\u001b[0m\u001b[1;33m\u001b[0m\u001b[0m\n\u001b[0;32m    118\u001b[0m                    \u001b[0mgroup\u001b[0m\u001b[1;33m[\u001b[0m\u001b[1;34m'weight_decay'\u001b[0m\u001b[1;33m]\u001b[0m\u001b[1;33m,\u001b[0m\u001b[1;33m\u001b[0m\u001b[1;33m\u001b[0m\u001b[0m\n\u001b[1;32m--> 119\u001b[1;33m                    \u001b[0mgroup\u001b[0m\u001b[1;33m[\u001b[0m\u001b[1;34m'eps'\u001b[0m\u001b[1;33m]\u001b[0m\u001b[1;33m\u001b[0m\u001b[1;33m\u001b[0m\u001b[0m\n\u001b[0m\u001b[0;32m    120\u001b[0m                    )\n\u001b[0;32m    121\u001b[0m         \u001b[1;32mreturn\u001b[0m \u001b[0mloss\u001b[0m\u001b[1;33m\u001b[0m\u001b[1;33m\u001b[0m\u001b[0m\n",
      "\u001b[1;32me:\\Mare5\\dev\\projects\\ai-ml\\.venv\\lib\\site-packages\\torch\\optim\\functional.py\u001b[0m in \u001b[0;36madam\u001b[1;34m(params, grads, exp_avgs, exp_avg_sqs, max_exp_avg_sqs, state_steps, amsgrad, beta1, beta2, lr, weight_decay, eps)\u001b[0m\n\u001b[0;32m     92\u001b[0m             \u001b[0mdenom\u001b[0m \u001b[1;33m=\u001b[0m \u001b[1;33m(\u001b[0m\u001b[0mmax_exp_avg_sq\u001b[0m\u001b[1;33m.\u001b[0m\u001b[0msqrt\u001b[0m\u001b[1;33m(\u001b[0m\u001b[1;33m)\u001b[0m \u001b[1;33m/\u001b[0m \u001b[0mmath\u001b[0m\u001b[1;33m.\u001b[0m\u001b[0msqrt\u001b[0m\u001b[1;33m(\u001b[0m\u001b[0mbias_correction2\u001b[0m\u001b[1;33m)\u001b[0m\u001b[1;33m)\u001b[0m\u001b[1;33m.\u001b[0m\u001b[0madd_\u001b[0m\u001b[1;33m(\u001b[0m\u001b[0meps\u001b[0m\u001b[1;33m)\u001b[0m\u001b[1;33m\u001b[0m\u001b[1;33m\u001b[0m\u001b[0m\n\u001b[0;32m     93\u001b[0m         \u001b[1;32melse\u001b[0m\u001b[1;33m:\u001b[0m\u001b[1;33m\u001b[0m\u001b[1;33m\u001b[0m\u001b[0m\n\u001b[1;32m---> 94\u001b[1;33m             \u001b[0mdenom\u001b[0m \u001b[1;33m=\u001b[0m \u001b[1;33m(\u001b[0m\u001b[0mexp_avg_sq\u001b[0m\u001b[1;33m.\u001b[0m\u001b[0msqrt\u001b[0m\u001b[1;33m(\u001b[0m\u001b[1;33m)\u001b[0m \u001b[1;33m/\u001b[0m \u001b[0mmath\u001b[0m\u001b[1;33m.\u001b[0m\u001b[0msqrt\u001b[0m\u001b[1;33m(\u001b[0m\u001b[0mbias_correction2\u001b[0m\u001b[1;33m)\u001b[0m\u001b[1;33m)\u001b[0m\u001b[1;33m.\u001b[0m\u001b[0madd_\u001b[0m\u001b[1;33m(\u001b[0m\u001b[0meps\u001b[0m\u001b[1;33m)\u001b[0m\u001b[1;33m\u001b[0m\u001b[1;33m\u001b[0m\u001b[0m\n\u001b[0m\u001b[0;32m     95\u001b[0m \u001b[1;33m\u001b[0m\u001b[0m\n\u001b[0;32m     96\u001b[0m         \u001b[0mstep_size\u001b[0m \u001b[1;33m=\u001b[0m \u001b[0mlr\u001b[0m \u001b[1;33m/\u001b[0m \u001b[0mbias_correction1\u001b[0m\u001b[1;33m\u001b[0m\u001b[1;33m\u001b[0m\u001b[0m\n",
      "\u001b[1;31mKeyboardInterrupt\u001b[0m: "
     ]
    }
   ],
   "source": [
    "# Initializing in a separate cell so we can easily add more epochs to the same run\n",
    "timestamp = datetime.now().strftime('%Y%m%d_%H%M%S')\n",
    "writer = SummaryWriter('runs/asdf_{}'.format(timestamp))\n",
    "epoch_number = 0\n",
    "\n",
    "EPOCHS = 100\n",
    "\n",
    "best_vloss = 1_000_000.\n",
    "\n",
    "for epoch in range(EPOCHS):\n",
    "    print('EPOCH {}:'.format(epoch_number + 1))\n",
    "    \n",
    "    # Make sure gradient tracking is on, and do a pass over the data\n",
    "    net.train(True)\n",
    "    avg_loss = train_one_epoch(epoch_number, writer)\n",
    "    \n",
    "    # We don't need gradients on to do reporting\n",
    "    net.train(False)\n",
    "    running_vloss = 0.0\n",
    "    y_pred = []\n",
    "    y_true = []\n",
    "    for i, vdata in enumerate(validation_loader):\n",
    "        vinputs, vlabels = [x.to(device) for x in vdata]\n",
    "        with torch.no_grad():\n",
    "            voutputs = net(vinputs)\n",
    "        vloss = loss_fn(voutputs, vlabels)\n",
    "        running_vloss += vloss\n",
    "        y_pred.append(voutputs.cpu())\n",
    "        y_true.append(vlabels.cpu())\n",
    "    \n",
    "    avg_vloss = running_vloss / (i + 1)\n",
    "    print('LOSS train {} valid {}'.format(avg_loss, avg_vloss))\n",
    "    \n",
    "    writer.add_text(\"classification_report\", classification_report(torch.cat(y_true), torch.cat(y_pred).argmax(1)), epoch_number + 1)\n",
    "\n",
    "    # Log the running loss averaged per batch\n",
    "    # for both training and validation\n",
    "    writer.add_scalars('Training vs. Validation Loss',\n",
    "                    { 'Training' : avg_loss, 'Validation' : avg_vloss },\n",
    "                    epoch_number + 1)\n",
    "    writer.flush()\n",
    "    \n",
    "    # Track best performance, and save the model's state\n",
    "    if avg_vloss < best_vloss:\n",
    "        best_vloss = avg_vloss\n",
    "        model_path = 'model_{}_{}'.format(timestamp, epoch_number)\n",
    "        # torch.save(net.state_dict(), model_path)\n",
    "    \n",
    "    epoch_number += 1\n",
    "writer.add_hparams({ \"bs\": 8 }, { \"vloss\": avg_vloss })"
   ]
  },
  {
   "cell_type": "code",
   "execution_count": 18,
   "metadata": {},
   "outputs": [
    {
     "data": {
      "text/plain": [
       "tensor(0.7943, dtype=torch.float64)"
      ]
     },
     "execution_count": 18,
     "metadata": {},
     "output_type": "execute_result"
    }
   ],
   "source": [
    "from sklearn.ensemble import RandomForestClassifier\n",
    "\n",
    "rf = RandomForestClassifier()\n",
    "rf.fit(X_train, y_train)\n",
    "loss_fn(torch.tensor(rf.predict_proba(X_test)), torch.tensor(y_test))"
   ]
  },
  {
   "cell_type": "code",
   "execution_count": 20,
   "metadata": {},
   "outputs": [
    {
     "name": "stdout",
     "output_type": "stream",
     "text": [
      "              precision    recall  f1-score   support\n",
      "\n",
      "           0       0.74      0.88      0.80      1210\n",
      "           1       0.84      0.89      0.86      1422\n",
      "           2       0.87      0.31      0.46       490\n",
      "\n",
      "    accuracy                           0.79      3122\n",
      "   macro avg       0.82      0.69      0.71      3122\n",
      "weighted avg       0.81      0.79      0.78      3122\n",
      "\n"
     ]
    }
   ],
   "source": [
    "print(classification_report(y_test, rf.predict(X_test)))"
   ]
  }
 ],
 "metadata": {
  "kernelspec": {
   "display_name": "Python 3.7.3 64-bit (system)",
   "language": "python",
   "name": "python3"
  },
  "language_info": {
   "codemirror_mode": {
    "name": "ipython",
    "version": 3
   },
   "file_extension": ".py",
   "mimetype": "text/x-python",
   "name": "python",
   "nbconvert_exporter": "python",
   "pygments_lexer": "ipython3",
   "version": "3.7.3"
  },
  "orig_nbformat": 4,
  "vscode": {
   "interpreter": {
    "hash": "ef18b9d3a9a058520c11c23a1e5c6b1db8116c7564aa47fdc42d63ea70a893b5"
   }
  }
 },
 "nbformat": 4,
 "nbformat_minor": 2
}
